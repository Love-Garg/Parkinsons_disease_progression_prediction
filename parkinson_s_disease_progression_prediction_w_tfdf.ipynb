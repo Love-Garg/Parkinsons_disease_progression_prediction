{
  "cells": [
    {
      "cell_type": "markdown",
      "id": "655e19ef",
      "metadata": {
        "papermill": {
          "duration": 0.019433,
          "end_time": "2023-05-11T05:58:32.652114",
          "exception": false,
          "start_time": "2023-05-11T05:58:32.632681",
          "status": "completed"
        },
        "tags": [],
        "id": "655e19ef"
      },
      "source": [
        "# Import the Required Libraries"
      ]
    },
    {
      "cell_type": "code",
      "execution_count": null,
      "id": "1895c56e",
      "metadata": {
        "execution": {
          "iopub.execute_input": "2023-05-11T05:58:32.694181Z",
          "iopub.status.busy": "2023-05-11T05:58:32.692894Z",
          "iopub.status.idle": "2023-05-11T05:58:42.410866Z",
          "shell.execute_reply": "2023-05-11T05:58:42.409626Z"
        },
        "papermill": {
          "duration": 9.74206,
          "end_time": "2023-05-11T05:58:42.413878",
          "exception": false,
          "start_time": "2023-05-11T05:58:32.671818",
          "status": "completed"
        },
        "tags": [],
        "id": "1895c56e"
      },
      "outputs": [],
      "source": [
        "import tensorflow as tf\n",
        "import tensorflow_decision_forests as tfdf\n",
        "import matplotlib.pyplot as plt\n",
        "import seaborn as sns\n",
        "import pandas as pd\n",
        "import numpy as np\n",
        "import math"
      ]
    },
    {
      "cell_type": "markdown",
      "id": "f0db80a1",
      "metadata": {
        "papermill": {
          "duration": 0.0215,
          "end_time": "2023-05-11T05:58:42.507273",
          "exception": false,
          "start_time": "2023-05-11T05:58:42.485773",
          "status": "completed"
        },
        "tags": [],
        "id": "f0db80a1"
      },
      "source": [
        "# Load the Dataset"
      ]
    },
    {
      "cell_type": "markdown",
      "id": "ca2914b8",
      "metadata": {
        "papermill": {
          "duration": 0.020179,
          "end_time": "2023-05-11T05:58:42.547833",
          "exception": false,
          "start_time": "2023-05-11T05:58:42.527654",
          "status": "completed"
        },
        "tags": [],
        "id": "ca2914b8"
      },
      "source": [
        "First, let us load the dataset using Pandas."
      ]
    },
    {
      "cell_type": "code",
      "execution_count": null,
      "id": "52d981db",
      "metadata": {
        "execution": {
          "iopub.execute_input": "2023-05-11T05:58:42.590592Z",
          "iopub.status.busy": "2023-05-11T05:58:42.590159Z",
          "iopub.status.idle": "2023-05-11T05:58:44.371810Z",
          "shell.execute_reply": "2023-05-11T05:58:44.370767Z"
        },
        "papermill": {
          "duration": 1.806051,
          "end_time": "2023-05-11T05:58:44.374657",
          "exception": false,
          "start_time": "2023-05-11T05:58:42.568606",
          "status": "completed"
        },
        "tags": [],
        "id": "52d981db"
      },
      "outputs": [],
      "source": [
        "# Load a dataset into a Pandas DataFrame\n",
        "train_proteins = pd.read_csv(\"/kaggle/input/amp-parkinsons-disease-progression-prediction/train_proteins.csv\")\n",
        "train_peptides = pd.read_csv(\"/kaggle/input/amp-parkinsons-disease-progression-prediction/train_peptides.csv\")\n",
        "train_clinical = pd.read_csv(\"/kaggle/input/amp-parkinsons-disease-progression-prediction/train_clinical_data.csv\")"
      ]
    },
    {
      "cell_type": "markdown",
      "id": "28e3f796",
      "metadata": {
        "papermill": {
          "duration": 0.020681,
          "end_time": "2023-05-11T05:58:44.415605",
          "exception": false,
          "start_time": "2023-05-11T05:58:44.394924",
          "status": "completed"
        },
        "tags": [],
        "id": "28e3f796"
      },
      "source": [
        "We will now examine each of these DataFrames in detail."
      ]
    },
    {
      "cell_type": "markdown",
      "id": "c78feafe",
      "metadata": {
        "papermill": {
          "duration": 0.019647,
          "end_time": "2023-05-11T05:58:44.455101",
          "exception": false,
          "start_time": "2023-05-11T05:58:44.435454",
          "status": "completed"
        },
        "tags": [],
        "id": "c78feafe"
      },
      "source": [
        "UPDRS is a rating instrument used to measure the the severity and progression of Parkinson’s disease in patients.\n",
        "When a patient visits the clinic, the clinic will record how the patient scored on 4 parts of  UPDRS test. This data can be found in `train_clinical`. The ratings for the the first 4 segments of UPDRS are available as `updrs_1`, `updrs_2`, `updrs_3` and `updrs_4` in `train_clinical`.\n",
        "Our goal is to train a model to predict these UPDRS ratings."
      ]
    },
    {
      "cell_type": "markdown",
      "id": "7bd85dea",
      "metadata": {
        "papermill": {
          "duration": 0.019446,
          "end_time": "2023-05-11T05:58:44.494420",
          "exception": false,
          "start_time": "2023-05-11T05:58:44.474974",
          "status": "completed"
        },
        "tags": [],
        "id": "7bd85dea"
      },
      "source": [
        "Let us examine the shape of `train_clinical` DataFrame."
      ]
    },
    {
      "cell_type": "code",
      "execution_count": null,
      "id": "0b9bd4af",
      "metadata": {
        "execution": {
          "iopub.execute_input": "2023-05-11T05:58:44.536406Z",
          "iopub.status.busy": "2023-05-11T05:58:44.535903Z",
          "iopub.status.idle": "2023-05-11T05:58:44.541762Z",
          "shell.execute_reply": "2023-05-11T05:58:44.540529Z"
        },
        "papermill": {
          "duration": 0.030313,
          "end_time": "2023-05-11T05:58:44.544500",
          "exception": false,
          "start_time": "2023-05-11T05:58:44.514187",
          "status": "completed"
        },
        "tags": [],
        "id": "0b9bd4af",
        "outputId": "e9c701b3-a1f5-4865-8abc-46aacda190e6"
      },
      "outputs": [
        {
          "name": "stdout",
          "output_type": "stream",
          "text": [
            "clinical dataset shape:   (2615, 8)\n"
          ]
        }
      ],
      "source": [
        "print('clinical dataset shape:  ', train_clinical.shape)"
      ]
    },
    {
      "cell_type": "markdown",
      "id": "83123b94",
      "metadata": {
        "papermill": {
          "duration": 0.019673,
          "end_time": "2023-05-11T05:58:44.584246",
          "exception": false,
          "start_time": "2023-05-11T05:58:44.564573",
          "status": "completed"
        },
        "tags": [],
        "id": "83123b94"
      },
      "source": [
        "The `train_clinical` data is composed of ***8* columns** and ***2615* entries**.  We can see all 8 dimensions of our dataset by printing out the first 5 entries using the following code:"
      ]
    },
    {
      "cell_type": "code",
      "execution_count": null,
      "id": "361c4a8b",
      "metadata": {
        "execution": {
          "iopub.execute_input": "2023-05-11T05:58:44.626436Z",
          "iopub.status.busy": "2023-05-11T05:58:44.625951Z",
          "iopub.status.idle": "2023-05-11T05:58:44.665191Z",
          "shell.execute_reply": "2023-05-11T05:58:44.663929Z"
        },
        "papermill": {
          "duration": 0.063679,
          "end_time": "2023-05-11T05:58:44.667990",
          "exception": false,
          "start_time": "2023-05-11T05:58:44.604311",
          "status": "completed"
        },
        "tags": [],
        "id": "361c4a8b",
        "outputId": "fd3c8df1-7871-46e4-de24-9cd86e03bf62"
      },
      "outputs": [
        {
          "data": {
            "text/html": [
              "<div>\n",
              "<style scoped>\n",
              "    .dataframe tbody tr th:only-of-type {\n",
              "        vertical-align: middle;\n",
              "    }\n",
              "\n",
              "    .dataframe tbody tr th {\n",
              "        vertical-align: top;\n",
              "    }\n",
              "\n",
              "    .dataframe thead th {\n",
              "        text-align: right;\n",
              "    }\n",
              "</style>\n",
              "<table border=\"1\" class=\"dataframe\">\n",
              "  <thead>\n",
              "    <tr style=\"text-align: right;\">\n",
              "      <th></th>\n",
              "      <th>visit_id</th>\n",
              "      <th>patient_id</th>\n",
              "      <th>visit_month</th>\n",
              "      <th>updrs_1</th>\n",
              "      <th>updrs_2</th>\n",
              "      <th>updrs_3</th>\n",
              "      <th>updrs_4</th>\n",
              "      <th>upd23b_clinical_state_on_medication</th>\n",
              "    </tr>\n",
              "  </thead>\n",
              "  <tbody>\n",
              "    <tr>\n",
              "      <th>0</th>\n",
              "      <td>55_0</td>\n",
              "      <td>55</td>\n",
              "      <td>0</td>\n",
              "      <td>10.0</td>\n",
              "      <td>6.0</td>\n",
              "      <td>15.0</td>\n",
              "      <td>NaN</td>\n",
              "      <td>NaN</td>\n",
              "    </tr>\n",
              "    <tr>\n",
              "      <th>1</th>\n",
              "      <td>55_3</td>\n",
              "      <td>55</td>\n",
              "      <td>3</td>\n",
              "      <td>10.0</td>\n",
              "      <td>7.0</td>\n",
              "      <td>25.0</td>\n",
              "      <td>NaN</td>\n",
              "      <td>NaN</td>\n",
              "    </tr>\n",
              "    <tr>\n",
              "      <th>2</th>\n",
              "      <td>55_6</td>\n",
              "      <td>55</td>\n",
              "      <td>6</td>\n",
              "      <td>8.0</td>\n",
              "      <td>10.0</td>\n",
              "      <td>34.0</td>\n",
              "      <td>NaN</td>\n",
              "      <td>NaN</td>\n",
              "    </tr>\n",
              "    <tr>\n",
              "      <th>3</th>\n",
              "      <td>55_9</td>\n",
              "      <td>55</td>\n",
              "      <td>9</td>\n",
              "      <td>8.0</td>\n",
              "      <td>9.0</td>\n",
              "      <td>30.0</td>\n",
              "      <td>0.0</td>\n",
              "      <td>On</td>\n",
              "    </tr>\n",
              "    <tr>\n",
              "      <th>4</th>\n",
              "      <td>55_12</td>\n",
              "      <td>55</td>\n",
              "      <td>12</td>\n",
              "      <td>10.0</td>\n",
              "      <td>10.0</td>\n",
              "      <td>41.0</td>\n",
              "      <td>0.0</td>\n",
              "      <td>On</td>\n",
              "    </tr>\n",
              "  </tbody>\n",
              "</table>\n",
              "</div>"
            ],
            "text/plain": [
              "  visit_id  patient_id  visit_month  updrs_1  updrs_2  updrs_3  updrs_4  \\\n",
              "0     55_0          55            0     10.0      6.0     15.0      NaN   \n",
              "1     55_3          55            3     10.0      7.0     25.0      NaN   \n",
              "2     55_6          55            6      8.0     10.0     34.0      NaN   \n",
              "3     55_9          55            9      8.0      9.0     30.0      0.0   \n",
              "4    55_12          55           12     10.0     10.0     41.0      0.0   \n",
              "\n",
              "  upd23b_clinical_state_on_medication  \n",
              "0                                 NaN  \n",
              "1                                 NaN  \n",
              "2                                 NaN  \n",
              "3                                  On  \n",
              "4                                  On  "
            ]
          },
          "execution_count": 5,
          "metadata": {},
          "output_type": "execute_result"
        }
      ],
      "source": [
        "# Display the first 5 examples\n",
        "train_clinical.head(5)"
      ]
    },
    {
      "cell_type": "markdown",
      "id": "9ba13ed6",
      "metadata": {
        "papermill": {
          "duration": 0.020194,
          "end_time": "2023-05-11T05:58:44.709262",
          "exception": false,
          "start_time": "2023-05-11T05:58:44.689068",
          "status": "completed"
        },
        "tags": [],
        "id": "9ba13ed6"
      },
      "source": [
        "The clinic will also record the patient's **NPX**(Normalized Protein eXpression) value for all the proteins relevant to Parkinson's disease during each visit. **NPX** is nothing but the value representing the protein concentration in shells. This data is available in the `train_proteins` DataFrame.\n",
        "\n",
        "Let us examine the shape of `train_proteins` DataFrame."
      ]
    },
    {
      "cell_type": "code",
      "execution_count": null,
      "id": "596d0a33",
      "metadata": {
        "execution": {
          "iopub.execute_input": "2023-05-11T05:58:44.751813Z",
          "iopub.status.busy": "2023-05-11T05:58:44.751398Z",
          "iopub.status.idle": "2023-05-11T05:58:44.757529Z",
          "shell.execute_reply": "2023-05-11T05:58:44.756196Z"
        },
        "papermill": {
          "duration": 0.031015,
          "end_time": "2023-05-11T05:58:44.760661",
          "exception": false,
          "start_time": "2023-05-11T05:58:44.729646",
          "status": "completed"
        },
        "tags": [],
        "id": "596d0a33",
        "outputId": "e5466e5b-5a65-426c-aef7-834dd2671576"
      },
      "outputs": [
        {
          "name": "stdout",
          "output_type": "stream",
          "text": [
            "proteins dataset shape:   (232741, 5)\n"
          ]
        }
      ],
      "source": [
        "print('proteins dataset shape:  ', train_proteins.shape)"
      ]
    },
    {
      "cell_type": "markdown",
      "id": "88c7f892",
      "metadata": {
        "papermill": {
          "duration": 0.021146,
          "end_time": "2023-05-11T05:58:44.803153",
          "exception": false,
          "start_time": "2023-05-11T05:58:44.782007",
          "status": "completed"
        },
        "tags": [],
        "id": "88c7f892"
      },
      "source": [
        "The `train_proteins` data is composed of ***5* columns** and ***232741* entries**. We can see all 5 dimensions of our dataset by printing out the first 5 entries using the following code:"
      ]
    },
    {
      "cell_type": "code",
      "execution_count": null,
      "id": "ed1c4c6b",
      "metadata": {
        "execution": {
          "iopub.execute_input": "2023-05-11T05:58:44.847005Z",
          "iopub.status.busy": "2023-05-11T05:58:44.846206Z",
          "iopub.status.idle": "2023-05-11T05:58:44.859576Z",
          "shell.execute_reply": "2023-05-11T05:58:44.858626Z"
        },
        "papermill": {
          "duration": 0.038073,
          "end_time": "2023-05-11T05:58:44.862027",
          "exception": false,
          "start_time": "2023-05-11T05:58:44.823954",
          "status": "completed"
        },
        "tags": [],
        "id": "ed1c4c6b",
        "outputId": "06ee1d32-418c-4726-d2fe-c51ab8c35eb2"
      },
      "outputs": [
        {
          "data": {
            "text/html": [
              "<div>\n",
              "<style scoped>\n",
              "    .dataframe tbody tr th:only-of-type {\n",
              "        vertical-align: middle;\n",
              "    }\n",
              "\n",
              "    .dataframe tbody tr th {\n",
              "        vertical-align: top;\n",
              "    }\n",
              "\n",
              "    .dataframe thead th {\n",
              "        text-align: right;\n",
              "    }\n",
              "</style>\n",
              "<table border=\"1\" class=\"dataframe\">\n",
              "  <thead>\n",
              "    <tr style=\"text-align: right;\">\n",
              "      <th></th>\n",
              "      <th>visit_id</th>\n",
              "      <th>visit_month</th>\n",
              "      <th>patient_id</th>\n",
              "      <th>UniProt</th>\n",
              "      <th>NPX</th>\n",
              "    </tr>\n",
              "  </thead>\n",
              "  <tbody>\n",
              "    <tr>\n",
              "      <th>0</th>\n",
              "      <td>55_0</td>\n",
              "      <td>0</td>\n",
              "      <td>55</td>\n",
              "      <td>O00391</td>\n",
              "      <td>11254.3</td>\n",
              "    </tr>\n",
              "    <tr>\n",
              "      <th>1</th>\n",
              "      <td>55_0</td>\n",
              "      <td>0</td>\n",
              "      <td>55</td>\n",
              "      <td>O00533</td>\n",
              "      <td>732430.0</td>\n",
              "    </tr>\n",
              "    <tr>\n",
              "      <th>2</th>\n",
              "      <td>55_0</td>\n",
              "      <td>0</td>\n",
              "      <td>55</td>\n",
              "      <td>O00584</td>\n",
              "      <td>39585.8</td>\n",
              "    </tr>\n",
              "    <tr>\n",
              "      <th>3</th>\n",
              "      <td>55_0</td>\n",
              "      <td>0</td>\n",
              "      <td>55</td>\n",
              "      <td>O14498</td>\n",
              "      <td>41526.9</td>\n",
              "    </tr>\n",
              "    <tr>\n",
              "      <th>4</th>\n",
              "      <td>55_0</td>\n",
              "      <td>0</td>\n",
              "      <td>55</td>\n",
              "      <td>O14773</td>\n",
              "      <td>31238.0</td>\n",
              "    </tr>\n",
              "  </tbody>\n",
              "</table>\n",
              "</div>"
            ],
            "text/plain": [
              "  visit_id  visit_month  patient_id UniProt       NPX\n",
              "0     55_0            0          55  O00391   11254.3\n",
              "1     55_0            0          55  O00533  732430.0\n",
              "2     55_0            0          55  O00584   39585.8\n",
              "3     55_0            0          55  O14498   41526.9\n",
              "4     55_0            0          55  O14773   31238.0"
            ]
          },
          "execution_count": 7,
          "metadata": {},
          "output_type": "execute_result"
        }
      ],
      "source": [
        "# Display the first 5 examples\n",
        "train_proteins.head(5)"
      ]
    },
    {
      "cell_type": "markdown",
      "id": "ba191ffe",
      "metadata": {
        "papermill": {
          "duration": 0.020484,
          "end_time": "2023-05-11T05:58:44.903139",
          "exception": false,
          "start_time": "2023-05-11T05:58:44.882655",
          "status": "completed"
        },
        "tags": [],
        "id": "ba191ffe"
      },
      "source": [
        "Proteins are long molecules made up of multiple peptides. The clinic will record the **Peptide Abundance** of each peptide in proteins relevant to Parkinson's disease. It shows the peptide concentration, similar to NPX for proteins.  This data can be found in the `train_peptides` DataFrame.\n",
        "\n",
        "Let us examine the shape of the `train_peptides` DataFrame."
      ]
    },
    {
      "cell_type": "code",
      "execution_count": null,
      "id": "b9bda326",
      "metadata": {
        "execution": {
          "iopub.execute_input": "2023-05-11T05:58:44.948461Z",
          "iopub.status.busy": "2023-05-11T05:58:44.947085Z",
          "iopub.status.idle": "2023-05-11T05:58:44.954267Z",
          "shell.execute_reply": "2023-05-11T05:58:44.952744Z"
        },
        "papermill": {
          "duration": 0.031906,
          "end_time": "2023-05-11T05:58:44.956841",
          "exception": false,
          "start_time": "2023-05-11T05:58:44.924935",
          "status": "completed"
        },
        "tags": [],
        "id": "b9bda326",
        "outputId": "f8d76564-c618-4efd-db51-91fbcbbcdb29"
      },
      "outputs": [
        {
          "name": "stdout",
          "output_type": "stream",
          "text": [
            "peptides dataset shape:   (981834, 6)\n"
          ]
        }
      ],
      "source": [
        "print('peptides dataset shape:  ', train_peptides.shape)"
      ]
    },
    {
      "cell_type": "markdown",
      "id": "17a12f8b",
      "metadata": {
        "papermill": {
          "duration": 0.020448,
          "end_time": "2023-05-11T05:58:44.998230",
          "exception": false,
          "start_time": "2023-05-11T05:58:44.977782",
          "status": "completed"
        },
        "tags": [],
        "id": "17a12f8b"
      },
      "source": [
        "The **train_peptides** data is composed of ***6* columns** and ***981834* entries**. We can see all 6 dimensions of our dataset by printing out the first 5 entries using the following code:"
      ]
    },
    {
      "cell_type": "code",
      "execution_count": null,
      "id": "e85901b9",
      "metadata": {
        "execution": {
          "iopub.execute_input": "2023-05-11T05:58:45.042400Z",
          "iopub.status.busy": "2023-05-11T05:58:45.041957Z",
          "iopub.status.idle": "2023-05-11T05:58:45.056896Z",
          "shell.execute_reply": "2023-05-11T05:58:45.055722Z"
        },
        "papermill": {
          "duration": 0.040372,
          "end_time": "2023-05-11T05:58:45.059403",
          "exception": false,
          "start_time": "2023-05-11T05:58:45.019031",
          "status": "completed"
        },
        "tags": [],
        "id": "e85901b9",
        "outputId": "67888dd9-259e-49a6-c47b-00754d7591be"
      },
      "outputs": [
        {
          "data": {
            "text/html": [
              "<div>\n",
              "<style scoped>\n",
              "    .dataframe tbody tr th:only-of-type {\n",
              "        vertical-align: middle;\n",
              "    }\n",
              "\n",
              "    .dataframe tbody tr th {\n",
              "        vertical-align: top;\n",
              "    }\n",
              "\n",
              "    .dataframe thead th {\n",
              "        text-align: right;\n",
              "    }\n",
              "</style>\n",
              "<table border=\"1\" class=\"dataframe\">\n",
              "  <thead>\n",
              "    <tr style=\"text-align: right;\">\n",
              "      <th></th>\n",
              "      <th>visit_id</th>\n",
              "      <th>visit_month</th>\n",
              "      <th>patient_id</th>\n",
              "      <th>UniProt</th>\n",
              "      <th>Peptide</th>\n",
              "      <th>PeptideAbundance</th>\n",
              "    </tr>\n",
              "  </thead>\n",
              "  <tbody>\n",
              "    <tr>\n",
              "      <th>0</th>\n",
              "      <td>55_0</td>\n",
              "      <td>0</td>\n",
              "      <td>55</td>\n",
              "      <td>O00391</td>\n",
              "      <td>NEQEQPLGQWHLS</td>\n",
              "      <td>11254.3</td>\n",
              "    </tr>\n",
              "    <tr>\n",
              "      <th>1</th>\n",
              "      <td>55_0</td>\n",
              "      <td>0</td>\n",
              "      <td>55</td>\n",
              "      <td>O00533</td>\n",
              "      <td>GNPEPTFSWTK</td>\n",
              "      <td>102060.0</td>\n",
              "    </tr>\n",
              "    <tr>\n",
              "      <th>2</th>\n",
              "      <td>55_0</td>\n",
              "      <td>0</td>\n",
              "      <td>55</td>\n",
              "      <td>O00533</td>\n",
              "      <td>IEIPSSVQQVPTIIK</td>\n",
              "      <td>174185.0</td>\n",
              "    </tr>\n",
              "    <tr>\n",
              "      <th>3</th>\n",
              "      <td>55_0</td>\n",
              "      <td>0</td>\n",
              "      <td>55</td>\n",
              "      <td>O00533</td>\n",
              "      <td>KPQSAVYSTGSNGILLC(UniMod_4)EAEGEPQPTIK</td>\n",
              "      <td>27278.9</td>\n",
              "    </tr>\n",
              "    <tr>\n",
              "      <th>4</th>\n",
              "      <td>55_0</td>\n",
              "      <td>0</td>\n",
              "      <td>55</td>\n",
              "      <td>O00533</td>\n",
              "      <td>SMEQNGPGLEYR</td>\n",
              "      <td>30838.7</td>\n",
              "    </tr>\n",
              "  </tbody>\n",
              "</table>\n",
              "</div>"
            ],
            "text/plain": [
              "  visit_id  visit_month  patient_id UniProt  \\\n",
              "0     55_0            0          55  O00391   \n",
              "1     55_0            0          55  O00533   \n",
              "2     55_0            0          55  O00533   \n",
              "3     55_0            0          55  O00533   \n",
              "4     55_0            0          55  O00533   \n",
              "\n",
              "                                  Peptide  PeptideAbundance  \n",
              "0                           NEQEQPLGQWHLS           11254.3  \n",
              "1                             GNPEPTFSWTK          102060.0  \n",
              "2                         IEIPSSVQQVPTIIK          174185.0  \n",
              "3  KPQSAVYSTGSNGILLC(UniMod_4)EAEGEPQPTIK           27278.9  \n",
              "4                            SMEQNGPGLEYR           30838.7  "
            ]
          },
          "execution_count": 9,
          "metadata": {},
          "output_type": "execute_result"
        }
      ],
      "source": [
        "# Display the first 5 examples\n",
        "train_peptides.head(5)"
      ]
    },
    {
      "cell_type": "markdown",
      "id": "c2aadb8f",
      "metadata": {
        "papermill": {
          "duration": 0.020783,
          "end_time": "2023-05-11T05:58:45.101685",
          "exception": false,
          "start_time": "2023-05-11T05:58:45.080902",
          "status": "completed"
        },
        "tags": [],
        "id": "c2aadb8f"
      },
      "source": [
        "# Plotting clinical data\n",
        "\n",
        "We will pick a random `patient_id` and plot the target label values(`updrs_1`, `updrs_2`, `updrs_3`, `updrs_4`) of the patient against each month(`visit_month`)."
      ]
    },
    {
      "cell_type": "code",
      "execution_count": null,
      "id": "40cffb75",
      "metadata": {
        "execution": {
          "iopub.execute_input": "2023-05-11T05:58:45.145923Z",
          "iopub.status.busy": "2023-05-11T05:58:45.145471Z",
          "iopub.status.idle": "2023-05-11T05:58:45.474104Z",
          "shell.execute_reply": "2023-05-11T05:58:45.472684Z"
        },
        "papermill": {
          "duration": 0.354077,
          "end_time": "2023-05-11T05:58:45.476971",
          "exception": false,
          "start_time": "2023-05-11T05:58:45.122894",
          "status": "completed"
        },
        "tags": [],
        "id": "40cffb75",
        "outputId": "e639a59b-0a98-4b52-cad5-1c45c388af70"
      },
      "outputs": [
        {
          "data": {
            "image/png": "[encoded data removed]",
            "text/plain": [
              "<Figure size 640x480 with 1 Axes>"
            ]
          },
          "metadata": {},
          "output_type": "display_data"
        }
      ],
      "source": [
        "# Fetch data for patient with id 1517\n",
        "plot_df = train_clinical[train_clinical[\"patient_id\"]==1517]\n",
        "fig, ax = plt.subplots(1, 1)\n",
        "\n",
        "ax.plot(plot_df['visit_month'], plot_df['updrs_1'], marker='o', color=\"blue\", label=\"updrs_1\", linestyle=\"-\")\n",
        "ax.plot(plot_df['visit_month'], plot_df['updrs_2'], marker='o', color=\"red\", label=\"updrs_2\", linestyle=\"-\")\n",
        "ax.plot(plot_df['visit_month'], plot_df['updrs_3'], marker='o', color=\"green\", label=\"updrs_3\", linestyle=\"-\")\n",
        "ax.plot(plot_df['visit_month'], plot_df['updrs_4'], marker='o', color=\"orange\", label=\"updrs_4\", linestyle=\"-\")\n",
        "\n",
        "ax.legend()\n",
        "plt.show()"
      ]
    },
    {
      "cell_type": "markdown",
      "id": "7b2da80b",
      "metadata": {
        "papermill": {
          "duration": 0.021549,
          "end_time": "2023-05-11T05:58:45.520461",
          "exception": false,
          "start_time": "2023-05-11T05:58:45.498912",
          "status": "completed"
        },
        "tags": [],
        "id": "7b2da80b"
      },
      "source": [
        "# Plotting protein data\n",
        "\n",
        "\n",
        "We will pick a random `patient_id` and plot the first 40 Protein entries(`UniProt`) of the patient and their NPX value against patient's visit month(`visit_month`)."
      ]
    },
    {
      "cell_type": "code",
      "execution_count": null,
      "id": "d2b4ecba",
      "metadata": {
        "execution": {
          "iopub.execute_input": "2023-05-11T05:58:45.566648Z",
          "iopub.status.busy": "2023-05-11T05:58:45.565894Z",
          "iopub.status.idle": "2023-05-11T05:58:47.884376Z",
          "shell.execute_reply": "2023-05-11T05:58:47.883414Z"
        },
        "papermill": {
          "duration": 2.344838,
          "end_time": "2023-05-11T05:58:47.887305",
          "exception": false,
          "start_time": "2023-05-11T05:58:45.542467",
          "status": "completed"
        },
        "tags": [],
        "id": "d2b4ecba",
        "outputId": "0c87f511-145a-4633-e147-029f6f255411"
      },
      "outputs": [
        {
          "data": {
            "image/png": "[encoded data removed]",
            "text/plain": [
              "<Figure size 1500x1200 with 4 Axes>"
            ]
          },
          "metadata": {},
          "output_type": "display_data"
        }
      ],
      "source": [
        "pro_plot_df = train_proteins[train_proteins[\"patient_id\"]==1517]\n",
        "protein_list = pro_plot_df['UniProt'].unique()\n",
        "protein_list = protein_list[:40]\n",
        "pro_plot_df = pro_plot_df[pro_plot_df['UniProt'].isin(protein_list)]\n",
        "unique_month = pro_plot_df['visit_month'].unique()\n",
        "unique_month.sort()\n",
        "p_len = len(unique_month)\n",
        "\n",
        "pro_plot_df['visit_month'].unique()\n",
        "n_rows = math.ceil(p_len/2)\n",
        "figure, axis = plt.subplots(n_rows, 2, figsize=(15, n_rows*6))\n",
        "plt.subplots_adjust(hspace=0.5, wspace=0.3)\n",
        "\n",
        "for i, month in enumerate(unique_month):\n",
        "    row = i//2\n",
        "    col = i % 2\n",
        "    plot_df = pro_plot_df[pro_plot_df['visit_month']==month]\n",
        "    bp = sns.barplot(ax=axis[row, col], x=plot_df['UniProt'], y=plot_df['NPX'])\n",
        "    #bp.set(xticklabels=[])\n",
        "    bp.set_xticklabels(bp.get_xticklabels(), rotation=90, size = 7)\n",
        "    axis[row, col].set_title('visit_month ' + str(month))\n",
        "plt.show()"
      ]
    },
    {
      "cell_type": "markdown",
      "id": "f2e12c1b",
      "metadata": {
        "papermill": {
          "duration": 0.024605,
          "end_time": "2023-05-11T05:58:47.935279",
          "exception": false,
          "start_time": "2023-05-11T05:58:47.910674",
          "status": "completed"
        },
        "tags": [],
        "id": "f2e12c1b"
      },
      "source": [
        "# Prepare the dataset\n",
        "\n",
        "We have to predict the ratings for the the first 4 segments of UPDRS `updrs_1`, `updrs_2`, `updrs_3` and `updrs_4` that is likely to be recorded by the clinic during a patient visit. Hence these are our labels."
      ]
    },
    {
      "cell_type": "markdown",
      "id": "f9bb5940",
      "metadata": {
        "papermill": {
          "duration": 0.022993,
          "end_time": "2023-05-11T05:58:47.981911",
          "exception": false,
          "start_time": "2023-05-11T05:58:47.958918",
          "status": "completed"
        },
        "tags": [],
        "id": "f9bb5940"
      },
      "source": [
        "We will now prepare the dataset for training models to predict the 4 labels."
      ]
    },
    {
      "cell_type": "markdown",
      "id": "e47246bd",
      "metadata": {
        "papermill": {
          "duration": 0.023854,
          "end_time": "2023-05-11T05:58:48.031557",
          "exception": false,
          "start_time": "2023-05-11T05:58:48.007703",
          "status": "completed"
        },
        "tags": [],
        "id": "e47246bd"
      },
      "source": [
        "To predict the target labels(`updrs_1`, `updrs_2`, `updrs_3`, `updrs_4`) for a given visit, we will use the recorded protein and peptide data of the patient during that visit.\n",
        "\n",
        "First we will group the rows in `train_proteins` data by visit ids (`visit id`) and protein ids (`UniProt`). Then we will replace the`NPX` values of each row in a group with the mean of the `NPX` values of all rows in that group.\n",
        "\n",
        "Similarly we will group the rows in `train_peptides` data by their visit ids(`visit_id`) and peptide ids(`Peptide`). Then we will replace the `PeptideAbundance` values of each row in a group with the mean of the `PeptideAbundance` values of all rows in that group.\n",
        "\n",
        "Following figure shows the working of Pandas groupby function."
      ]
    },
    {
      "cell_type": "markdown",
      "id": "12ae8ac6",
      "metadata": {
        "papermill": {
          "duration": 0.022713,
          "end_time": "2023-05-11T05:58:48.077950",
          "exception": false,
          "start_time": "2023-05-11T05:58:48.055237",
          "status": "completed"
        },
        "tags": [],
        "id": "12ae8ac6"
      },
      "source": [
        "![group.png](attachment:1446775a-0b8a-4e72-80f1-b200a7b056be.png)\n",
        "\n",
        "This image was taken from [https://pandas.pydata.org](https://pandas.pydata.org/Pandas_Cheat_Sheet.pdf)"
      ]
    },
    {
      "cell_type": "markdown",
      "id": "64b4e7ab",
      "metadata": {
        "papermill": {
          "duration": 0.022925,
          "end_time": "2023-05-11T05:58:48.124116",
          "exception": false,
          "start_time": "2023-05-11T05:58:48.101191",
          "status": "completed"
        },
        "tags": [],
        "id": "64b4e7ab"
      },
      "source": [
        "Now we will spread the rows of the grouped datasets into columns. For this we will use the Pandas pivot function.\n",
        "\n",
        "Below is a simple explanation for how the pivoting works."
      ]
    },
    {
      "cell_type": "markdown",
      "id": "d90b7932",
      "metadata": {
        "papermill": {
          "duration": 0.022921,
          "end_time": "2023-05-11T05:58:48.170289",
          "exception": false,
          "start_time": "2023-05-11T05:58:48.147368",
          "status": "completed"
        },
        "tags": [],
        "id": "d90b7932"
      },
      "source": [
        "![pivotn.png](attachment:3abea96f-0f65-432c-9175-ccf93944c546.png)\n",
        "\n",
        "This image was taken from [https://pandas.pydata.org](https://pandas.pydata.org/Pandas_Cheat_Sheet.pdf)"
      ]
    },
    {
      "cell_type": "markdown",
      "id": "e2b9910d",
      "metadata": {
        "papermill": {
          "duration": 0.022817,
          "end_time": "2023-05-11T05:58:48.216359",
          "exception": false,
          "start_time": "2023-05-11T05:58:48.193542",
          "status": "completed"
        },
        "tags": [],
        "id": "e2b9910d"
      },
      "source": [
        "The Protein dataset is pivoted such that unique values of `visit_id` become the indices and the values of `UniProt1` in the dataset become columns. For each visit(row), the `NPX` values corresponding to the different`UniProt1` values recorded for that visit are captured in the columns.\n",
        "\n",
        "The Peptipe dataset is pivoted such that unique values of `visit_id` become the indices and the values of `Peptide` in the dataset become columns. For each visit(row), the `PeptideAbundance` values corresponding to the different`Peptide` values recorded for that visit are captured in the columns."
      ]
    },
    {
      "cell_type": "markdown",
      "id": "4443b9f6",
      "metadata": {
        "papermill": {
          "duration": 0.02274,
          "end_time": "2023-05-11T05:58:48.262176",
          "exception": false,
          "start_time": "2023-05-11T05:58:48.239436",
          "status": "completed"
        },
        "tags": [],
        "id": "4443b9f6"
      },
      "source": [
        "We will now merge the pivoted peptide dataset with the pivoted protein dataset on `visit_id`.\n",
        "\n",
        "The figure shown below illustrates the logic behind Pandas merge function."
      ]
    },
    {
      "cell_type": "markdown",
      "id": "ca0aba1c",
      "metadata": {
        "papermill": {
          "duration": 0.022663,
          "end_time": "2023-05-11T05:58:48.308588",
          "exception": false,
          "start_time": "2023-05-11T05:58:48.285925",
          "status": "completed"
        },
        "tags": [],
        "id": "ca0aba1c"
      },
      "source": [
        "![merge.png](attachment:38bb40a3-dca5-4ab4-aef8-c5293b99faaf.png)\n",
        "\n",
        "This image was taken from [https://pandas.pydata.org](https://pandas.pydata.org/Pandas_Cheat_Sheet.pdf)"
      ]
    },
    {
      "cell_type": "markdown",
      "id": "1d0ec118",
      "metadata": {
        "papermill": {
          "duration": 0.022962,
          "end_time": "2023-05-11T05:58:48.354840",
          "exception": false,
          "start_time": "2023-05-11T05:58:48.331878",
          "status": "completed"
        },
        "tags": [],
        "id": "1d0ec118"
      },
      "source": [
        "In this notebook, we will let TensorFlow Decision Forests handle the missing values in the numerical columns."
      ]
    },
    {
      "cell_type": "code",
      "execution_count": null,
      "id": "b85b1c13",
      "metadata": {
        "execution": {
          "iopub.execute_input": "2023-05-11T05:58:48.403316Z",
          "iopub.status.busy": "2023-05-11T05:58:48.402867Z",
          "iopub.status.idle": "2023-05-11T05:58:48.411225Z",
          "shell.execute_reply": "2023-05-11T05:58:48.410023Z"
        },
        "papermill": {
          "duration": 0.035543,
          "end_time": "2023-05-11T05:58:48.413585",
          "exception": false,
          "start_time": "2023-05-11T05:58:48.378042",
          "status": "completed"
        },
        "tags": [],
        "id": "b85b1c13"
      },
      "outputs": [],
      "source": [
        "# Function to prepare dataset with all the steps mentioned above:\n",
        "def prepare_dataset(train_proteins, train_peptides):\n",
        "    # Step 1: Grouping\n",
        "    df_protein_grouped = train_proteins.groupby(['visit_id','UniProt'])['NPX'].mean().reset_index()\n",
        "    df_peptide_grouped = train_peptides.groupby(['visit_id','Peptide'])['PeptideAbundance'].mean().reset_index()\n",
        "\n",
        "    # Step 2: Pivoting\n",
        "    df_protein = df_protein_grouped.pivot(index='visit_id',columns = 'UniProt', values = 'NPX').rename_axis(columns=None).reset_index()\n",
        "    df_peptide = df_peptide_grouped.pivot(index='visit_id',columns = 'Peptide', values = 'PeptideAbundance').rename_axis(columns=None).reset_index()\n",
        "\n",
        "    # Step 3: Merging\n",
        "    pro_pep_df = df_protein.merge(df_peptide, on = ['visit_id'], how = 'left')\n",
        "\n",
        "    return pro_pep_df\n"
      ]
    },
    {
      "cell_type": "code",
      "execution_count": null,
      "id": "8018acfe",
      "metadata": {
        "execution": {
          "iopub.execute_input": "2023-05-11T05:58:48.462393Z",
          "iopub.status.busy": "2023-05-11T05:58:48.461760Z",
          "iopub.status.idle": "2023-05-11T05:58:49.783072Z",
          "shell.execute_reply": "2023-05-11T05:58:49.781954Z"
        },
        "papermill": {
          "duration": 1.349211,
          "end_time": "2023-05-11T05:58:49.785950",
          "exception": false,
          "start_time": "2023-05-11T05:58:48.436739",
          "status": "completed"
        },
        "tags": [],
        "id": "8018acfe"
      },
      "outputs": [],
      "source": [
        "pro_pep_df = prepare_dataset(train_proteins, train_peptides)"
      ]
    },
    {
      "cell_type": "markdown",
      "id": "b80e6203",
      "metadata": {
        "papermill": {
          "duration": 0.022653,
          "end_time": "2023-05-11T05:58:49.831862",
          "exception": false,
          "start_time": "2023-05-11T05:58:49.809209",
          "status": "completed"
        },
        "tags": [],
        "id": "b80e6203"
      },
      "source": [
        "# Basic exploration of the prepared dataset"
      ]
    },
    {
      "cell_type": "code",
      "execution_count": null,
      "id": "fd77df84",
      "metadata": {
        "execution": {
          "iopub.execute_input": "2023-05-11T05:58:49.879895Z",
          "iopub.status.busy": "2023-05-11T05:58:49.879371Z",
          "iopub.status.idle": "2023-05-11T05:58:49.887206Z",
          "shell.execute_reply": "2023-05-11T05:58:49.885711Z"
        },
        "papermill": {
          "duration": 0.035049,
          "end_time": "2023-05-11T05:58:49.890032",
          "exception": false,
          "start_time": "2023-05-11T05:58:49.854983",
          "status": "completed"
        },
        "tags": [],
        "id": "fd77df84",
        "outputId": "ea15c8d9-208f-4244-9e06-004b1fe9a795"
      },
      "outputs": [
        {
          "data": {
            "text/plain": [
              "(1113, 1196)"
            ]
          },
          "execution_count": 14,
          "metadata": {},
          "output_type": "execute_result"
        }
      ],
      "source": [
        "pro_pep_df.shape"
      ]
    },
    {
      "cell_type": "markdown",
      "id": "42e72443",
      "metadata": {
        "papermill": {
          "duration": 0.023072,
          "end_time": "2023-05-11T05:58:49.936513",
          "exception": false,
          "start_time": "2023-05-11T05:58:49.913441",
          "status": "completed"
        },
        "tags": [],
        "id": "42e72443"
      },
      "source": [
        "Our feature engineered dataset is composed of 1196 columns and 1113 entries.\n",
        "\n",
        "Let us print out the first 5 entries using the following code:"
      ]
    },
    {
      "cell_type": "code",
      "execution_count": null,
      "id": "5e5933e0",
      "metadata": {
        "execution": {
          "iopub.execute_input": "2023-05-11T05:58:49.985611Z",
          "iopub.status.busy": "2023-05-11T05:58:49.984827Z",
          "iopub.status.idle": "2023-05-11T05:58:50.019466Z",
          "shell.execute_reply": "2023-05-11T05:58:50.018274Z"
        },
        "papermill": {
          "duration": 0.061996,
          "end_time": "2023-05-11T05:58:50.022044",
          "exception": false,
          "start_time": "2023-05-11T05:58:49.960048",
          "status": "completed"
        },
        "tags": [],
        "id": "5e5933e0",
        "outputId": "402676fb-bdc4-4d43-b84f-6b5132143f26"
      },
      "outputs": [
        {
          "data": {
            "text/html": [
              "<div>\n",
              "<style scoped>\n",
              "    .dataframe tbody tr th:only-of-type {\n",
              "        vertical-align: middle;\n",
              "    }\n",
              "\n",
              "    .dataframe tbody tr th {\n",
              "        vertical-align: top;\n",
              "    }\n",
              "\n",
              "    .dataframe thead th {\n",
              "        text-align: right;\n",
              "    }\n",
              "</style>\n",
              "<table border=\"1\" class=\"dataframe\">\n",
              "  <thead>\n",
              "    <tr style=\"text-align: right;\">\n",
              "      <th></th>\n",
              "      <th>visit_id</th>\n",
              "      <th>O00391</th>\n",
              "      <th>O00533</th>\n",
              "      <th>O00584</th>\n",
              "      <th>O14498</th>\n",
              "      <th>O14773</th>\n",
              "      <th>O14791</th>\n",
              "      <th>O15240</th>\n",
              "      <th>O15394</th>\n",
              "      <th>O43505</th>\n",
              "      <th>...</th>\n",
              "      <th>YSLTYIYTGLSK</th>\n",
              "      <th>YTTEIIK</th>\n",
              "      <th>YVGGQEHFAHLLILR</th>\n",
              "      <th>YVM(UniMod_35)LPVADQDQC(UniMod_4)IR</th>\n",
              "      <th>YVMLPVADQDQC(UniMod_4)IR</th>\n",
              "      <th>YVNKEIQNAVNGVK</th>\n",
              "      <th>YWGVASFLQK</th>\n",
              "      <th>YYC(UniMod_4)FQGNQFLR</th>\n",
              "      <th>YYTYLIMNK</th>\n",
              "      <th>YYWGGQYTWDMAK</th>\n",
              "    </tr>\n",
              "  </thead>\n",
              "  <tbody>\n",
              "    <tr>\n",
              "      <th>0</th>\n",
              "      <td>10053_0</td>\n",
              "      <td>9104.27</td>\n",
              "      <td>402321.0</td>\n",
              "      <td>NaN</td>\n",
              "      <td>NaN</td>\n",
              "      <td>7150.57</td>\n",
              "      <td>2497.84</td>\n",
              "      <td>83002.9</td>\n",
              "      <td>15113.6</td>\n",
              "      <td>167327.0</td>\n",
              "      <td>...</td>\n",
              "      <td>202274.0</td>\n",
              "      <td>NaN</td>\n",
              "      <td>4401830.0</td>\n",
              "      <td>77482.6</td>\n",
              "      <td>583075.0</td>\n",
              "      <td>76705.7</td>\n",
              "      <td>104260.0</td>\n",
              "      <td>530223.0</td>\n",
              "      <td>NaN</td>\n",
              "      <td>7207.30</td>\n",
              "    </tr>\n",
              "    <tr>\n",
              "      <th>1</th>\n",
              "      <td>10053_12</td>\n",
              "      <td>10464.20</td>\n",
              "      <td>435586.0</td>\n",
              "      <td>NaN</td>\n",
              "      <td>NaN</td>\n",
              "      <td>NaN</td>\n",
              "      <td>NaN</td>\n",
              "      <td>197117.0</td>\n",
              "      <td>15099.1</td>\n",
              "      <td>164268.0</td>\n",
              "      <td>...</td>\n",
              "      <td>201009.0</td>\n",
              "      <td>NaN</td>\n",
              "      <td>5001750.0</td>\n",
              "      <td>36745.3</td>\n",
              "      <td>355643.0</td>\n",
              "      <td>92078.1</td>\n",
              "      <td>123254.0</td>\n",
              "      <td>453883.0</td>\n",
              "      <td>49281.9</td>\n",
              "      <td>25332.80</td>\n",
              "    </tr>\n",
              "    <tr>\n",
              "      <th>2</th>\n",
              "      <td>10053_18</td>\n",
              "      <td>13235.70</td>\n",
              "      <td>507386.0</td>\n",
              "      <td>7126.96</td>\n",
              "      <td>24525.7</td>\n",
              "      <td>NaN</td>\n",
              "      <td>2372.71</td>\n",
              "      <td>126506.0</td>\n",
              "      <td>16289.6</td>\n",
              "      <td>168107.0</td>\n",
              "      <td>...</td>\n",
              "      <td>220728.0</td>\n",
              "      <td>NaN</td>\n",
              "      <td>5424380.0</td>\n",
              "      <td>39016.0</td>\n",
              "      <td>496021.0</td>\n",
              "      <td>63203.6</td>\n",
              "      <td>128336.0</td>\n",
              "      <td>447505.0</td>\n",
              "      <td>52389.1</td>\n",
              "      <td>21235.70</td>\n",
              "    </tr>\n",
              "    <tr>\n",
              "      <th>3</th>\n",
              "      <td>10138_12</td>\n",
              "      <td>12600.20</td>\n",
              "      <td>494581.0</td>\n",
              "      <td>9165.06</td>\n",
              "      <td>27193.5</td>\n",
              "      <td>22506.10</td>\n",
              "      <td>6015.90</td>\n",
              "      <td>156313.0</td>\n",
              "      <td>54546.4</td>\n",
              "      <td>204013.0</td>\n",
              "      <td>...</td>\n",
              "      <td>188362.0</td>\n",
              "      <td>9433.71</td>\n",
              "      <td>3900280.0</td>\n",
              "      <td>48210.3</td>\n",
              "      <td>328482.0</td>\n",
              "      <td>89822.1</td>\n",
              "      <td>129964.0</td>\n",
              "      <td>552232.0</td>\n",
              "      <td>65657.8</td>\n",
              "      <td>9876.98</td>\n",
              "    </tr>\n",
              "    <tr>\n",
              "      <th>4</th>\n",
              "      <td>10138_24</td>\n",
              "      <td>12003.20</td>\n",
              "      <td>522138.0</td>\n",
              "      <td>4498.51</td>\n",
              "      <td>17189.8</td>\n",
              "      <td>29112.40</td>\n",
              "      <td>2665.15</td>\n",
              "      <td>151169.0</td>\n",
              "      <td>52338.1</td>\n",
              "      <td>240892.0</td>\n",
              "      <td>...</td>\n",
              "      <td>206187.0</td>\n",
              "      <td>6365.15</td>\n",
              "      <td>3521800.0</td>\n",
              "      <td>69984.6</td>\n",
              "      <td>496737.0</td>\n",
              "      <td>80919.3</td>\n",
              "      <td>111799.0</td>\n",
              "      <td>NaN</td>\n",
              "      <td>56977.6</td>\n",
              "      <td>4903.09</td>\n",
              "    </tr>\n",
              "  </tbody>\n",
              "</table>\n",
              "<p>5 rows × 1196 columns</p>\n",
              "</div>"
            ],
            "text/plain": [
              "   visit_id    O00391    O00533   O00584   O14498    O14773   O14791  \\\n",
              "0   10053_0   9104.27  402321.0      NaN      NaN   7150.57  2497.84   \n",
              "1  10053_12  10464.20  435586.0      NaN      NaN       NaN      NaN   \n",
              "2  10053_18  13235.70  507386.0  7126.96  24525.7       NaN  2372.71   \n",
              "3  10138_12  12600.20  494581.0  9165.06  27193.5  22506.10  6015.90   \n",
              "4  10138_24  12003.20  522138.0  4498.51  17189.8  29112.40  2665.15   \n",
              "\n",
              "     O15240   O15394    O43505  ...  YSLTYIYTGLSK  YTTEIIK  YVGGQEHFAHLLILR  \\\n",
              "0   83002.9  15113.6  167327.0  ...      202274.0      NaN        4401830.0   \n",
              "1  197117.0  15099.1  164268.0  ...      201009.0      NaN        5001750.0   \n",
              "2  126506.0  16289.6  168107.0  ...      220728.0      NaN        5424380.0   \n",
              "3  156313.0  54546.4  204013.0  ...      188362.0  9433.71        3900280.0   \n",
              "4  151169.0  52338.1  240892.0  ...      206187.0  6365.15        3521800.0   \n",
              "\n",
              "   YVM(UniMod_35)LPVADQDQC(UniMod_4)IR  YVMLPVADQDQC(UniMod_4)IR  \\\n",
              "0                              77482.6                  583075.0   \n",
              "1                              36745.3                  355643.0   \n",
              "2                              39016.0                  496021.0   \n",
              "3                              48210.3                  328482.0   \n",
              "4                              69984.6                  496737.0   \n",
              "\n",
              "   YVNKEIQNAVNGVK  YWGVASFLQK  YYC(UniMod_4)FQGNQFLR  YYTYLIMNK  YYWGGQYTWDMAK  \n",
              "0         76705.7    104260.0               530223.0        NaN        7207.30  \n",
              "1         92078.1    123254.0               453883.0    49281.9       25332.80  \n",
              "2         63203.6    128336.0               447505.0    52389.1       21235.70  \n",
              "3         89822.1    129964.0               552232.0    65657.8        9876.98  \n",
              "4         80919.3    111799.0                    NaN    56977.6        4903.09  \n",
              "\n",
              "[5 rows x 1196 columns]"
            ]
          },
          "execution_count": 15,
          "metadata": {},
          "output_type": "execute_result"
        }
      ],
      "source": [
        "# Display the first 5 examples\n",
        "pro_pep_df.head(5)"
      ]
    },
    {
      "cell_type": "code",
      "execution_count": null,
      "id": "897ad093",
      "metadata": {
        "execution": {
          "iopub.execute_input": "2023-05-11T05:58:50.071109Z",
          "iopub.status.busy": "2023-05-11T05:58:50.070680Z",
          "iopub.status.idle": "2023-05-11T05:58:53.257430Z",
          "shell.execute_reply": "2023-05-11T05:58:53.256169Z"
        },
        "papermill": {
          "duration": 3.218303,
          "end_time": "2023-05-11T05:58:53.263907",
          "exception": false,
          "start_time": "2023-05-11T05:58:50.045604",
          "status": "completed"
        },
        "tags": [],
        "id": "897ad093",
        "outputId": "c8ba801c-b693-4885-a5b4-b4828f509572"
      },
      "outputs": [
        {
          "data": {
            "text/html": [
              "<div>\n",
              "<style scoped>\n",
              "    .dataframe tbody tr th:only-of-type {\n",
              "        vertical-align: middle;\n",
              "    }\n",
              "\n",
              "    .dataframe tbody tr th {\n",
              "        vertical-align: top;\n",
              "    }\n",
              "\n",
              "    .dataframe thead th {\n",
              "        text-align: right;\n",
              "    }\n",
              "</style>\n",
              "<table border=\"1\" class=\"dataframe\">\n",
              "  <thead>\n",
              "    <tr style=\"text-align: right;\">\n",
              "      <th></th>\n",
              "      <th>O00391</th>\n",
              "      <th>O00533</th>\n",
              "      <th>O00584</th>\n",
              "      <th>O14498</th>\n",
              "      <th>O14773</th>\n",
              "      <th>O14791</th>\n",
              "      <th>O15240</th>\n",
              "      <th>O15394</th>\n",
              "      <th>O43505</th>\n",
              "      <th>O60888</th>\n",
              "      <th>...</th>\n",
              "      <th>YSLTYIYTGLSK</th>\n",
              "      <th>YTTEIIK</th>\n",
              "      <th>YVGGQEHFAHLLILR</th>\n",
              "      <th>YVM(UniMod_35)LPVADQDQC(UniMod_4)IR</th>\n",
              "      <th>YVMLPVADQDQC(UniMod_4)IR</th>\n",
              "      <th>YVNKEIQNAVNGVK</th>\n",
              "      <th>YWGVASFLQK</th>\n",
              "      <th>YYC(UniMod_4)FQGNQFLR</th>\n",
              "      <th>YYTYLIMNK</th>\n",
              "      <th>YYWGGQYTWDMAK</th>\n",
              "    </tr>\n",
              "  </thead>\n",
              "  <tbody>\n",
              "    <tr>\n",
              "      <th>count</th>\n",
              "      <td>764.000000</td>\n",
              "      <td>1.112000e+03</td>\n",
              "      <td>1100.000000</td>\n",
              "      <td>1032.000000</td>\n",
              "      <td>1047.000000</td>\n",
              "      <td>942.000000</td>\n",
              "      <td>1113.000000</td>\n",
              "      <td>1050.000000</td>\n",
              "      <td>1110.000000</td>\n",
              "      <td>1079.000000</td>\n",
              "      <td>...</td>\n",
              "      <td>1100.000000</td>\n",
              "      <td>994.000000</td>\n",
              "      <td>1.022000e+03</td>\n",
              "      <td>977.000000</td>\n",
              "      <td>1.091000e+03</td>\n",
              "      <td>1111.000000</td>\n",
              "      <td>1089.000000</td>\n",
              "      <td>1105.000000</td>\n",
              "      <td>1030.000000</td>\n",
              "      <td>865.00000</td>\n",
              "    </tr>\n",
              "    <tr>\n",
              "      <th>mean</th>\n",
              "      <td>11641.264435</td>\n",
              "      <td>5.111649e+05</td>\n",
              "      <td>26505.529157</td>\n",
              "      <td>27305.934884</td>\n",
              "      <td>17688.295406</td>\n",
              "      <td>3004.990691</td>\n",
              "      <td>126151.780054</td>\n",
              "      <td>50773.474638</td>\n",
              "      <td>195599.363694</td>\n",
              "      <td>145382.047368</td>\n",
              "      <td>...</td>\n",
              "      <td>215246.833636</td>\n",
              "      <td>9015.134433</td>\n",
              "      <td>3.937256e+06</td>\n",
              "      <td>67866.452927</td>\n",
              "      <td>6.110779e+05</td>\n",
              "      <td>92581.223041</td>\n",
              "      <td>125937.993436</td>\n",
              "      <td>471554.596652</td>\n",
              "      <td>47068.709311</td>\n",
              "      <td>21072.04823</td>\n",
              "    </tr>\n",
              "    <tr>\n",
              "      <th>std</th>\n",
              "      <td>2817.003530</td>\n",
              "      <td>2.357357e+05</td>\n",
              "      <td>10705.152540</td>\n",
              "      <td>8446.187506</td>\n",
              "      <td>7166.325369</td>\n",
              "      <td>1142.159575</td>\n",
              "      <td>72748.393517</td>\n",
              "      <td>21382.028764</td>\n",
              "      <td>79739.704279</td>\n",
              "      <td>58028.089713</td>\n",
              "      <td>...</td>\n",
              "      <td>50727.227704</td>\n",
              "      <td>3127.061637</td>\n",
              "      <td>1.677710e+06</td>\n",
              "      <td>61176.002825</td>\n",
              "      <td>5.047422e+05</td>\n",
              "      <td>30138.957433</td>\n",
              "      <td>38696.448657</td>\n",
              "      <td>131150.715245</td>\n",
              "      <td>13689.667117</td>\n",
              "      <td>10360.59380</td>\n",
              "    </tr>\n",
              "    <tr>\n",
              "      <th>min</th>\n",
              "      <td>873.778000</td>\n",
              "      <td>5.971820e+04</td>\n",
              "      <td>591.103000</td>\n",
              "      <td>8945.340000</td>\n",
              "      <td>2811.120000</td>\n",
              "      <td>336.517000</td>\n",
              "      <td>10717.400000</td>\n",
              "      <td>5806.840000</td>\n",
              "      <td>29740.900000</td>\n",
              "      <td>8358.080000</td>\n",
              "      <td>...</td>\n",
              "      <td>12164.300000</td>\n",
              "      <td>258.249000</td>\n",
              "      <td>1.624640e+05</td>\n",
              "      <td>884.260000</td>\n",
              "      <td>7.494660e+03</td>\n",
              "      <td>869.898000</td>\n",
              "      <td>991.452000</td>\n",
              "      <td>11371.200000</td>\n",
              "      <td>6362.490000</td>\n",
              "      <td>868.90300</td>\n",
              "    </tr>\n",
              "    <tr>\n",
              "      <th>25%</th>\n",
              "      <td>9736.857500</td>\n",
              "      <td>3.490590e+05</td>\n",
              "      <td>19941.075000</td>\n",
              "      <td>21123.650000</td>\n",
              "      <td>12920.050000</td>\n",
              "      <td>2189.087500</td>\n",
              "      <td>70560.600000</td>\n",
              "      <td>37008.975000</td>\n",
              "      <td>142054.500000</td>\n",
              "      <td>103983.000000</td>\n",
              "      <td>...</td>\n",
              "      <td>186658.250000</td>\n",
              "      <td>6899.805000</td>\n",
              "      <td>2.895622e+06</td>\n",
              "      <td>30997.900000</td>\n",
              "      <td>2.929505e+05</td>\n",
              "      <td>70508.150000</td>\n",
              "      <td>100691.000000</td>\n",
              "      <td>384902.000000</td>\n",
              "      <td>37752.375000</td>\n",
              "      <td>14249.90000</td>\n",
              "    </tr>\n",
              "    <tr>\n",
              "      <th>50%</th>\n",
              "      <td>11546.400000</td>\n",
              "      <td>4.834425e+05</td>\n",
              "      <td>26529.700000</td>\n",
              "      <td>26624.000000</td>\n",
              "      <td>17399.600000</td>\n",
              "      <td>2865.460000</td>\n",
              "      <td>116900.000000</td>\n",
              "      <td>50375.800000</td>\n",
              "      <td>185616.000000</td>\n",
              "      <td>136452.000000</td>\n",
              "      <td>...</td>\n",
              "      <td>217430.500000</td>\n",
              "      <td>8604.345000</td>\n",
              "      <td>3.671010e+06</td>\n",
              "      <td>52576.900000</td>\n",
              "      <td>4.702450e+05</td>\n",
              "      <td>88918.600000</td>\n",
              "      <td>123588.000000</td>\n",
              "      <td>463382.000000</td>\n",
              "      <td>45503.150000</td>\n",
              "      <td>20390.90000</td>\n",
              "    </tr>\n",
              "    <tr>\n",
              "      <th>75%</th>\n",
              "      <td>13383.025000</td>\n",
              "      <td>6.485572e+05</td>\n",
              "      <td>33222.800000</td>\n",
              "      <td>32459.275000</td>\n",
              "      <td>22077.050000</td>\n",
              "      <td>3593.147500</td>\n",
              "      <td>164947.000000</td>\n",
              "      <td>63446.700000</td>\n",
              "      <td>239731.500000</td>\n",
              "      <td>177451.000000</td>\n",
              "      <td>...</td>\n",
              "      <td>246423.500000</td>\n",
              "      <td>10612.775000</td>\n",
              "      <td>4.710635e+06</td>\n",
              "      <td>85369.600000</td>\n",
              "      <td>7.592380e+05</td>\n",
              "      <td>110140.000000</td>\n",
              "      <td>149597.000000</td>\n",
              "      <td>549455.000000</td>\n",
              "      <td>54748.350000</td>\n",
              "      <td>27031.90000</td>\n",
              "    </tr>\n",
              "    <tr>\n",
              "      <th>max</th>\n",
              "      <td>21361.800000</td>\n",
              "      <td>1.806980e+06</td>\n",
              "      <td>66252.400000</td>\n",
              "      <td>65347.900000</td>\n",
              "      <td>49695.600000</td>\n",
              "      <td>9352.640000</td>\n",
              "      <td>538862.000000</td>\n",
              "      <td>137369.000000</td>\n",
              "      <td>766591.000000</td>\n",
              "      <td>427084.000000</td>\n",
              "      <td>...</td>\n",
              "      <td>409939.000000</td>\n",
              "      <td>27670.500000</td>\n",
              "      <td>1.385550e+07</td>\n",
              "      <td>712856.000000</td>\n",
              "      <td>3.984710e+06</td>\n",
              "      <td>251526.000000</td>\n",
              "      <td>264224.000000</td>\n",
              "      <td>948416.000000</td>\n",
              "      <td>107220.000000</td>\n",
              "      <td>70020.80000</td>\n",
              "    </tr>\n",
              "  </tbody>\n",
              "</table>\n",
              "<p>8 rows × 1195 columns</p>\n",
              "</div>"
            ],
            "text/plain": [
              "             O00391        O00533        O00584        O14498        O14773  \\\n",
              "count    764.000000  1.112000e+03   1100.000000   1032.000000   1047.000000   \n",
              "mean   11641.264435  5.111649e+05  26505.529157  27305.934884  17688.295406   \n",
              "std     2817.003530  2.357357e+05  10705.152540   8446.187506   7166.325369   \n",
              "min      873.778000  5.971820e+04    591.103000   8945.340000   2811.120000   \n",
              "25%     9736.857500  3.490590e+05  19941.075000  21123.650000  12920.050000   \n",
              "50%    11546.400000  4.834425e+05  26529.700000  26624.000000  17399.600000   \n",
              "75%    13383.025000  6.485572e+05  33222.800000  32459.275000  22077.050000   \n",
              "max    21361.800000  1.806980e+06  66252.400000  65347.900000  49695.600000   \n",
              "\n",
              "            O14791         O15240         O15394         O43505  \\\n",
              "count   942.000000    1113.000000    1050.000000    1110.000000   \n",
              "mean   3004.990691  126151.780054   50773.474638  195599.363694   \n",
              "std    1142.159575   72748.393517   21382.028764   79739.704279   \n",
              "min     336.517000   10717.400000    5806.840000   29740.900000   \n",
              "25%    2189.087500   70560.600000   37008.975000  142054.500000   \n",
              "50%    2865.460000  116900.000000   50375.800000  185616.000000   \n",
              "75%    3593.147500  164947.000000   63446.700000  239731.500000   \n",
              "max    9352.640000  538862.000000  137369.000000  766591.000000   \n",
              "\n",
              "              O60888  ...   YSLTYIYTGLSK       YTTEIIK  YVGGQEHFAHLLILR  \\\n",
              "count    1079.000000  ...    1100.000000    994.000000     1.022000e+03   \n",
              "mean   145382.047368  ...  215246.833636   9015.134433     3.937256e+06   \n",
              "std     58028.089713  ...   50727.227704   3127.061637     1.677710e+06   \n",
              "min      8358.080000  ...   12164.300000    258.249000     1.624640e+05   \n",
              "25%    103983.000000  ...  186658.250000   6899.805000     2.895622e+06   \n",
              "50%    136452.000000  ...  217430.500000   8604.345000     3.671010e+06   \n",
              "75%    177451.000000  ...  246423.500000  10612.775000     4.710635e+06   \n",
              "max    427084.000000  ...  409939.000000  27670.500000     1.385550e+07   \n",
              "\n",
              "       YVM(UniMod_35)LPVADQDQC(UniMod_4)IR  YVMLPVADQDQC(UniMod_4)IR  \\\n",
              "count                           977.000000              1.091000e+03   \n",
              "mean                          67866.452927              6.110779e+05   \n",
              "std                           61176.002825              5.047422e+05   \n",
              "min                             884.260000              7.494660e+03   \n",
              "25%                           30997.900000              2.929505e+05   \n",
              "50%                           52576.900000              4.702450e+05   \n",
              "75%                           85369.600000              7.592380e+05   \n",
              "max                          712856.000000              3.984710e+06   \n",
              "\n",
              "       YVNKEIQNAVNGVK     YWGVASFLQK  YYC(UniMod_4)FQGNQFLR      YYTYLIMNK  \\\n",
              "count     1111.000000    1089.000000            1105.000000    1030.000000   \n",
              "mean     92581.223041  125937.993436          471554.596652   47068.709311   \n",
              "std      30138.957433   38696.448657          131150.715245   13689.667117   \n",
              "min        869.898000     991.452000           11371.200000    6362.490000   \n",
              "25%      70508.150000  100691.000000          384902.000000   37752.375000   \n",
              "50%      88918.600000  123588.000000          463382.000000   45503.150000   \n",
              "75%     110140.000000  149597.000000          549455.000000   54748.350000   \n",
              "max     251526.000000  264224.000000          948416.000000  107220.000000   \n",
              "\n",
              "       YYWGGQYTWDMAK  \n",
              "count      865.00000  \n",
              "mean     21072.04823  \n",
              "std      10360.59380  \n",
              "min        868.90300  \n",
              "25%      14249.90000  \n",
              "50%      20390.90000  \n",
              "75%      27031.90000  \n",
              "max      70020.80000  \n",
              "\n",
              "[8 rows x 1195 columns]"
            ]
          },
          "execution_count": 16,
          "metadata": {},
          "output_type": "execute_result"
        }
      ],
      "source": [
        "pro_pep_df.describe()"
      ]
    },
    {
      "cell_type": "markdown",
      "id": "83378ad0",
      "metadata": {
        "papermill": {
          "duration": 0.024339,
          "end_time": "2023-05-11T05:58:53.313745",
          "exception": false,
          "start_time": "2023-05-11T05:58:53.289406",
          "status": "completed"
        },
        "tags": [],
        "id": "83378ad0"
      },
      "source": [
        "Now let us write a function to split the dataset into train and test datasets. This will be used in the training loop."
      ]
    },
    {
      "cell_type": "code",
      "execution_count": null,
      "id": "9ef6389c",
      "metadata": {
        "execution": {
          "iopub.execute_input": "2023-05-11T05:58:53.365201Z",
          "iopub.status.busy": "2023-05-11T05:58:53.364486Z",
          "iopub.status.idle": "2023-05-11T05:58:53.369675Z",
          "shell.execute_reply": "2023-05-11T05:58:53.368837Z"
        },
        "papermill": {
          "duration": 0.033725,
          "end_time": "2023-05-11T05:58:53.372383",
          "exception": false,
          "start_time": "2023-05-11T05:58:53.338658",
          "status": "completed"
        },
        "tags": [],
        "id": "9ef6389c"
      },
      "outputs": [],
      "source": [
        "def split_dataset(dataset, test_ratio=0.20):\n",
        "  test_indices = np.random.rand(len(dataset)) < test_ratio\n",
        "  return dataset[~test_indices], dataset[test_indices]"
      ]
    },
    {
      "cell_type": "markdown",
      "id": "e71fbc33",
      "metadata": {
        "papermill": {
          "duration": 0.024361,
          "end_time": "2023-05-11T05:58:53.421200",
          "exception": false,
          "start_time": "2023-05-11T05:58:53.396839",
          "status": "completed"
        },
        "tags": [],
        "id": "e71fbc33"
      },
      "source": [
        "# Select a Model\n",
        "There are several tree-based models for you to choose from.\n",
        "\n",
        "- RandomForestModel\n",
        "- GradientBoostedTreesModel\n",
        "- CartModel\n",
        "- DistributedGradientBoostedTreesModel\n",
        "\n",
        "We can list all the available models in TensorFlow Decision Forests using the following code:"
      ]
    },
    {
      "cell_type": "code",
      "execution_count": null,
      "id": "a6ac5ed2",
      "metadata": {
        "execution": {
          "iopub.execute_input": "2023-05-11T05:58:53.472066Z",
          "iopub.status.busy": "2023-05-11T05:58:53.471336Z",
          "iopub.status.idle": "2023-05-11T05:58:53.478517Z",
          "shell.execute_reply": "2023-05-11T05:58:53.477137Z"
        },
        "papermill": {
          "duration": 0.035698,
          "end_time": "2023-05-11T05:58:53.481125",
          "exception": false,
          "start_time": "2023-05-11T05:58:53.445427",
          "status": "completed"
        },
        "tags": [],
        "id": "a6ac5ed2",
        "outputId": "83096eac-aa56-452f-bc00-05798f0ccd54"
      },
      "outputs": [
        {
          "data": {
            "text/plain": [
              "[tensorflow_decision_forests.keras.RandomForestModel,\n",
              " tensorflow_decision_forests.keras.GradientBoostedTreesModel,\n",
              " tensorflow_decision_forests.keras.CartModel,\n",
              " tensorflow_decision_forests.keras.DistributedGradientBoostedTreesModel]"
            ]
          },
          "execution_count": 18,
          "metadata": {},
          "output_type": "execute_result"
        }
      ],
      "source": [
        "tfdf.keras.get_all_models()"
      ]
    },
    {
      "cell_type": "markdown",
      "id": "42e197cc",
      "metadata": {
        "papermill": {
          "duration": 0.024434,
          "end_time": "2023-05-11T05:58:53.530363",
          "exception": false,
          "start_time": "2023-05-11T05:58:53.505929",
          "status": "completed"
        },
        "tags": [],
        "id": "42e197cc"
      },
      "source": [
        "To get started, we'll work with a Random Forest. This is the most well-known of the Decision Forest training algorithms.\n",
        "\n",
        "A Random Forest is a collection of decision trees, each trained independently on a random subset of the training dataset (sampled with replacement). The algorithm is unique in that it is robust to overfitting, and easy to use."
      ]
    },
    {
      "cell_type": "markdown",
      "id": "68d23e88",
      "metadata": {
        "papermill": {
          "duration": 0.024112,
          "end_time": "2023-05-11T05:58:53.578981",
          "exception": false,
          "start_time": "2023-05-11T05:58:53.554869",
          "status": "completed"
        },
        "tags": [],
        "id": "68d23e88"
      },
      "source": [
        "# How can I configure a tree-based model?\n",
        "\n",
        "TensorFlow Decision Forests provides good defaults for you (e.g., the top ranking hyperparameters on our benchmarks, slightly modified to run in reasonable time). If you would like to configure the learning algorithm, you will find many options you can explore to get the highest possible accuracy.\n",
        "\n",
        "You can select a template and/or set parameters as follows:\n",
        "\n",
        "```rf = tfdf.keras.RandomForestModel(hyperparameter_template=\"benchmark_rank1\", task=tfdf.keras.Task.REGRESSION)```\n",
        "\n",
        "Read more [here](https://www.tensorflow.org/decision_forests/api_docs/python/tfdf/keras/RandomForestModel)."
      ]
    },
    {
      "cell_type": "markdown",
      "id": "ce3cfdb2",
      "metadata": {
        "papermill": {
          "duration": 0.025398,
          "end_time": "2023-05-11T05:58:53.628923",
          "exception": false,
          "start_time": "2023-05-11T05:58:53.603525",
          "status": "completed"
        },
        "tags": [],
        "id": "ce3cfdb2"
      },
      "source": [
        "Before training the model, let us write a function to calculate the scoring metric of the competition."
      ]
    },
    {
      "cell_type": "markdown",
      "id": "777dcee7",
      "metadata": {
        "papermill": {
          "duration": 0.024621,
          "end_time": "2023-05-11T05:58:53.678572",
          "exception": false,
          "start_time": "2023-05-11T05:58:53.653951",
          "status": "completed"
        },
        "tags": [],
        "id": "777dcee7"
      },
      "source": [
        "# sMAPE\n",
        "\n",
        "The scoring metric for this competition is sMAPE(symmetric Mean Absolute Percentage Error). In MAPE(Mean Absolute Percentage Error) we calculate the sum of absolute value of the forecast errors, divided by the actual values for each period([source](https://en.wikipedia.org/wiki/Mean_absolute_percentage_error)).\n",
        "\n",
        "Difference between MAPE and sMAPE is that sMAPE has both a lower bound and an upper bound.\n",
        "\n",
        "\n",
        "You can read more about sMAPE [here](https://en.wikipedia.org/wiki/Symmetric_mean_absolute_percentage_error).\n",
        "\n",
        "Since TensorFlow Datasets doesn't have a bultin function to calculate sMAPE metric yet, we will write a custom function to calculate sMAPE."
      ]
    },
    {
      "cell_type": "code",
      "execution_count": null,
      "id": "e538b4b2",
      "metadata": {
        "execution": {
          "iopub.execute_input": "2023-05-11T05:58:53.729766Z",
          "iopub.status.busy": "2023-05-11T05:58:53.728980Z",
          "iopub.status.idle": "2023-05-11T05:58:53.734495Z",
          "shell.execute_reply": "2023-05-11T05:58:53.733595Z"
        },
        "papermill": {
          "duration": 0.033939,
          "end_time": "2023-05-11T05:58:53.737007",
          "exception": false,
          "start_time": "2023-05-11T05:58:53.703068",
          "status": "completed"
        },
        "tags": [],
        "id": "e538b4b2"
      },
      "outputs": [],
      "source": [
        "def smape(A, F):\n",
        "    return 100/len(A) * np.sum(2 * np.abs(F - A) / (np.abs(A) + np.abs(F)))"
      ]
    },
    {
      "cell_type": "markdown",
      "id": "8c816390",
      "metadata": {
        "papermill": {
          "duration": 0.024699,
          "end_time": "2023-05-11T05:58:53.786828",
          "exception": false,
          "start_time": "2023-05-11T05:58:53.762129",
          "status": "completed"
        },
        "tags": [],
        "id": "8c816390"
      },
      "source": [
        "# Training\n",
        "\n",
        "We will train a model each to predict the first 4 segments of the UPDRS, `updrs_1`, `updrs_2`, `updrs_3` and `updrs_4`. Thus we we will be training 4 models, one for each label.\n",
        "\n",
        "We need to provide a few data structures to our training loop to store the trained models, sMAPE scores and mse scores for the trained models.\n",
        "\n",
        "We will create these using the following code:"
      ]
    },
    {
      "cell_type": "code",
      "execution_count": null,
      "id": "f8bb39d7",
      "metadata": {
        "execution": {
          "iopub.execute_input": "2023-05-11T05:58:53.837979Z",
          "iopub.status.busy": "2023-05-11T05:58:53.837247Z",
          "iopub.status.idle": "2023-05-11T05:58:53.842100Z",
          "shell.execute_reply": "2023-05-11T05:58:53.841244Z"
        },
        "papermill": {
          "duration": 0.033411,
          "end_time": "2023-05-11T05:58:53.844623",
          "exception": false,
          "start_time": "2023-05-11T05:58:53.811212",
          "status": "completed"
        },
        "tags": [],
        "id": "f8bb39d7"
      },
      "outputs": [],
      "source": [
        "# Create an empty dictionary to store the models trained for each label.\n",
        "model_dict = {}\n",
        "\n",
        "# Create an empty dictionary to store the mse score of the models trained for each label.\n",
        "mse_dict = {}\n",
        "\n",
        "# Create an empty dictionary to store the sMAPE scores of the models trained for each label.\n",
        "smape_dict = {}"
      ]
    },
    {
      "cell_type": "markdown",
      "id": "6c671668",
      "metadata": {
        "papermill": {
          "duration": 0.024124,
          "end_time": "2023-05-11T05:58:53.893366",
          "exception": false,
          "start_time": "2023-05-11T05:58:53.869242",
          "status": "completed"
        },
        "tags": [],
        "id": "6c671668"
      },
      "source": [
        "Next, we will create a feature list with names of the columns we will use for training the model. We will avoid the column `visit_id` and add column the `visit_month`"
      ]
    },
    {
      "cell_type": "code",
      "execution_count": null,
      "id": "a7185322",
      "metadata": {
        "execution": {
          "iopub.execute_input": "2023-05-11T05:58:53.944862Z",
          "iopub.status.busy": "2023-05-11T05:58:53.944077Z",
          "iopub.status.idle": "2023-05-11T05:58:53.950644Z",
          "shell.execute_reply": "2023-05-11T05:58:53.949502Z"
        },
        "papermill": {
          "duration": 0.035494,
          "end_time": "2023-05-11T05:58:53.953366",
          "exception": false,
          "start_time": "2023-05-11T05:58:53.917872",
          "status": "completed"
        },
        "tags": [],
        "id": "a7185322"
      },
      "outputs": [],
      "source": [
        "FEATURES = [i for i in pro_pep_df.columns if i not in [\"visit_id\"]]\n",
        "FEATURES.append(\"visit_month\")"
      ]
    },
    {
      "cell_type": "markdown",
      "id": "2139f669",
      "metadata": {
        "papermill": {
          "duration": 0.024165,
          "end_time": "2023-05-11T05:58:54.002188",
          "exception": false,
          "start_time": "2023-05-11T05:58:53.978023",
          "status": "completed"
        },
        "tags": [],
        "id": "2139f669"
      },
      "source": [
        "Now let us train the models."
      ]
    },
    {
      "cell_type": "code",
      "execution_count": null,
      "id": "60b1f6b9",
      "metadata": {
        "execution": {
          "iopub.execute_input": "2023-05-11T05:58:54.054014Z",
          "iopub.status.busy": "2023-05-11T05:58:54.053295Z",
          "iopub.status.idle": "2023-05-11T06:03:25.548058Z",
          "shell.execute_reply": "2023-05-11T06:03:25.546802Z"
        },
        "papermill": {
          "duration": 271.523909,
          "end_time": "2023-05-11T06:03:25.550893",
          "exception": false,
          "start_time": "2023-05-11T05:58:54.026984",
          "status": "completed"
        },
        "tags": [],
        "id": "60b1f6b9",
        "outputId": "b2226fe1-bafa-4c4b-db6e-85929b979888"
      },
      "outputs": [
        {
          "name": "stdout",
          "output_type": "stream",
          "text": [
            "860 examples in training, 208 examples in testing.\n"
          ]
        },
        {
          "name": "stderr",
          "output_type": "stream",
          "text": [
            "[INFO 2023-05-11T05:59:51.60063856+00:00 kernel.cc:1214] Loading model from path /tmp/tmp10qyf2qt/model/ with prefix 032a3fcc4a9a499a\n",
            "[INFO 2023-05-11T05:59:51.897818846+00:00 decision_forest.cc:661] Model loaded with 300 root(s), 67526 node(s), and 1196 input feature(s).\n",
            "[INFO 2023-05-11T05:59:51.898072936+00:00 abstract_model.cc:1311] Engine \"RandomForestOptPred\" built\n",
            "[INFO 2023-05-11T05:59:51.898860858+00:00 kernel.cc:1046] Use fast generic engine\n"
          ]
        },
        {
          "name": "stdout",
          "output_type": "stream",
          "text": [
            "WARNING: AutoGraph could not transform <function simple_ml_inference_op_with_handle at 0x7fcb108b4550> and will run it as-is.\n",
            "Please report this to the TensorFlow team. When filing the bug, set the verbosity to 10 (on Linux, `export AUTOGRAPH_VERBOSITY=10`) and attach the full output.\n",
            "Cause: could not get source code\n",
            "To silence this warning, decorate the function with @tf.autograph.experimental.do_not_convert\n",
            "1/1 [==============================] - 5s 5s/step - loss: 0.0000e+00 - mse: 26.7532\n",
            "1/1 [==============================] - 3s 3s/step\n",
            "865 examples in training, 203 examples in testing.\n"
          ]
        },
        {
          "name": "stderr",
          "output_type": "stream",
          "text": [
            "[INFO 2023-05-11T06:01:02.033608532+00:00 kernel.cc:1214] Loading model from path /tmp/tmp2ar6t48l/model/ with prefix 17a3e4625f4641b4\n",
            "[INFO 2023-05-11T06:01:02.327152255+00:00 decision_forest.cc:661] Model loaded with 300 root(s), 65702 node(s), and 1196 input feature(s).\n",
            "[INFO 2023-05-11T06:01:02.327497652+00:00 abstract_model.cc:1311] Engine \"RandomForestOptPred\" built\n",
            "[INFO 2023-05-11T06:01:02.32839453+00:00 kernel.cc:1046] Use fast generic engine\n"
          ]
        },
        {
          "name": "stdout",
          "output_type": "stream",
          "text": [
            "1/1 [==============================] - 4s 4s/step - loss: 0.0000e+00 - mse: 25.7829\n",
            "1/1 [==============================] - 2s 2s/step\n",
            "851 examples in training, 207 examples in testing.\n"
          ]
        },
        {
          "name": "stderr",
          "output_type": "stream",
          "text": [
            "[INFO 2023-05-11T06:02:08.796578516+00:00 kernel.cc:1214] Loading model from path /tmp/tmpt9rl3y_v/model/ with prefix 6cf624c766554ff3\n",
            "[INFO 2023-05-11T06:02:09.124547643+00:00 decision_forest.cc:661] Model loaded with 300 root(s), 73378 node(s), and 1196 input feature(s).\n",
            "[INFO 2023-05-11T06:02:09.124801898+00:00 abstract_model.cc:1311] Engine \"RandomForestOptPred\" built\n",
            "[INFO 2023-05-11T06:02:09.125747493+00:00 kernel.cc:1046] Use fast generic engine\n"
          ]
        },
        {
          "name": "stdout",
          "output_type": "stream",
          "text": [
            "1/1 [==============================] - 4s 4s/step - loss: 0.0000e+00 - mse: 181.1054\n",
            "1/1 [==============================] - 3s 3s/step\n",
            "448 examples in training, 121 examples in testing.\n"
          ]
        },
        {
          "name": "stderr",
          "output_type": "stream",
          "text": [
            "[INFO 2023-05-11T06:03:08.180873497+00:00 kernel.cc:1214] Loading model from path /tmp/tmpddtv2dxt/model/ with prefix 9e93ac9a105742d6\n",
            "[INFO 2023-05-11T06:03:08.286679914+00:00 decision_forest.cc:661] Model loaded with 300 root(s), 23578 node(s), and 1191 input feature(s).\n",
            "[INFO 2023-05-11T06:03:08.287172154+00:00 abstract_model.cc:1311] Engine \"RandomForestOptPred\" built\n",
            "[INFO 2023-05-11T06:03:08.288143386+00:00 kernel.cc:1046] Use fast generic engine\n"
          ]
        },
        {
          "name": "stdout",
          "output_type": "stream",
          "text": [
            "1/1 [==============================] - 4s 4s/step - loss: 0.0000e+00 - mse: 7.1799\n",
            "1/1 [==============================] - 2s 2s/step\n"
          ]
        }
      ],
      "source": [
        "# List of target labels to loop through and train models\n",
        "target = [\"updrs_1\", \"updrs_2\", \"updrs_3\", \"updrs_4\"]\n",
        "\n",
        "# Loop through each label\n",
        "for label in target:\n",
        "\n",
        "    # Merge the label 'visit_id', 'patient_id', 'visit_month' and label columns from `train_clinical`\n",
        "    # data frame to `pro_prep_df` data frame on the `visit_id` column.\n",
        "    dataset_df = pro_pep_df.merge(train_clinical[['visit_id', 'patient_id', 'visit_month', label]], on = ['visit_id'], how = 'left')\n",
        "\n",
        "    # Drop null value label rows\n",
        "    dataset_df = dataset_df.dropna(subset=[label])\n",
        "\n",
        "    # Make a new copy of the FEATURES list we created previously. Add `label` to it.\n",
        "    feature_list = FEATURES.copy()\n",
        "    feature_list.append(label)\n",
        "\n",
        "    # Split the dataset into train and validation datasets.\n",
        "    train_df, valid_df = split_dataset(dataset_df[feature_list])\n",
        "    print(\"{} examples in training, {} examples in testing.\".format(len(train_df), len(valid_df)))\n",
        "\n",
        "    # There's one more step required before we can train the model.\n",
        "    # We need to convert the datatset from Pandas format (pd.DataFrame)\n",
        "    # into TensorFlow Datasets format (tf.data.Dataset).\n",
        "    # TensorFlow Datasets is a high performance data loading library\n",
        "    # which is helpful when training neural networks with accelerators like GPUs and TPUs.\n",
        "    train_ds = tfdf.keras.pd_dataframe_to_tf_dataset(train_df, label=label, task = tfdf.keras.Task.REGRESSION)\n",
        "    valid_ds = tfdf.keras.pd_dataframe_to_tf_dataset(valid_df, label=label, task = tfdf.keras.Task.REGRESSION)\n",
        "\n",
        "    # We will now create the Random Forest Tree Model with default settings.\n",
        "    # By default the model is set to train for a classification task. Since this is a regression problem,\n",
        "    # we will specify the type of the task (tfdf.keras.Task.REGRESSION) as a parameter here.\n",
        "    rf = tfdf.keras.RandomForestModel(task = tfdf.keras.Task.REGRESSION, verbose=0)\n",
        "    rf.compile(metrics=[\"mse\"])\n",
        "\n",
        "    # Train the model.\n",
        "    rf.fit(x=train_ds)\n",
        "\n",
        "    # Store the model\n",
        "    model_dict[label] = rf\n",
        "\n",
        "    # Evaluate the trained model on the validation dataset and store the\n",
        "    # mse value in the `mse_dict`.\n",
        "    inspector = rf.make_inspector()\n",
        "    inspector.evaluation()\n",
        "    evaluation = rf.evaluate(x=valid_ds,return_dict=True)\n",
        "    mse_dict[label] = evaluation[\"mse\"]\n",
        "\n",
        "    # Use the trained model to make predictions on the validation dataset.\n",
        "    # Using these predictions, calculate and store the sMAPE value for this model.\n",
        "    preds = rf.predict(valid_ds)\n",
        "    smape_dict[label] = smape(valid_df[label].values.tolist(), preds.flatten())"
      ]
    },
    {
      "cell_type": "markdown",
      "id": "8aa212db",
      "metadata": {
        "papermill": {
          "duration": 0.026515,
          "end_time": "2023-05-11T06:03:25.605108",
          "exception": false,
          "start_time": "2023-05-11T06:03:25.578593",
          "status": "completed"
        },
        "tags": [],
        "id": "8aa212db"
      },
      "source": [
        "# Inspect the Mean Squared Error(MSE) scores of the models."
      ]
    },
    {
      "cell_type": "code",
      "execution_count": null,
      "id": "23d9ecd2",
      "metadata": {
        "execution": {
          "iopub.execute_input": "2023-05-11T06:03:25.661146Z",
          "iopub.status.busy": "2023-05-11T06:03:25.660742Z",
          "iopub.status.idle": "2023-05-11T06:03:25.667750Z",
          "shell.execute_reply": "2023-05-11T06:03:25.666447Z"
        },
        "papermill": {
          "duration": 0.038102,
          "end_time": "2023-05-11T06:03:25.670309",
          "exception": false,
          "start_time": "2023-05-11T06:03:25.632207",
          "status": "completed"
        },
        "tags": [],
        "id": "23d9ecd2",
        "outputId": "eec9bc03-c0e2-4d6a-ca27-31de20f2f32c"
      },
      "outputs": [
        {
          "name": "stdout",
          "output_type": "stream",
          "text": [
            "label updrs_1: mse 26.7532\n",
            "label updrs_2: mse 25.7829\n",
            "label updrs_3: mse 181.1054\n",
            "label updrs_4: mse 7.1799\n",
            "\n",
            "Average mse 60.205331683158875\n"
          ]
        }
      ],
      "source": [
        "for name, value in mse_dict.items():\n",
        "  print(f\"label {name}: mse {value:.4f}\")\n",
        "\n",
        "print(\"\\nAverage mse\", sum(mse_dict.values())/4)"
      ]
    },
    {
      "cell_type": "markdown",
      "id": "2a9d5710",
      "metadata": {
        "papermill": {
          "duration": 0.027022,
          "end_time": "2023-05-11T06:03:25.725080",
          "exception": false,
          "start_time": "2023-05-11T06:03:25.698058",
          "status": "completed"
        },
        "tags": [],
        "id": "2a9d5710"
      },
      "source": [
        "# Inspect the sMAPE scores of the models"
      ]
    },
    {
      "cell_type": "code",
      "execution_count": null,
      "id": "de719cac",
      "metadata": {
        "execution": {
          "iopub.execute_input": "2023-05-11T06:03:25.782185Z",
          "iopub.status.busy": "2023-05-11T06:03:25.780986Z",
          "iopub.status.idle": "2023-05-11T06:03:25.788802Z",
          "shell.execute_reply": "2023-05-11T06:03:25.787299Z"
        },
        "papermill": {
          "duration": 0.038689,
          "end_time": "2023-05-11T06:03:25.791133",
          "exception": false,
          "start_time": "2023-05-11T06:03:25.752444",
          "status": "completed"
        },
        "tags": [],
        "id": "de719cac",
        "outputId": "ccabdc0b-8bfb-4dfe-fb62-1016f3fe48ac"
      },
      "outputs": [
        {
          "name": "stdout",
          "output_type": "stream",
          "text": [
            "label updrs_1: sMAPE 66.7921\n",
            "label updrs_2: sMAPE 86.1378\n",
            "label updrs_3: sMAPE 80.7402\n",
            "label updrs_4: sMAPE 144.0201\n",
            "\n",
            "Average sMAPE 94.42254654062916\n"
          ]
        }
      ],
      "source": [
        "for name, value in smape_dict.items():\n",
        "  print(f\"label {name}: sMAPE {value:.4f}\")\n",
        "\n",
        "print(\"\\nAverage sMAPE\", sum(smape_dict.values())/4)"
      ]
    },
    {
      "cell_type": "markdown",
      "id": "7b0323bb",
      "metadata": {
        "papermill": {
          "duration": 0.028372,
          "end_time": "2023-05-11T06:03:25.848273",
          "exception": false,
          "start_time": "2023-05-11T06:03:25.819901",
          "status": "completed"
        },
        "tags": [],
        "id": "7b0323bb"
      },
      "source": [
        "# Visualize the model\n",
        "\n",
        "One benefit of tree-based models is that we can easily visualize them. The default number of trees used in the Random Forests is 300.\n",
        "\n",
        "Let us pick one model from `model_dict` and select a tree to display below."
      ]
    },
    {
      "cell_type": "code",
      "execution_count": null,
      "id": "de9f6b70",
      "metadata": {
        "execution": {
          "iopub.execute_input": "2023-05-11T06:03:25.905284Z",
          "iopub.status.busy": "2023-05-11T06:03:25.904901Z",
          "iopub.status.idle": "2023-05-11T06:03:25.929220Z",
          "shell.execute_reply": "2023-05-11T06:03:25.928293Z"
        },
        "papermill": {
          "duration": 0.055841,
          "end_time": "2023-05-11T06:03:25.931807",
          "exception": false,
          "start_time": "2023-05-11T06:03:25.875966",
          "status": "completed"
        },
        "tags": [],
        "id": "de9f6b70",
        "outputId": "fc2f42d3-61be-4037-dbd8-45d5eac8c437"
      },
      "outputs": [
        {
          "data": {
            "text/html": [
              "\n",
              "<script src=\"https://d3js.org/d3.v6.min.js\"></script>\n",
              "<div id=\"tree_plot_dcf8fde9fbb74db6ab873fae21694ab6\"></div>\n",
              "<script>\n",
              "/*\n",
              " * Copyright 2021 Google LLC.\n",
              " * Licensed under the Apache License, Version 2.0 (the \"License\");\n",
              " * you may not use this file except in compliance with the License.\n",
              " * You may obtain a copy of the License at\n",
              " *\n",
              " *     https://www.apache.org/licenses/LICENSE-2.0\n",
              " *\n",
              " * Unless required by applicable law or agreed to in writing, software\n",
              " * distributed under the License is distributed on an \"AS IS\" BASIS,\n",
              " * WITHOUT WARRANTIES OR CONDITIONS OF ANY KIND, either express or implied.\n",
              " * See the License for the specific language governing permissions and\n",
              " * limitations under the License.\n",
              " */\n",
              "\n",
              "/**\n",
              " *  Plotting of decision trees generated by TF-DF.\n",
              " *\n",
              " *  A tree is a recursive structure of node objects.\n",
              " *  A node contains one or more of the following components:\n",
              " *\n",
              " *    - A value: Representing the output of the node. If the node is not a leaf,\n",
              " *      the value is only present for analysis i.e. it is not used for\n",
              " *      predictions.\n",
              " *\n",
              " *    - A condition : For non-leaf nodes, the condition (also known as split)\n",
              " *      defines a binary test to branch to the positive or negative child.\n",
              " *\n",
              " *    - An explanation: Generally a plot showing the relation between the label\n",
              " *      and the condition to give insights about the effect of the condition.\n",
              " *\n",
              " *    - Two children : For non-leaf nodes, the children nodes. The first\n",
              " *      children (i.e. \"node.children[0]\") is the negative children (drawn in\n",
              " *      red). The second children is the positive one (drawn in green).\n",
              " *\n",
              " */\n",
              "\n",
              "/**\n",
              " * Plots a single decision tree into a DOM element.\n",
              " * @param {!options} options Dictionary of configurations.\n",
              " * @param {!tree} raw_tree Recursive tree structure.\n",
              " * @param {string} canvas_id Id of the output dom element.\n",
              " */\n",
              "function display_tree(options, raw_tree, canvas_id) {\n",
              "  console.log(options);\n",
              "\n",
              "  // Determine the node placement.\n",
              "  const tree_struct = d3.tree().nodeSize(\n",
              "      [options.node_y_offset, options.node_x_offset])(d3.hierarchy(raw_tree));\n",
              "\n",
              "  // Boundaries of the node placement.\n",
              "  let x_min = Infinity;\n",
              "  let x_max = -x_min;\n",
              "  let y_min = Infinity;\n",
              "  let y_max = -x_min;\n",
              "\n",
              "  tree_struct.each(d => {\n",
              "    if (d.x > x_max) x_max = d.x;\n",
              "    if (d.x < x_min) x_min = d.x;\n",
              "    if (d.y > y_max) y_max = d.y;\n",
              "    if (d.y < y_min) y_min = d.y;\n",
              "  });\n",
              "\n",
              "  // Size of the plot.\n",
              "  const width = y_max - y_min + options.node_x_size + options.margin * 2;\n",
              "  const height = x_max - x_min + options.node_y_size + options.margin * 2 +\n",
              "      options.node_y_offset - options.node_y_size;\n",
              "\n",
              "  const plot = d3.select(canvas_id);\n",
              "\n",
              "  // Tool tip\n",
              "  options.tooltip = plot.append('div')\n",
              "                        .attr('width', 100)\n",
              "                        .attr('height', 100)\n",
              "                        .style('padding', '4px')\n",
              "                        .style('background', '#fff')\n",
              "                        .style('box-shadow', '4px 4px 0px rgba(0,0,0,0.1)')\n",
              "                        .style('border', '1px solid black')\n",
              "                        .style('font-family', 'sans-serif')\n",
              "                        .style('font-size', options.font_size)\n",
              "                        .style('position', 'absolute')\n",
              "                        .style('z-index', '10')\n",
              "                        .attr('pointer-events', 'none')\n",
              "                        .style('display', 'none');\n",
              "\n",
              "  // Create canvas\n",
              "  const svg = plot.append('svg').attr('width', width).attr('height', height);\n",
              "  const graph =\n",
              "      svg.style('overflow', 'visible')\n",
              "          .append('g')\n",
              "          .attr('font-family', 'sans-serif')\n",
              "          .attr('font-size', options.font_size)\n",
              "          .attr(\n",
              "              'transform',\n",
              "              () => `translate(${options.margin},${\n",
              "                  - x_min + options.node_y_offset / 2 + options.margin})`);\n",
              "\n",
              "  // Plot bounding box.\n",
              "  if (options.show_plot_bounding_box) {\n",
              "    svg.append('rect')\n",
              "        .attr('width', width)\n",
              "        .attr('height', height)\n",
              "        .attr('fill', 'none')\n",
              "        .attr('stroke-width', 1.0)\n",
              "        .attr('stroke', 'black');\n",
              "  }\n",
              "\n",
              "  // Draw the edges.\n",
              "  display_edges(options, graph, tree_struct);\n",
              "\n",
              "  // Draw the nodes.\n",
              "  display_nodes(options, graph, tree_struct);\n",
              "}\n",
              "\n",
              "/**\n",
              " * Draw the nodes of the tree.\n",
              " * @param {!options} options Dictionary of configurations.\n",
              " * @param {!graph} graph D3 search handle containing the graph.\n",
              " * @param {!tree_struct} tree_struct Structure of the tree (node placement,\n",
              " *     data, etc.).\n",
              " */\n",
              "function display_nodes(options, graph, tree_struct) {\n",
              "  const nodes = graph.append('g')\n",
              "                    .selectAll('g')\n",
              "                    .data(tree_struct.descendants())\n",
              "                    .join('g')\n",
              "                    .attr('transform', d => `translate(${d.y},${d.x})`);\n",
              "\n",
              "  nodes.append('rect')\n",
              "      .attr('x', 0.5)\n",
              "      .attr('y', 0.5)\n",
              "      .attr('width', options.node_x_size)\n",
              "      .attr('height', options.node_y_size)\n",
              "      .attr('stroke', 'lightgrey')\n",
              "      .attr('stroke-width', 1)\n",
              "      .attr('fill', 'white')\n",
              "      .attr('y', -options.node_y_size / 2);\n",
              "\n",
              "  // Brackets on the right of condition nodes without children.\n",
              "  non_leaf_node_without_children =\n",
              "      nodes.filter(node => node.data.condition != null && node.children == null)\n",
              "          .append('g')\n",
              "          .attr('transform', `translate(${options.node_x_size},0)`);\n",
              "\n",
              "  non_leaf_node_without_children.append('path')\n",
              "      .attr('d', 'M0,0 C 10,0 0,10 10,10')\n",
              "      .attr('fill', 'none')\n",
              "      .attr('stroke-width', 1.0)\n",
              "      .attr('stroke', '#F00');\n",
              "\n",
              "  non_leaf_node_without_children.append('path')\n",
              "      .attr('d', 'M0,0 C 10,0 0,-10 10,-10')\n",
              "      .attr('fill', 'none')\n",
              "      .attr('stroke-width', 1.0)\n",
              "      .attr('stroke', '#0F0');\n",
              "\n",
              "  const node_content = nodes.append('g').attr(\n",
              "      'transform',\n",
              "      `translate(0,${options.node_padding - options.node_y_size / 2})`);\n",
              "\n",
              "  node_content.append(node => create_node_element(options, node));\n",
              "}\n",
              "\n",
              "/**\n",
              " * Creates the D3 content for a single node.\n",
              " * @param {!options} options Dictionary of configurations.\n",
              " * @param {!node} node Node to draw.\n",
              " * @return {!d3} D3 content.\n",
              " */\n",
              "function create_node_element(options, node) {\n",
              "  // Output accumulator.\n",
              "  let output = {\n",
              "    // Content to draw.\n",
              "    content: d3.create('svg:g'),\n",
              "    // Vertical offset to the next element to draw.\n",
              "    vertical_offset: 0\n",
              "  };\n",
              "\n",
              "  // Conditions.\n",
              "  if (node.data.condition != null) {\n",
              "    display_condition(options, node.data.condition, output);\n",
              "  }\n",
              "\n",
              "  // Values.\n",
              "  if (node.data.value != null) {\n",
              "    display_value(options, node.data.value, output);\n",
              "  }\n",
              "\n",
              "  // Explanations.\n",
              "  if (node.data.explanation != null) {\n",
              "    display_explanation(options, node.data.explanation, output);\n",
              "  }\n",
              "\n",
              "  return output.content.node();\n",
              "}\n",
              "\n",
              "\n",
              "/**\n",
              " * Adds a single line of text inside of a node.\n",
              " * @param {!options} options Dictionary of configurations.\n",
              " * @param {string} text Text to display.\n",
              " * @param {!output} output Output display accumulator.\n",
              " */\n",
              "function display_node_text(options, text, output) {\n",
              "  output.content.append('text')\n",
              "      .attr('x', options.node_padding)\n",
              "      .attr('y', output.vertical_offset)\n",
              "      .attr('alignment-baseline', 'hanging')\n",
              "      .text(text);\n",
              "  output.vertical_offset += 10;\n",
              "}\n",
              "\n",
              "/**\n",
              " * Adds a single line of text inside of a node with a tooltip.\n",
              " * @param {!options} options Dictionary of configurations.\n",
              " * @param {string} text Text to display.\n",
              " * @param {string} tooltip Text in the Tooltip.\n",
              " * @param {!output} output Output display accumulator.\n",
              " */\n",
              "function display_node_text_with_tooltip(options, text, tooltip, output) {\n",
              "  const item = output.content.append('text')\n",
              "                   .attr('x', options.node_padding)\n",
              "                   .attr('alignment-baseline', 'hanging')\n",
              "                   .text(text);\n",
              "\n",
              "  add_tooltip(options, item, () => tooltip);\n",
              "  output.vertical_offset += 10;\n",
              "}\n",
              "\n",
              "/**\n",
              " * Adds a tooltip to a dom element.\n",
              " * @param {!options} options Dictionary of configurations.\n",
              " * @param {!dom} target Dom element to equip with a tooltip.\n",
              " * @param {!func} get_content Generates the html content of the tooltip.\n",
              " */\n",
              "function add_tooltip(options, target, get_content) {\n",
              "  function show(d) {\n",
              "    options.tooltip.style('display', 'block');\n",
              "    options.tooltip.html(get_content());\n",
              "  }\n",
              "\n",
              "  function hide(d) {\n",
              "    options.tooltip.style('display', 'none');\n",
              "  }\n",
              "\n",
              "  function move(d) {\n",
              "    options.tooltip.style('display', 'block');\n",
              "    options.tooltip.style('left', (d.pageX + 5) + 'px');\n",
              "    options.tooltip.style('top', d.pageY + 'px');\n",
              "  }\n",
              "\n",
              "  target.on('mouseover', show);\n",
              "  target.on('mouseout', hide);\n",
              "  target.on('mousemove', move);\n",
              "}\n",
              "\n",
              "/**\n",
              " * Adds a condition inside of a node.\n",
              " * @param {!options} options Dictionary of configurations.\n",
              " * @param {!condition} condition Condition to display.\n",
              " * @param {!output} output Output display accumulator.\n",
              " */\n",
              "function display_condition(options, condition, output) {\n",
              "  threshold_format = d3.format('r');\n",
              "\n",
              "  if (condition.type === 'IS_MISSING') {\n",
              "    display_node_text(options, `${condition.attribute} is missing`, output);\n",
              "    return;\n",
              "  }\n",
              "\n",
              "  if (condition.type === 'IS_TRUE') {\n",
              "    display_node_text(options, `${condition.attribute} is true`, output);\n",
              "    return;\n",
              "  }\n",
              "\n",
              "  if (condition.type === 'NUMERICAL_IS_HIGHER_THAN') {\n",
              "    format = d3.format('r');\n",
              "    display_node_text(\n",
              "        options,\n",
              "        `${condition.attribute} >= ${threshold_format(condition.threshold)}`,\n",
              "        output);\n",
              "    return;\n",
              "  }\n",
              "\n",
              "  if (condition.type === 'CATEGORICAL_IS_IN') {\n",
              "    display_node_text_with_tooltip(\n",
              "        options, `${condition.attribute} in [...]`,\n",
              "        `${condition.attribute} in [${condition.mask}]`, output);\n",
              "    return;\n",
              "  }\n",
              "\n",
              "  if (condition.type === 'CATEGORICAL_SET_CONTAINS') {\n",
              "    display_node_text_with_tooltip(\n",
              "        options, `${condition.attribute} intersect [...]`,\n",
              "        `${condition.attribute} intersect [${condition.mask}]`, output);\n",
              "    return;\n",
              "  }\n",
              "\n",
              "  if (condition.type === 'NUMERICAL_SPARSE_OBLIQUE') {\n",
              "    display_node_text_with_tooltip(\n",
              "        options, `Sparse oblique split...`,\n",
              "        `[${condition.attributes}]*[${condition.weights}]>=${\n",
              "            threshold_format(condition.threshold)}`,\n",
              "        output);\n",
              "    return;\n",
              "  }\n",
              "\n",
              "  display_node_text(\n",
              "      options, `Non supported condition ${condition.type}`, output);\n",
              "}\n",
              "\n",
              "/**\n",
              " * Adds a value inside of a node.\n",
              " * @param {!options} options Dictionary of configurations.\n",
              " * @param {!value} value Value to display.\n",
              " * @param {!output} output Output display accumulator.\n",
              " */\n",
              "function display_value(options, value, output) {\n",
              "  if (value.type === 'PROBABILITY') {\n",
              "    const left_margin = 0;\n",
              "    const right_margin = 50;\n",
              "    const plot_width = options.node_x_size - options.node_padding * 2 -\n",
              "        left_margin - right_margin;\n",
              "\n",
              "    let cusum = Array.from(d3.cumsum(value.distribution));\n",
              "    cusum.unshift(0);\n",
              "    const distribution_plot = output.content.append('g').attr(\n",
              "        'transform', `translate(0,${output.vertical_offset + 0.5})`);\n",
              "\n",
              "    distribution_plot.selectAll('rect')\n",
              "        .data(value.distribution)\n",
              "        .join('rect')\n",
              "        .attr('height', 10)\n",
              "        .attr(\n",
              "            'x',\n",
              "            (d, i) =>\n",
              "                (cusum[i] * plot_width + left_margin + options.node_padding))\n",
              "        .attr('width', (d, i) => d * plot_width)\n",
              "        .style('fill', (d, i) => d3.schemeSet1[i]);\n",
              "\n",
              "    const num_examples =\n",
              "        output.content.append('g')\n",
              "            .attr('transform', `translate(0,${output.vertical_offset})`)\n",
              "            .append('text')\n",
              "            .attr('x', options.node_x_size - options.node_padding)\n",
              "            .attr('alignment-baseline', 'hanging')\n",
              "            .attr('text-anchor', 'end')\n",
              "            .text(`(${value.num_examples})`);\n",
              "\n",
              "    const distribution_details = d3.create('ul');\n",
              "    distribution_details.selectAll('li')\n",
              "        .data(value.distribution)\n",
              "        .join('li')\n",
              "        .append('span')\n",
              "        .text(\n",
              "            (d, i) =>\n",
              "                'class ' + i + ': ' + d3.format('.3%')(value.distribution[i]));\n",
              "\n",
              "    add_tooltip(options, distribution_plot, () => distribution_details.html());\n",
              "    add_tooltip(options, num_examples, () => 'Number of examples');\n",
              "\n",
              "    output.vertical_offset += 10;\n",
              "    return;\n",
              "  }\n",
              "\n",
              "  if (value.type === 'REGRESSION') {\n",
              "    display_node_text(\n",
              "        options,\n",
              "        'value: ' + d3.format('r')(value.value) + ` (` +\n",
              "            d3.format('.6')(value.num_examples) + `)`,\n",
              "        output);\n",
              "    return;\n",
              "  }\n",
              "\n",
              "  display_node_text(options, `Non supported value ${value.type}`, output);\n",
              "}\n",
              "\n",
              "/**\n",
              " * Adds an explanation inside of a node.\n",
              " * @param {!options} options Dictionary of configurations.\n",
              " * @param {!explanation} explanation Explanation to display.\n",
              " * @param {!output} output Output display accumulator.\n",
              " */\n",
              "function display_explanation(options, explanation, output) {\n",
              "  // Margin before the explanation.\n",
              "  output.vertical_offset += 10;\n",
              "\n",
              "  display_node_text(\n",
              "      options, `Non supported explanation ${explanation.type}`, output);\n",
              "}\n",
              "\n",
              "\n",
              "/**\n",
              " * Draw the edges of the tree.\n",
              " * @param {!options} options Dictionary of configurations.\n",
              " * @param {!graph} graph D3 search handle containing the graph.\n",
              " * @param {!tree_struct} tree_struct Structure of the tree (node placement,\n",
              " *     data, etc.).\n",
              " */\n",
              "function display_edges(options, graph, tree_struct) {\n",
              "  // Draw an edge between a parent and a child node with a bezier.\n",
              "  function draw_single_edge(d) {\n",
              "    return 'M' + (d.source.y + options.node_x_size) + ',' + d.source.x + ' C' +\n",
              "        (d.source.y + options.node_x_size + options.edge_rounding) + ',' +\n",
              "        d.source.x + ' ' + (d.target.y - options.edge_rounding) + ',' +\n",
              "        d.target.x + ' ' + d.target.y + ',' + d.target.x;\n",
              "  }\n",
              "\n",
              "  graph.append('g')\n",
              "      .attr('fill', 'none')\n",
              "      .attr('stroke-width', 1.2)\n",
              "      .selectAll('path')\n",
              "      .data(tree_struct.links())\n",
              "      .join('path')\n",
              "      .attr('d', draw_single_edge)\n",
              "      .attr(\n",
              "          'stroke', d => (d.target === d.source.children[0]) ? '#0F0' : '#F00');\n",
              "}\n",
              "\n",
              "display_tree({\"margin\": 10, \"node_x_size\": 160, \"node_y_size\": 28, \"node_x_offset\": 180, \"node_y_offset\": 33, \"font_size\": 10, \"edge_rounding\": 20, \"node_padding\": 2, \"show_plot_bounding_box\": false}, {\"value\": {\"type\": \"REGRESSION\", \"value\": 6.627906799316406, \"num_examples\": 860.0, \"standard_deviation\": 5.264727983052183}, \"condition\": {\"type\": \"NUMERICAL_IS_HIGHER_THAN\", \"attribute\": \"EVNVSPC(UniMod_4)PTQPC(UniMod_4)QLSK\", \"threshold\": 35551.3984375}, \"children\": [{\"value\": {\"type\": \"REGRESSION\", \"value\": 6.167938709259033, \"num_examples\": 786.0, \"standard_deviation\": 4.951910220911247}, \"condition\": {\"type\": \"NUMERICAL_IS_HIGHER_THAN\", \"attribute\": \"Q12907\", \"threshold\": 7983.0546875}, \"children\": [{\"value\": {\"type\": \"REGRESSION\", \"value\": 5.99741268157959, \"num_examples\": 773.0, \"standard_deviation\": 4.789757672161311}, \"condition\": {\"type\": \"NUMERICAL_IS_HIGHER_THAN\", \"attribute\": \"Q6UXD5\", \"threshold\": 10082.5}, \"children\": [{\"value\": {\"type\": \"REGRESSION\", \"value\": 5.855832099914551, \"num_examples\": 763.0, \"standard_deviation\": 4.500785070083477}, \"condition\": {\"type\": \"NUMERICAL_IS_HIGHER_THAN\", \"attribute\": \"SLGNVIMVC(UniMod_4)R\", \"threshold\": 7267.705078125}}, {\"value\": {\"type\": \"REGRESSION\", \"value\": 16.799999237060547, \"num_examples\": 10.0, \"standard_deviation\": 10.467091286503619}, \"condition\": {\"type\": \"NUMERICAL_IS_HIGHER_THAN\", \"attribute\": \"P01621\", \"threshold\": 161456.5}}]}, {\"value\": {\"type\": \"REGRESSION\", \"value\": 16.30769157409668, \"num_examples\": 13.0, \"standard_deviation\": 3.728984505704868}, \"condition\": {\"type\": \"NUMERICAL_IS_HIGHER_THAN\", \"attribute\": \"YLFLNGNK\", \"threshold\": 34986.296875}, \"children\": [{\"value\": {\"type\": \"REGRESSION\", \"value\": 18.0, \"num_examples\": 5.0, \"standard_deviation\": 0.0}}, {\"value\": {\"type\": \"REGRESSION\", \"value\": 15.25, \"num_examples\": 8.0, \"standard_deviation\": 4.437059837324712}}]}]}, {\"value\": {\"type\": \"REGRESSION\", \"value\": 11.513513565063477, \"num_examples\": 74.0, \"standard_deviation\": 5.962140109243475}, \"condition\": {\"type\": \"NUMERICAL_IS_HIGHER_THAN\", \"attribute\": \"LGADMEDVC(UniMod_4)GR\", \"threshold\": 377379.0}, \"children\": [{\"value\": {\"type\": \"REGRESSION\", \"value\": 17.5, \"num_examples\": 20.0, \"standard_deviation\": 3.293933818400124}, \"condition\": {\"type\": \"NUMERICAL_IS_HIGHER_THAN\", \"attribute\": \"P10643\", \"threshold\": 89940.65625}, \"children\": [{\"value\": {\"type\": \"REGRESSION\", \"value\": 14.0, \"num_examples\": 7.0, \"standard_deviation\": 0.9258200997725536}}, {\"value\": {\"type\": \"REGRESSION\", \"value\": 19.384614944458008, \"num_examples\": 13.0, \"standard_deviation\": 2.46634146798176}, \"condition\": {\"type\": \"NUMERICAL_IS_HIGHER_THAN\", \"attribute\": \"P06727\", \"threshold\": 655249.0}}]}, {\"value\": {\"type\": \"REGRESSION\", \"value\": 9.296296119689941, \"num_examples\": 54.0, \"standard_deviation\": 5.148281373176264}, \"condition\": {\"type\": \"NUMERICAL_IS_HIGHER_THAN\", \"attribute\": \"P02753\", \"threshold\": 326391.5}, \"children\": [{\"value\": {\"type\": \"REGRESSION\", \"value\": 7.0789475440979, \"num_examples\": 38.0, \"standard_deviation\": 4.022185704232858}, \"condition\": {\"type\": \"NUMERICAL_IS_HIGHER_THAN\", \"attribute\": \"TYLGNALVC(UniMod_4)TC(UniMod_4)YGGSR\", \"threshold\": 11443.7001953125}}, {\"value\": {\"type\": \"REGRESSION\", \"value\": 14.5625, \"num_examples\": 16.0, \"standard_deviation\": 3.408972535823661}, \"condition\": {\"type\": \"NUMERICAL_IS_HIGHER_THAN\", \"attribute\": \"VC(UniMod_4)PFAGILENGAVR\", \"threshold\": 105872.0}}]}]}]}, \"#tree_plot_dcf8fde9fbb74db6ab873fae21694ab6\")\n",
              "</script>\n"
            ],
            "text/plain": [
              "<IPython.core.display.HTML object>"
            ]
          },
          "execution_count": 25,
          "metadata": {},
          "output_type": "execute_result"
        }
      ],
      "source": [
        "# Let us use the model for the label `updrs_1` for this purpose\n",
        "tfdf.model_plotter.plot_model_in_colab(model_dict['updrs_1'], tree_idx=0, max_depth=3)"
      ]
    },
    {
      "cell_type": "markdown",
      "id": "ab1edcc7",
      "metadata": {
        "papermill": {
          "duration": 0.028065,
          "end_time": "2023-05-11T06:03:25.988424",
          "exception": false,
          "start_time": "2023-05-11T06:03:25.960359",
          "status": "completed"
        },
        "tags": [],
        "id": "ab1edcc7"
      },
      "source": [
        "# Evaluate the model on the Out of bag (OOB) data and the validation dataset\n",
        "\n",
        "Before training the dataset we have manually seperated 20% of the dataset for validation named as `valid_ds`.\n",
        "\n",
        "We can also use Out of bag (OOB) score to validate our RandomForestModel.\n",
        "To train a Random Forest Model, a set of random samples from training set are choosen by the algorithm and the rest of the samples are used to finetune the model.The subset of data that is not chosen is known as Out of bag data (OOB).\n",
        "OOB score is computed on the OOB data.\n",
        "\n",
        "Read more about OOB data [here](https://developers.google.com/machine-learning/decision-forests/out-of-bag).\n",
        "\n",
        "The training logs show the Root Mean Squared Error (RMSE) evaluated on the out-of-bag dataset according to the number of trees in the model. Let us plot this.\n",
        "\n",
        "Note: Smaller values are better for this hyperparameter.\n",
        "\n",
        "Let us pick one model from `model_dict` dict and plot the OOB evaluation accuracies."
      ]
    },
    {
      "cell_type": "code",
      "execution_count": null,
      "id": "fa452a19",
      "metadata": {
        "execution": {
          "iopub.execute_input": "2023-05-11T06:03:26.047523Z",
          "iopub.status.busy": "2023-05-11T06:03:26.047098Z",
          "iopub.status.idle": "2023-05-11T06:03:26.292150Z",
          "shell.execute_reply": "2023-05-11T06:03:26.290918Z"
        },
        "papermill": {
          "duration": 0.27765,
          "end_time": "2023-05-11T06:03:26.294962",
          "exception": false,
          "start_time": "2023-05-11T06:03:26.017312",
          "status": "completed"
        },
        "tags": [],
        "id": "fa452a19",
        "outputId": "60885a2f-9c42-43a7-9e9f-c4ca533371db"
      },
      "outputs": [
        {
          "data": {
            "image/png": "[encoded data removed]",
            "text/plain": [
              "<Figure size 640x480 with 1 Axes>"
            ]
          },
          "metadata": {},
          "output_type": "display_data"
        }
      ],
      "source": [
        "import matplotlib.pyplot as plt\n",
        "\n",
        "# Let us use the model for the label `updrs_1` for this purpose\n",
        "logs = model_dict['updrs_1'].make_inspector().training_logs()\n",
        "plt.plot([log.num_trees for log in logs], [log.evaluation.rmse for log in logs])\n",
        "plt.xlabel(\"Number of trees\")\n",
        "plt.ylabel(\"MSE (out-of-bag)\")\n",
        "plt.show()"
      ]
    },
    {
      "cell_type": "markdown",
      "id": "f655136c",
      "metadata": {
        "papermill": {
          "duration": 0.027832,
          "end_time": "2023-05-11T06:03:26.351861",
          "exception": false,
          "start_time": "2023-05-11T06:03:26.324029",
          "status": "completed"
        },
        "tags": [],
        "id": "f655136c"
      },
      "source": [
        "# Variable importances\n",
        "\n",
        "Variable importances generally indicate how much a feature contributes to the model predictions or quality. There are several ways to identify important features using TensorFlow Decision Forests. Let us pick one model from models dict and inspect it.\n",
        "\n",
        "Let us list the available Variable Importances for Decision Trees:"
      ]
    },
    {
      "cell_type": "code",
      "execution_count": null,
      "id": "b12f009d",
      "metadata": {
        "execution": {
          "iopub.execute_input": "2023-05-11T06:03:26.412283Z",
          "iopub.status.busy": "2023-05-11T06:03:26.411606Z",
          "iopub.status.idle": "2023-05-11T06:03:26.444667Z",
          "shell.execute_reply": "2023-05-11T06:03:26.443181Z"
        },
        "papermill": {
          "duration": 0.067135,
          "end_time": "2023-05-11T06:03:26.447228",
          "exception": false,
          "start_time": "2023-05-11T06:03:26.380093",
          "status": "completed"
        },
        "tags": [],
        "id": "b12f009d",
        "outputId": "c2d11621-5d77-4310-f086-b1df30065dbe"
      },
      "outputs": [
        {
          "name": "stdout",
          "output_type": "stream",
          "text": [
            "Available variable importances:\n",
            "\t NUM_NODES\n",
            "\t SUM_SCORE\n",
            "\t INV_MEAN_MIN_DEPTH\n",
            "\t NUM_AS_ROOT\n"
          ]
        }
      ],
      "source": [
        "# Let us use the model for the label `updrs_1` for this purpose\n",
        "inspector = model_dict['updrs_1'].make_inspector()\n",
        "\n",
        "print(f\"Available variable importances:\")\n",
        "for importance in inspector.variable_importances().keys():\n",
        "  print(\"\\t\", importance)"
      ]
    },
    {
      "cell_type": "markdown",
      "id": "65b49f6d",
      "metadata": {
        "papermill": {
          "duration": 0.028036,
          "end_time": "2023-05-11T06:03:26.503889",
          "exception": false,
          "start_time": "2023-05-11T06:03:26.475853",
          "status": "completed"
        },
        "tags": [],
        "id": "65b49f6d"
      },
      "source": [
        "As an example, let us display the important features for the Variable Importance NUM_AS_ROOT.\n",
        "\n",
        "The larger the importance score for NUM_AS_ROOT, the more impact it has on the outcome of the model for Question 1(i.e., model\\[\"0-4_1\"\\]).\n",
        "\n",
        "By default, the list is sorted from the most important to the least. From the output you can infer that the feature at the top of the list is used as the root node in most number of trees in the gradient boosted trees  than any other feature."
      ]
    },
    {
      "cell_type": "code",
      "execution_count": null,
      "id": "ab3c041c",
      "metadata": {
        "execution": {
          "iopub.execute_input": "2023-05-11T06:03:26.564786Z",
          "iopub.status.busy": "2023-05-11T06:03:26.563765Z",
          "iopub.status.idle": "2023-05-11T06:03:26.592557Z",
          "shell.execute_reply": "2023-05-11T06:03:26.591108Z"
        },
        "papermill": {
          "duration": 0.062368,
          "end_time": "2023-05-11T06:03:26.595329",
          "exception": false,
          "start_time": "2023-05-11T06:03:26.532961",
          "status": "completed"
        },
        "tags": [],
        "id": "ab3c041c",
        "outputId": "f9e76d1f-8b9e-4f6d-fdaa-d0647097d7cf"
      },
      "outputs": [
        {
          "data": {
            "text/plain": [
              "[(\"NVVYTC(UniMod_4)NEGYSLIGNPVAR\" (1; #627), 33.0),\n",
              " (\"P04180\" (1; #703), 25.0),\n",
              " (\"P61916\" (1; #801), 19.0),\n",
              " (\"Q06481\" (1; #810), 16.0),\n",
              " (\"P09486\" (1; #743), 12.0),\n",
              " (\"AATVGSLAGQPLQER\" (1; #5), 11.0),\n",
              " (\"EVNVSPC(UniMod_4)PTQPC(UniMod_4)QLSK\" (1; #217), 11.0),\n",
              " (\"DSGRDYVSQFEGSALGK\" (1; #165), 10.0),\n",
              " (\"P07602\" (1; #729), 10.0),\n",
              " (\"KC(UniMod_4)STSSLLEAC(UniMod_4)TFR\" (1; #412), 8.0),\n",
              " (\"P05060\" (1; #712), 8.0),\n",
              " (\"GEAGAPGEEDIQGPTK\" (1; #280), 6.0),\n",
              " (\"DSGEGDFLAEGGGVR\" (1; #162), 5.0),\n",
              " (\"P14618\" (1; #760), 5.0),\n",
              " (\"KATEDEGSEQKIPEATNR\" (1; #410), 4.0),\n",
              " (\"TQSSLVPALTDFVR\" (1; #1060), 4.0),\n",
              " (\"ASYLDC(UniMod_4)IR\" (1; #70), 3.0),\n",
              " (\"AVC(UniMod_4)SQEAMTGPC(UniMod_4)R\" (1; #80), 3.0),\n",
              " (\"FFLC(UniMod_4)QVAGDAK\" (1; #230), 3.0),\n",
              " (\"LEEQAQQIR\" (1; #475), 3.0),\n",
              " (\"LHLDYIGPC(UniMod_4)K\" (1; #497), 3.0),\n",
              " (\"O14773\" (1; #633), 3.0),\n",
              " (\"P05067\" (1; #713), 3.0),\n",
              " (\"P23142\" (1; #775), 3.0),\n",
              " (\"QQTHMLDVMQDHFSR\" (1; #888), 3.0),\n",
              " (\"RPGGEPSPEGTTGQSYNQYSQR\" (1; #912), 3.0),\n",
              " (\"DQTVSDNELQEMSNQGSK\" (1; #160), 2.0),\n",
              " (\"ILTC(UniMod_4)M(UniMod_35)QGMEEIR\" (1; #380), 2.0),\n",
              " (\"ITTTSPWMFPSR\" (1; #398), 2.0),\n",
              " (\"LAARLEALKENGGAR\" (1; #456), 2.0),\n",
              " (\"LFGGNFAHQASVAR\" (1; #483), 2.0),\n",
              " (\"LGPLVEQGRVR\" (1; #493), 2.0),\n",
              " (\"LRENELTYYC(UniMod_4)C(UniMod_4)KK\" (1; #528), 2.0),\n",
              " (\"MC(UniMod_4)PQLQQYEMHGPEGLR\" (1; #575), 2.0),\n",
              " (\"NLREGTC(UniMod_4)PEAPTDEC(UniMod_4)KPVK\" (1; #609), 2.0),\n",
              " (\"O60888\" (1; #638), 2.0),\n",
              " (\"P02751\" (1; #689), 2.0),\n",
              " (\"P16870\" (1; #764), 2.0),\n",
              " (\"P17174\" (1; #765), 2.0),\n",
              " (\"Q6UXB8\" (1; #829), 2.0),\n",
              " (\"SSGLVSNAPGVQIR\" (1; #988), 2.0),\n",
              " (\"TM(UniMod_35)QENSTPRED\" (1; #1043), 2.0),\n",
              " (\"WC(UniMod_4)AVSEHEATK\" (1; #1152), 2.0),\n",
              " (\"AGC(UniMod_4)VAESTAVC(UniMod_4)R\" (1; #21), 1.0),\n",
              " (\"ALDFAVGEYNK\" (1; #36), 1.0),\n",
              " (\"ARAEAQEAEDQQAR\" (1; #61), 1.0),\n",
              " (\"AVLPTGDVIGDSAK\" (1; #84), 1.0),\n",
              " (\"C(UniMod_4)IIEVLSNALSK\" (1; #102), 1.0),\n",
              " (\"C(UniMod_4)STSSLLEAC(UniMod_4)TFR\" (1; #120), 1.0),\n",
              " (\"DRLDEVKEQVAEVR\" (1; #161), 1.0),\n",
              " (\"EPQVYTLPPSRDELTK\" (1; #205), 1.0),\n",
              " (\"FNKNNEGTYYSPNYNPQSR\" (1; #244), 1.0),\n",
              " (\"KTLLSNLEEAKK\" (1; #445), 1.0),\n",
              " (\"LAAAVSNFGYDLYR\" (1; #454), 1.0),\n",
              " (\"LGC(UniMod_4)SLNQNSVPDIHGVEAPAR\" (1; #486), 1.0),\n",
              " (\"LIVHNGYC(UniMod_4)DGR\" (1; #500), 1.0),\n",
              " (\"LKC(UniMod_4)DEWSVNSVGK\" (1; #501), 1.0),\n",
              " (\"LVWEEAMSR\" (1; #557), 1.0),\n",
              " (\"M(UniMod_35)C(UniMod_4)PQLQQYEMHGPEGLR\" (1; #566), 1.0),\n",
              " (\"NLQPASEYTVSLVAIKGNQESPK\" (1; #608), 1.0),\n",
              " (\"NSPLDEENLTQENQDR\" (1; #620), 1.0),\n",
              " (\"P00736\" (1; #645), 1.0),\n",
              " (\"P01344\" (1; #661), 1.0),\n",
              " (\"P01834\" (1; #669), 1.0),\n",
              " (\"P02452\" (1; #676), 1.0),\n",
              " (\"P02747\" (1; #685), 1.0),\n",
              " (\"P04075\" (1; #701), 1.0),\n",
              " (\"P04156\" (1; #702), 1.0),\n",
              " (\"P09871\" (1; #744), 1.0),\n",
              " (\"P10645\" (1; #747), 1.0),\n",
              " (\"P13611\" (1; #755), 1.0),\n",
              " (\"P39060\" (1; #786), 1.0),\n",
              " (\"Q15904\" (1; #824), 1.0),\n",
              " (\"Q6UXD5\" (1; #830), 1.0),\n",
              " (\"QTQVSVLPEGGETPLFK\" (1; #894), 1.0),\n",
              " (\"QWAGLVEK\" (1; #897), 1.0),\n",
              " (\"SEYPSIK\" (1; #940), 1.0),\n",
              " (\"SLGNVIMVC(UniMod_4)R\" (1; #966), 1.0),\n",
              " (\"SPFEQHIK\" (1; #979), 1.0),\n",
              " (\"SSNTYTLTDVRR\" (1; #991), 1.0),\n",
              " (\"TC(UniMod_4)VADESAENC(UniMod_4)DKSLHTLFGDK\" (1; #1012), 1.0),\n",
              " (\"TMQENSTPRED\" (1; #1046), 1.0),\n",
              " (\"TPSAAYLWVGTGASEAEK\" (1; #1057), 1.0),\n",
              " (\"TTPPVLDSDGSFFLYSK\" (1; #1069), 1.0),\n",
              " (\"VAVVQYSGTGQQRPER\" (1; #1082), 1.0),\n",
              " (\"VFNTPEGVPSAPSSLK\" (1; #1094), 1.0),\n",
              " (\"VFQEPLFYEAPR\" (1; #1095), 1.0),\n",
              " (\"VRGGEGTGYFVDFSVR\" (1; #1131), 1.0),\n",
              " (\"VYAC(UniMod_4)EVTHQGLSSPVTK\" (1; #1149), 1.0),\n",
              " (\"WYFDVTEGK\" (1; #1163), 1.0),\n",
              " (\"YHDRDVWKPEPC(UniMod_4)R\" (1; #1171), 1.0),\n",
              " (\"YLYEIAR\" (1; #1179), 1.0)]"
            ]
          },
          "execution_count": 28,
          "metadata": {},
          "output_type": "execute_result"
        }
      ],
      "source": [
        "# Each line is: (feature name, (index of the feature), importance score)\n",
        "inspector.variable_importances()[\"NUM_AS_ROOT\"]"
      ]
    },
    {
      "cell_type": "markdown",
      "id": "c1046eeb",
      "metadata": {
        "papermill": {
          "duration": 0.028536,
          "end_time": "2023-05-11T06:03:26.652556",
          "exception": false,
          "start_time": "2023-05-11T06:03:26.624020",
          "status": "completed"
        },
        "tags": [],
        "id": "c1046eeb"
      },
      "source": [
        "# Submission"
      ]
    },
    {
      "cell_type": "code",
      "execution_count": null,
      "id": "d00575d0",
      "metadata": {
        "execution": {
          "iopub.execute_input": "2023-05-11T06:03:26.713573Z",
          "iopub.status.busy": "2023-05-11T06:03:26.712080Z",
          "iopub.status.idle": "2023-05-11T06:03:26.739819Z",
          "shell.execute_reply": "2023-05-11T06:03:26.738786Z"
        },
        "papermill": {
          "duration": 0.061409,
          "end_time": "2023-05-11T06:03:26.742566",
          "exception": false,
          "start_time": "2023-05-11T06:03:26.681157",
          "status": "completed"
        },
        "tags": [],
        "id": "d00575d0"
      },
      "outputs": [],
      "source": [
        "import amp_pd_peptide_310\n",
        "env = amp_pd_peptide_310.make_env()   # initialize the environment\n",
        "iter_test = env.iter_test()"
      ]
    },
    {
      "cell_type": "code",
      "execution_count": null,
      "id": "610339f5",
      "metadata": {
        "execution": {
          "iopub.execute_input": "2023-05-11T06:03:26.801894Z",
          "iopub.status.busy": "2023-05-11T06:03:26.801427Z",
          "iopub.status.idle": "2023-05-11T06:03:26.813148Z",
          "shell.execute_reply": "2023-05-11T06:03:26.811925Z"
        },
        "papermill": {
          "duration": 0.044557,
          "end_time": "2023-05-11T06:03:26.815908",
          "exception": false,
          "start_time": "2023-05-11T06:03:26.771351",
          "status": "completed"
        },
        "tags": [],
        "id": "610339f5"
      },
      "outputs": [],
      "source": [
        "def get_predictions(test_df, test_ds, model_dict):\n",
        "\n",
        "    # Target labels\n",
        "    target = [\"updrs_1\", \"updrs_2\", \"updrs_3\", \"updrs_4\"]\n",
        "    temp = test_df[FEATURES].copy()\n",
        "\n",
        "    # Filter out all the 0 value columns before predicting\n",
        "    mask = test_df[FEATURES].sum(axis=1) != 0\n",
        "    new_test_df = temp.loc[mask]\n",
        "    test_ds = tfdf.keras.pd_dataframe_to_tf_dataset(new_test_df, task = tfdf.keras.Task.REGRESSION)\n",
        "    for u in target:\n",
        "        test_df['result_' + str(u)] = 0\n",
        "        if u != 'updrs_4':\n",
        "            print(model_dict[u])\n",
        "            test_df.loc[mask, 'result_' + str(u)] = model_dict[u].predict(test_ds)\n",
        "\n",
        "    # Format for final submission\n",
        "    result = pd.DataFrame()\n",
        "\n",
        "    for m in [0, 6, 12, 24]:\n",
        "        for u in [1, 2, 3, 4]:\n",
        "\n",
        "            temp = test_df[[\"visit_id\", \"result_updrs_\" + str(u)]].copy()\n",
        "            temp[\"prediction_id\"] = temp[\"visit_id\"] + \"_updrs_\" + str(u) + \"_plus_\" + str(m) + \"_months\"\n",
        "            temp[\"rating\"] = temp[\"result_updrs_\" + str(u)]\n",
        "            temp = temp [['prediction_id', 'rating']]\n",
        "\n",
        "            result = result.append(temp)\n",
        "    result = result.drop_duplicates(subset=['prediction_id', 'rating'])\n",
        "\n",
        "    return result"
      ]
    },
    {
      "cell_type": "code",
      "execution_count": null,
      "id": "3539efea",
      "metadata": {
        "execution": {
          "iopub.execute_input": "2023-05-11T06:03:26.876765Z",
          "iopub.status.busy": "2023-05-11T06:03:26.876372Z",
          "iopub.status.idle": "2023-05-11T06:04:35.225610Z",
          "shell.execute_reply": "2023-05-11T06:04:35.223877Z"
        },
        "papermill": {
          "duration": 68.384836,
          "end_time": "2023-05-11T06:04:35.229607",
          "exception": false,
          "start_time": "2023-05-11T06:03:26.844771",
          "status": "completed"
        },
        "tags": [],
        "id": "3539efea",
        "outputId": "fac66395-8d62-40a1-cde2-c4a29ce2499f"
      },
      "outputs": [
        {
          "name": "stdout",
          "output_type": "stream",
          "text": [
            "This version of the API is not optimized and should not be used to estimate the runtime of your code on the hidden test set.\n",
            "<tensorflow_decision_forests.keras.RandomForestModel object at 0x7fcaad3e1990>\n",
            "1/1 [==============================] - 12s 12s/step\n",
            "<tensorflow_decision_forests.keras.RandomForestModel object at 0x7fcaab6087f0>\n",
            "1/1 [==============================] - 10s 10s/step\n",
            "<tensorflow_decision_forests.keras.RandomForestModel object at 0x7fca7f52af80>\n",
            "1/1 [==============================] - 10s 10s/step\n",
            "                    prediction_id     rating\n",
            "0    3342_0_updrs_1_plus_0_months   0.000000\n",
            "4   50423_0_updrs_1_plus_0_months   8.575804\n",
            "0    3342_0_updrs_2_plus_0_months   0.000000\n",
            "4   50423_0_updrs_2_plus_0_months   9.845196\n",
            "0    3342_0_updrs_3_plus_0_months   0.000000\n",
            "4   50423_0_updrs_3_plus_0_months  23.661650\n",
            "0    3342_0_updrs_4_plus_0_months   0.000000\n",
            "4   50423_0_updrs_4_plus_0_months   0.000000\n",
            "0    3342_0_updrs_1_plus_6_months   0.000000\n",
            "4   50423_0_updrs_1_plus_6_months   8.575804\n",
            "0    3342_0_updrs_2_plus_6_months   0.000000\n",
            "4   50423_0_updrs_2_plus_6_months   9.845196\n",
            "0    3342_0_updrs_3_plus_6_months   0.000000\n",
            "4   50423_0_updrs_3_plus_6_months  23.661650\n",
            "0    3342_0_updrs_4_plus_6_months   0.000000\n",
            "4   50423_0_updrs_4_plus_6_months   0.000000\n",
            "0   3342_0_updrs_1_plus_12_months   0.000000\n",
            "4  50423_0_updrs_1_plus_12_months   8.575804\n",
            "0   3342_0_updrs_2_plus_12_months   0.000000\n",
            "4  50423_0_updrs_2_plus_12_months   9.845196\n",
            "0   3342_0_updrs_3_plus_12_months   0.000000\n",
            "4  50423_0_updrs_3_plus_12_months  23.661650\n",
            "0   3342_0_updrs_4_plus_12_months   0.000000\n",
            "4  50423_0_updrs_4_plus_12_months   0.000000\n",
            "0   3342_0_updrs_1_plus_24_months   0.000000\n",
            "4  50423_0_updrs_1_plus_24_months   8.575804\n",
            "0   3342_0_updrs_2_plus_24_months   0.000000\n",
            "4  50423_0_updrs_2_plus_24_months   9.845196\n",
            "0   3342_0_updrs_3_plus_24_months   0.000000\n",
            "4  50423_0_updrs_3_plus_24_months  23.661650\n",
            "0   3342_0_updrs_4_plus_24_months   0.000000\n",
            "4  50423_0_updrs_4_plus_24_months   0.000000\n"
          ]
        },
        {
          "name": "stderr",
          "output_type": "stream",
          "text": [
            "/tmp/ipykernel_20/2111800362.py:28: FutureWarning: The frame.append method is deprecated and will be removed from pandas in a future version. Use pandas.concat instead.\n",
            "  result = result.append(temp)\n",
            "/tmp/ipykernel_20/2111800362.py:28: FutureWarning: The frame.append method is deprecated and will be removed from pandas in a future version. Use pandas.concat instead.\n",
            "  result = result.append(temp)\n",
            "/tmp/ipykernel_20/2111800362.py:28: FutureWarning: The frame.append method is deprecated and will be removed from pandas in a future version. Use pandas.concat instead.\n",
            "  result = result.append(temp)\n",
            "/tmp/ipykernel_20/2111800362.py:28: FutureWarning: The frame.append method is deprecated and will be removed from pandas in a future version. Use pandas.concat instead.\n",
            "  result = result.append(temp)\n",
            "/tmp/ipykernel_20/2111800362.py:28: FutureWarning: The frame.append method is deprecated and will be removed from pandas in a future version. Use pandas.concat instead.\n",
            "  result = result.append(temp)\n",
            "/tmp/ipykernel_20/2111800362.py:28: FutureWarning: The frame.append method is deprecated and will be removed from pandas in a future version. Use pandas.concat instead.\n",
            "  result = result.append(temp)\n",
            "/tmp/ipykernel_20/2111800362.py:28: FutureWarning: The frame.append method is deprecated and will be removed from pandas in a future version. Use pandas.concat instead.\n",
            "  result = result.append(temp)\n",
            "/tmp/ipykernel_20/2111800362.py:28: FutureWarning: The frame.append method is deprecated and will be removed from pandas in a future version. Use pandas.concat instead.\n",
            "  result = result.append(temp)\n",
            "/tmp/ipykernel_20/2111800362.py:28: FutureWarning: The frame.append method is deprecated and will be removed from pandas in a future version. Use pandas.concat instead.\n",
            "  result = result.append(temp)\n",
            "/tmp/ipykernel_20/2111800362.py:28: FutureWarning: The frame.append method is deprecated and will be removed from pandas in a future version. Use pandas.concat instead.\n",
            "  result = result.append(temp)\n",
            "/tmp/ipykernel_20/2111800362.py:28: FutureWarning: The frame.append method is deprecated and will be removed from pandas in a future version. Use pandas.concat instead.\n",
            "  result = result.append(temp)\n",
            "/tmp/ipykernel_20/2111800362.py:28: FutureWarning: The frame.append method is deprecated and will be removed from pandas in a future version. Use pandas.concat instead.\n",
            "  result = result.append(temp)\n",
            "/tmp/ipykernel_20/2111800362.py:28: FutureWarning: The frame.append method is deprecated and will be removed from pandas in a future version. Use pandas.concat instead.\n",
            "  result = result.append(temp)\n",
            "/tmp/ipykernel_20/2111800362.py:28: FutureWarning: The frame.append method is deprecated and will be removed from pandas in a future version. Use pandas.concat instead.\n",
            "  result = result.append(temp)\n",
            "/tmp/ipykernel_20/2111800362.py:28: FutureWarning: The frame.append method is deprecated and will be removed from pandas in a future version. Use pandas.concat instead.\n",
            "  result = result.append(temp)\n",
            "/tmp/ipykernel_20/2111800362.py:28: FutureWarning: The frame.append method is deprecated and will be removed from pandas in a future version. Use pandas.concat instead.\n",
            "  result = result.append(temp)\n"
          ]
        },
        {
          "name": "stdout",
          "output_type": "stream",
          "text": [
            "<tensorflow_decision_forests.keras.RandomForestModel object at 0x7fcaad3e1990>\n",
            "1/1 [==============================] - 10s 10s/step\n",
            "<tensorflow_decision_forests.keras.RandomForestModel object at 0x7fcaab6087f0>\n",
            "1/1 [==============================] - 11s 11s/step\n",
            "<tensorflow_decision_forests.keras.RandomForestModel object at 0x7fca7f52af80>\n",
            "1/1 [==============================] - 10s 10s/step\n",
            "                    prediction_id     rating\n",
            "0    3342_6_updrs_1_plus_0_months   5.590877\n",
            "4   50423_6_updrs_1_plus_0_months   5.641782\n",
            "0    3342_6_updrs_2_plus_0_months   4.565232\n",
            "4   50423_6_updrs_2_plus_0_months   3.761933\n",
            "0    3342_6_updrs_3_plus_0_months  18.359133\n",
            "4   50423_6_updrs_3_plus_0_months  13.265060\n",
            "0    3342_6_updrs_4_plus_0_months   0.000000\n",
            "4   50423_6_updrs_4_plus_0_months   0.000000\n",
            "0    3342_6_updrs_1_plus_6_months   5.590877\n",
            "4   50423_6_updrs_1_plus_6_months   5.641782\n",
            "0    3342_6_updrs_2_plus_6_months   4.565232\n",
            "4   50423_6_updrs_2_plus_6_months   3.761933\n",
            "0    3342_6_updrs_3_plus_6_months  18.359133\n",
            "4   50423_6_updrs_3_plus_6_months  13.265060\n",
            "0    3342_6_updrs_4_plus_6_months   0.000000\n",
            "4   50423_6_updrs_4_plus_6_months   0.000000\n",
            "0   3342_6_updrs_1_plus_12_months   5.590877\n",
            "4  50423_6_updrs_1_plus_12_months   5.641782\n",
            "0   3342_6_updrs_2_plus_12_months   4.565232\n",
            "4  50423_6_updrs_2_plus_12_months   3.761933\n",
            "0   3342_6_updrs_3_plus_12_months  18.359133\n",
            "4  50423_6_updrs_3_plus_12_months  13.265060\n",
            "0   3342_6_updrs_4_plus_12_months   0.000000\n",
            "4  50423_6_updrs_4_plus_12_months   0.000000\n",
            "0   3342_6_updrs_1_plus_24_months   5.590877\n",
            "4  50423_6_updrs_1_plus_24_months   5.641782\n",
            "0   3342_6_updrs_2_plus_24_months   4.565232\n",
            "4  50423_6_updrs_2_plus_24_months   3.761933\n",
            "0   3342_6_updrs_3_plus_24_months  18.359133\n",
            "4  50423_6_updrs_3_plus_24_months  13.265060\n",
            "0   3342_6_updrs_4_plus_24_months   0.000000\n",
            "4  50423_6_updrs_4_plus_24_months   0.000000\n"
          ]
        },
        {
          "name": "stderr",
          "output_type": "stream",
          "text": [
            "/tmp/ipykernel_20/2111800362.py:28: FutureWarning: The frame.append method is deprecated and will be removed from pandas in a future version. Use pandas.concat instead.\n",
            "  result = result.append(temp)\n",
            "/tmp/ipykernel_20/2111800362.py:28: FutureWarning: The frame.append method is deprecated and will be removed from pandas in a future version. Use pandas.concat instead.\n",
            "  result = result.append(temp)\n",
            "/tmp/ipykernel_20/2111800362.py:28: FutureWarning: The frame.append method is deprecated and will be removed from pandas in a future version. Use pandas.concat instead.\n",
            "  result = result.append(temp)\n",
            "/tmp/ipykernel_20/2111800362.py:28: FutureWarning: The frame.append method is deprecated and will be removed from pandas in a future version. Use pandas.concat instead.\n",
            "  result = result.append(temp)\n",
            "/tmp/ipykernel_20/2111800362.py:28: FutureWarning: The frame.append method is deprecated and will be removed from pandas in a future version. Use pandas.concat instead.\n",
            "  result = result.append(temp)\n",
            "/tmp/ipykernel_20/2111800362.py:28: FutureWarning: The frame.append method is deprecated and will be removed from pandas in a future version. Use pandas.concat instead.\n",
            "  result = result.append(temp)\n",
            "/tmp/ipykernel_20/2111800362.py:28: FutureWarning: The frame.append method is deprecated and will be removed from pandas in a future version. Use pandas.concat instead.\n",
            "  result = result.append(temp)\n",
            "/tmp/ipykernel_20/2111800362.py:28: FutureWarning: The frame.append method is deprecated and will be removed from pandas in a future version. Use pandas.concat instead.\n",
            "  result = result.append(temp)\n",
            "/tmp/ipykernel_20/2111800362.py:28: FutureWarning: The frame.append method is deprecated and will be removed from pandas in a future version. Use pandas.concat instead.\n",
            "  result = result.append(temp)\n",
            "/tmp/ipykernel_20/2111800362.py:28: FutureWarning: The frame.append method is deprecated and will be removed from pandas in a future version. Use pandas.concat instead.\n",
            "  result = result.append(temp)\n",
            "/tmp/ipykernel_20/2111800362.py:28: FutureWarning: The frame.append method is deprecated and will be removed from pandas in a future version. Use pandas.concat instead.\n",
            "  result = result.append(temp)\n",
            "/tmp/ipykernel_20/2111800362.py:28: FutureWarning: The frame.append method is deprecated and will be removed from pandas in a future version. Use pandas.concat instead.\n",
            "  result = result.append(temp)\n",
            "/tmp/ipykernel_20/2111800362.py:28: FutureWarning: The frame.append method is deprecated and will be removed from pandas in a future version. Use pandas.concat instead.\n",
            "  result = result.append(temp)\n",
            "/tmp/ipykernel_20/2111800362.py:28: FutureWarning: The frame.append method is deprecated and will be removed from pandas in a future version. Use pandas.concat instead.\n",
            "  result = result.append(temp)\n",
            "/tmp/ipykernel_20/2111800362.py:28: FutureWarning: The frame.append method is deprecated and will be removed from pandas in a future version. Use pandas.concat instead.\n",
            "  result = result.append(temp)\n",
            "/tmp/ipykernel_20/2111800362.py:28: FutureWarning: The frame.append method is deprecated and will be removed from pandas in a future version. Use pandas.concat instead.\n",
            "  result = result.append(temp)\n"
          ]
        }
      ],
      "source": [
        "# Reference: https://www.kaggle.com/code/xarispanagiotopoulos/linearregression-xgb/notebook\n",
        "\n",
        "for (test, test_peptides, test_proteins, sample_submission) in iter_test:\n",
        "    pro_pep_df = prepare_dataset(test_proteins, test_peptides)\n",
        "\n",
        "\n",
        "    test_proteins = test_proteins.pivot(index=['visit_id', 'visit_month', 'patient_id'],\n",
        "              columns='UniProt', values='NPX').reset_index().rename_axis(None, axis=1).drop(columns=['visit_month', 'patient_id'])\n",
        "    merged_df = test.merge(test_proteins, how='left', on='visit_id')\n",
        "\n",
        "    test_df = test.merge(pro_pep_df, how='left', on='visit_id')\n",
        "\n",
        "    # Add all the missing columns from FEATURES list and set the values as 0\n",
        "    for col in FEATURES:\n",
        "        if col not in test_df.columns:\n",
        "            test_df[col] = 0\n",
        "    test_df = test_df[['visit_id', 'patient_id'] + FEATURES]\n",
        "\n",
        "    test_ds = tfdf.keras.pd_dataframe_to_tf_dataset(test_df, task = tfdf.keras.Task.REGRESSION)\n",
        "    result = get_predictions(test_df, valid_ds, model_dict)\n",
        "    print(result)\n",
        "\n",
        "    env.predict(result)"
      ]
    }
  ],
  "metadata": {
    "kernelspec": {
      "display_name": "Python 3",
      "language": "python",
      "name": "python3"
    },
    "language_info": {
      "codemirror_mode": {
        "name": "ipython",
        "version": 3
      },
      "file_extension": ".py",
      "mimetype": "text/x-python",
      "name": "python",
      "nbconvert_exporter": "python",
      "pygments_lexer": "ipython3",
      "version": "3.10.10"
    },
    "papermill": {
      "default_parameters": {},
      "duration": 379.02213,
      "end_time": "2023-05-11T06:04:38.476289",
      "environment_variables": {},
      "exception": null,
      "input_path": "__notebook__.ipynb",
      "output_path": "__notebook__.ipynb",
      "parameters": {},
      "start_time": "2023-05-11T05:58:19.454159",
      "version": "2.4.0"
    },
    "colab": {
      "provenance": []
    }
  },
  "nbformat": 4,
  "nbformat_minor": 5
}