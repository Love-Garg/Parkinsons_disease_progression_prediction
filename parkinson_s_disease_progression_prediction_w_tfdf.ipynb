{
  "cells": [
    {
      "cell_type": "markdown",
      "id": "6784af03",
      "metadata": {
        "papermill": {
          "duration": 0.014903,
          "end_time": "2023-05-03T13:04:37.781315",
          "exception": false,
          "start_time": "2023-05-03T13:04:37.766412",
          "status": "completed"
        },
        "tags": [],
        "id": "6784af03"
      },
      "source": [
        "# Import the Required Libraries"
      ]
    },
    {
      "cell_type": "code",
      "execution_count": null,
      "id": "003e5911",
      "metadata": {
        "execution": {
          "iopub.execute_input": "2023-05-03T13:04:37.813019Z",
          "iopub.status.busy": "2023-05-03T13:04:37.812529Z",
          "iopub.status.idle": "2023-05-03T13:04:48.711119Z",
          "shell.execute_reply": "2023-05-03T13:04:48.710004Z"
        },
        "papermill": {
          "duration": 10.918339,
          "end_time": "2023-05-03T13:04:48.714113",
          "exception": false,
          "start_time": "2023-05-03T13:04:37.795774",
          "status": "completed"
        },
        "tags": [],
        "id": "003e5911",
        "outputId": "32344b3d-5c50-4ae9-9e7e-59544f7d6d6f"
      },
      "outputs": [
        {
          "name": "stderr",
          "output_type": "stream",
          "text": [
            "/opt/conda/lib/python3.10/site-packages/scipy/__init__.py:146: UserWarning: A NumPy version >=1.16.5 and <1.23.0 is required for this version of SciPy (detected version 1.23.5\n",
            "  warnings.warn(f\"A NumPy version >={np_minversion} and <{np_maxversion}\"\n"
          ]
        }
      ],
      "source": [
        "import tensorflow as tf\n",
        "import tensorflow_decision_forests as tfdf\n",
        "import matplotlib.pyplot as plt\n",
        "import seaborn as sns\n",
        "import pandas as pd\n",
        "import numpy as np\n",
        "import math"
      ]
    },
    {
      "cell_type": "code",
      "execution_count": null,
      "id": "964cc1a4",
      "metadata": {
        "execution": {
          "iopub.execute_input": "2023-05-03T13:04:48.745480Z",
          "iopub.status.busy": "2023-05-03T13:04:48.744792Z",
          "iopub.status.idle": "2023-05-03T13:04:48.750758Z",
          "shell.execute_reply": "2023-05-03T13:04:48.749550Z"
        },
        "papermill": {
          "duration": 0.024437,
          "end_time": "2023-05-03T13:04:48.753394",
          "exception": false,
          "start_time": "2023-05-03T13:04:48.728957",
          "status": "completed"
        },
        "tags": [],
        "id": "964cc1a4",
        "outputId": "f6dc97de-56eb-45d3-903a-276042fcad56"
      },
      "outputs": [
        {
          "name": "stdout",
          "output_type": "stream",
          "text": [
            "TensorFlow Decision Forests v1.2.0\n",
            "TensorFlow v2.11.0\n"
          ]
        }
      ],
      "source": [
        "print(\"TensorFlow Decision Forests v\" + tfdf.__version__)\n",
        "print(\"TensorFlow v\" + tf.__version__)"
      ]
    },
    {
      "cell_type": "markdown",
      "id": "f7a94637",
      "metadata": {
        "papermill": {
          "duration": 0.014588,
          "end_time": "2023-05-03T13:04:48.783147",
          "exception": false,
          "start_time": "2023-05-03T13:04:48.768559",
          "status": "completed"
        },
        "tags": [],
        "id": "f7a94637"
      },
      "source": [
        "# Load the Dataset"
      ]
    },
    {
      "cell_type": "markdown",
      "id": "ede0daba",
      "metadata": {
        "papermill": {
          "duration": 0.01407,
          "end_time": "2023-05-03T13:04:48.811634",
          "exception": false,
          "start_time": "2023-05-03T13:04:48.797564",
          "status": "completed"
        },
        "tags": [],
        "id": "ede0daba"
      },
      "source": [
        "First, let us load the dataset using Pandas."
      ]
    },
    {
      "cell_type": "code",
      "execution_count": null,
      "id": "172d7dca",
      "metadata": {
        "execution": {
          "iopub.execute_input": "2023-05-03T13:04:48.842633Z",
          "iopub.status.busy": "2023-05-03T13:04:48.841985Z",
          "iopub.status.idle": "2023-05-03T13:04:50.611609Z",
          "shell.execute_reply": "2023-05-03T13:04:50.610356Z"
        },
        "papermill": {
          "duration": 1.78828,
          "end_time": "2023-05-03T13:04:50.614393",
          "exception": false,
          "start_time": "2023-05-03T13:04:48.826113",
          "status": "completed"
        },
        "tags": [],
        "id": "172d7dca"
      },
      "outputs": [],
      "source": [
        "# Load a dataset into a Pandas DataFrame\n",
        "train_proteins = pd.read_csv(\"/kaggle/input/amp-parkinsons-disease-progression-prediction/train_proteins.csv\")\n",
        "train_peptides = pd.read_csv(\"/kaggle/input/amp-parkinsons-disease-progression-prediction/train_peptides.csv\")\n",
        "train_clinical = pd.read_csv(\"/kaggle/input/amp-parkinsons-disease-progression-prediction/train_clinical_data.csv\")"
      ]
    },
    {
      "cell_type": "markdown",
      "id": "a84270e2",
      "metadata": {
        "papermill": {
          "duration": 0.01414,
          "end_time": "2023-05-03T13:04:50.643595",
          "exception": false,
          "start_time": "2023-05-03T13:04:50.629455",
          "status": "completed"
        },
        "tags": [],
        "id": "a84270e2"
      },
      "source": [
        "We will now examine each of these DataFrames in detail."
      ]
    },
    {
      "cell_type": "markdown",
      "id": "74750480",
      "metadata": {
        "papermill": {
          "duration": 0.013858,
          "end_time": "2023-05-03T13:04:50.671524",
          "exception": false,
          "start_time": "2023-05-03T13:04:50.657666",
          "status": "completed"
        },
        "tags": [],
        "id": "74750480"
      },
      "source": [
        "UPDRS is a rating instrument used to measure the the severity and progression of Parkinson’s disease in patients.\n",
        "When a patient visits the clinic, the clinic will record how the patient scored on 4 parts of  UPDRS test. This data can be found in `train_clinical`. The ratings for the the first 4 segments of UPDRS are available as `updrs_1`, `updrs_2`, `updrs_3` and `updrs_4` in `train_clinical`.\n",
        "Our goal is to train a model to predict these UPDRS ratings."
      ]
    },
    {
      "cell_type": "markdown",
      "id": "50566686",
      "metadata": {
        "papermill": {
          "duration": 0.013837,
          "end_time": "2023-05-03T13:04:50.699524",
          "exception": false,
          "start_time": "2023-05-03T13:04:50.685687",
          "status": "completed"
        },
        "tags": [],
        "id": "50566686"
      },
      "source": [
        "Let us examine the shape of `train_clinical` DataFrame."
      ]
    },
    {
      "cell_type": "code",
      "execution_count": null,
      "id": "252ad04f",
      "metadata": {
        "execution": {
          "iopub.execute_input": "2023-05-03T13:04:50.729850Z",
          "iopub.status.busy": "2023-05-03T13:04:50.729450Z",
          "iopub.status.idle": "2023-05-03T13:04:50.735167Z",
          "shell.execute_reply": "2023-05-03T13:04:50.734041Z"
        },
        "papermill": {
          "duration": 0.024045,
          "end_time": "2023-05-03T13:04:50.737781",
          "exception": false,
          "start_time": "2023-05-03T13:04:50.713736",
          "status": "completed"
        },
        "tags": [],
        "id": "252ad04f",
        "outputId": "b195a098-7eaf-45ca-cbf2-a9743408ea9a"
      },
      "outputs": [
        {
          "name": "stdout",
          "output_type": "stream",
          "text": [
            "clinical dataset shape:   (2615, 8)\n"
          ]
        }
      ],
      "source": [
        "print('clinical dataset shape:  ', train_clinical.shape)"
      ]
    },
    {
      "cell_type": "markdown",
      "id": "d7a379b1",
      "metadata": {
        "papermill": {
          "duration": 0.013895,
          "end_time": "2023-05-03T13:04:50.766013",
          "exception": false,
          "start_time": "2023-05-03T13:04:50.752118",
          "status": "completed"
        },
        "tags": [],
        "id": "d7a379b1"
      },
      "source": [
        "The `train_clinical` data is composed of ***8* columns** and ***2615* entries**.  We can see all 8 dimensions of our dataset by printing out the first 5 entries using the following code:"
      ]
    },
    {
      "cell_type": "code",
      "execution_count": null,
      "id": "4b4ccad1",
      "metadata": {
        "execution": {
          "iopub.execute_input": "2023-05-03T13:04:50.797021Z",
          "iopub.status.busy": "2023-05-03T13:04:50.796654Z",
          "iopub.status.idle": "2023-05-03T13:04:50.837284Z",
          "shell.execute_reply": "2023-05-03T13:04:50.836461Z"
        },
        "papermill": {
          "duration": 0.058166,
          "end_time": "2023-05-03T13:04:50.839156",
          "exception": false,
          "start_time": "2023-05-03T13:04:50.780990",
          "status": "completed"
        },
        "tags": [],
        "id": "4b4ccad1",
        "outputId": "f98525ce-3994-4db7-83e9-4028ed0d8b78"
      },
      "outputs": [
        {
          "data": {
            "text/html": [
              "<div>\n",
              "<style scoped>\n",
              "    .dataframe tbody tr th:only-of-type {\n",
              "        vertical-align: middle;\n",
              "    }\n",
              "\n",
              "    .dataframe tbody tr th {\n",
              "        vertical-align: top;\n",
              "    }\n",
              "\n",
              "    .dataframe thead th {\n",
              "        text-align: right;\n",
              "    }\n",
              "</style>\n",
              "<table border=\"1\" class=\"dataframe\">\n",
              "  <thead>\n",
              "    <tr style=\"text-align: right;\">\n",
              "      <th></th>\n",
              "      <th>visit_id</th>\n",
              "      <th>patient_id</th>\n",
              "      <th>visit_month</th>\n",
              "      <th>updrs_1</th>\n",
              "      <th>updrs_2</th>\n",
              "      <th>updrs_3</th>\n",
              "      <th>updrs_4</th>\n",
              "      <th>upd23b_clinical_state_on_medication</th>\n",
              "    </tr>\n",
              "  </thead>\n",
              "  <tbody>\n",
              "    <tr>\n",
              "      <th>0</th>\n",
              "      <td>55_0</td>\n",
              "      <td>55</td>\n",
              "      <td>0</td>\n",
              "      <td>10.0</td>\n",
              "      <td>6.0</td>\n",
              "      <td>15.0</td>\n",
              "      <td>NaN</td>\n",
              "      <td>NaN</td>\n",
              "    </tr>\n",
              "    <tr>\n",
              "      <th>1</th>\n",
              "      <td>55_3</td>\n",
              "      <td>55</td>\n",
              "      <td>3</td>\n",
              "      <td>10.0</td>\n",
              "      <td>7.0</td>\n",
              "      <td>25.0</td>\n",
              "      <td>NaN</td>\n",
              "      <td>NaN</td>\n",
              "    </tr>\n",
              "    <tr>\n",
              "      <th>2</th>\n",
              "      <td>55_6</td>\n",
              "      <td>55</td>\n",
              "      <td>6</td>\n",
              "      <td>8.0</td>\n",
              "      <td>10.0</td>\n",
              "      <td>34.0</td>\n",
              "      <td>NaN</td>\n",
              "      <td>NaN</td>\n",
              "    </tr>\n",
              "    <tr>\n",
              "      <th>3</th>\n",
              "      <td>55_9</td>\n",
              "      <td>55</td>\n",
              "      <td>9</td>\n",
              "      <td>8.0</td>\n",
              "      <td>9.0</td>\n",
              "      <td>30.0</td>\n",
              "      <td>0.0</td>\n",
              "      <td>On</td>\n",
              "    </tr>\n",
              "    <tr>\n",
              "      <th>4</th>\n",
              "      <td>55_12</td>\n",
              "      <td>55</td>\n",
              "      <td>12</td>\n",
              "      <td>10.0</td>\n",
              "      <td>10.0</td>\n",
              "      <td>41.0</td>\n",
              "      <td>0.0</td>\n",
              "      <td>On</td>\n",
              "    </tr>\n",
              "  </tbody>\n",
              "</table>\n",
              "</div>"
            ],
            "text/plain": [
              "  visit_id  patient_id  visit_month  updrs_1  updrs_2  updrs_3  updrs_4  \\\n",
              "0     55_0          55            0     10.0      6.0     15.0      NaN   \n",
              "1     55_3          55            3     10.0      7.0     25.0      NaN   \n",
              "2     55_6          55            6      8.0     10.0     34.0      NaN   \n",
              "3     55_9          55            9      8.0      9.0     30.0      0.0   \n",
              "4    55_12          55           12     10.0     10.0     41.0      0.0   \n",
              "\n",
              "  upd23b_clinical_state_on_medication  \n",
              "0                                 NaN  \n",
              "1                                 NaN  \n",
              "2                                 NaN  \n",
              "3                                  On  \n",
              "4                                  On  "
            ]
          },
          "execution_count": 5,
          "metadata": {},
          "output_type": "execute_result"
        }
      ],
      "source": [
        "# Display the first 5 examples\n",
        "train_clinical.head(5)"
      ]
    },
    {
      "cell_type": "markdown",
      "id": "3a2c5cf7",
      "metadata": {
        "papermill": {
          "duration": 0.014164,
          "end_time": "2023-05-03T13:04:50.867849",
          "exception": false,
          "start_time": "2023-05-03T13:04:50.853685",
          "status": "completed"
        },
        "tags": [],
        "id": "3a2c5cf7"
      },
      "source": [
        "The clinic will also record the patient's **NPX**(Normalized Protein eXpression) value for all the proteins relevant to Parkinson's disease during each visit. **NPX** is nothing but the value representing the protein concentration in shells. This data is available in the `train_proteins` DataFrame.\n",
        "\n",
        "Let us examine the shape of `train_proteins` DataFrame."
      ]
    },
    {
      "cell_type": "code",
      "execution_count": null,
      "id": "2a01d6cc",
      "metadata": {
        "execution": {
          "iopub.execute_input": "2023-05-03T13:04:50.899132Z",
          "iopub.status.busy": "2023-05-03T13:04:50.898143Z",
          "iopub.status.idle": "2023-05-03T13:04:50.904552Z",
          "shell.execute_reply": "2023-05-03T13:04:50.903582Z"
        },
        "papermill": {
          "duration": 0.024746,
          "end_time": "2023-05-03T13:04:50.906965",
          "exception": false,
          "start_time": "2023-05-03T13:04:50.882219",
          "status": "completed"
        },
        "tags": [],
        "id": "2a01d6cc",
        "outputId": "bab22c3b-3856-497a-a42c-8d53e116c60c"
      },
      "outputs": [
        {
          "name": "stdout",
          "output_type": "stream",
          "text": [
            "proteins dataset shape:   (232741, 5)\n"
          ]
        }
      ],
      "source": [
        "print('proteins dataset shape:  ', train_proteins.shape)"
      ]
    },
    {
      "cell_type": "markdown",
      "id": "653df4de",
      "metadata": {
        "papermill": {
          "duration": 0.01481,
          "end_time": "2023-05-03T13:04:50.936734",
          "exception": false,
          "start_time": "2023-05-03T13:04:50.921924",
          "status": "completed"
        },
        "tags": [],
        "id": "653df4de"
      },
      "source": [
        "The `train_proteins` data is composed of ***5* columns** and ***232741* entries**. We can see all 5 dimensions of our dataset by printing out the first 5 entries using the following code:"
      ]
    },
    {
      "cell_type": "code",
      "execution_count": null,
      "id": "6f13da7c",
      "metadata": {
        "execution": {
          "iopub.execute_input": "2023-05-03T13:04:50.968113Z",
          "iopub.status.busy": "2023-05-03T13:04:50.967760Z",
          "iopub.status.idle": "2023-05-03T13:04:50.979753Z",
          "shell.execute_reply": "2023-05-03T13:04:50.978586Z"
        },
        "papermill": {
          "duration": 0.030375,
          "end_time": "2023-05-03T13:04:50.981871",
          "exception": false,
          "start_time": "2023-05-03T13:04:50.951496",
          "status": "completed"
        },
        "tags": [],
        "id": "6f13da7c",
        "outputId": "c894eddf-f34c-48ed-9272-7c12d32d14a2"
      },
      "outputs": [
        {
          "data": {
            "text/html": [
              "<div>\n",
              "<style scoped>\n",
              "    .dataframe tbody tr th:only-of-type {\n",
              "        vertical-align: middle;\n",
              "    }\n",
              "\n",
              "    .dataframe tbody tr th {\n",
              "        vertical-align: top;\n",
              "    }\n",
              "\n",
              "    .dataframe thead th {\n",
              "        text-align: right;\n",
              "    }\n",
              "</style>\n",
              "<table border=\"1\" class=\"dataframe\">\n",
              "  <thead>\n",
              "    <tr style=\"text-align: right;\">\n",
              "      <th></th>\n",
              "      <th>visit_id</th>\n",
              "      <th>visit_month</th>\n",
              "      <th>patient_id</th>\n",
              "      <th>UniProt</th>\n",
              "      <th>NPX</th>\n",
              "    </tr>\n",
              "  </thead>\n",
              "  <tbody>\n",
              "    <tr>\n",
              "      <th>0</th>\n",
              "      <td>55_0</td>\n",
              "      <td>0</td>\n",
              "      <td>55</td>\n",
              "      <td>O00391</td>\n",
              "      <td>11254.3</td>\n",
              "    </tr>\n",
              "    <tr>\n",
              "      <th>1</th>\n",
              "      <td>55_0</td>\n",
              "      <td>0</td>\n",
              "      <td>55</td>\n",
              "      <td>O00533</td>\n",
              "      <td>732430.0</td>\n",
              "    </tr>\n",
              "    <tr>\n",
              "      <th>2</th>\n",
              "      <td>55_0</td>\n",
              "      <td>0</td>\n",
              "      <td>55</td>\n",
              "      <td>O00584</td>\n",
              "      <td>39585.8</td>\n",
              "    </tr>\n",
              "    <tr>\n",
              "      <th>3</th>\n",
              "      <td>55_0</td>\n",
              "      <td>0</td>\n",
              "      <td>55</td>\n",
              "      <td>O14498</td>\n",
              "      <td>41526.9</td>\n",
              "    </tr>\n",
              "    <tr>\n",
              "      <th>4</th>\n",
              "      <td>55_0</td>\n",
              "      <td>0</td>\n",
              "      <td>55</td>\n",
              "      <td>O14773</td>\n",
              "      <td>31238.0</td>\n",
              "    </tr>\n",
              "  </tbody>\n",
              "</table>\n",
              "</div>"
            ],
            "text/plain": [
              "  visit_id  visit_month  patient_id UniProt       NPX\n",
              "0     55_0            0          55  O00391   11254.3\n",
              "1     55_0            0          55  O00533  732430.0\n",
              "2     55_0            0          55  O00584   39585.8\n",
              "3     55_0            0          55  O14498   41526.9\n",
              "4     55_0            0          55  O14773   31238.0"
            ]
          },
          "execution_count": 7,
          "metadata": {},
          "output_type": "execute_result"
        }
      ],
      "source": [
        "# Display the first 5 examples\n",
        "train_proteins.head(5)"
      ]
    },
    {
      "cell_type": "markdown",
      "id": "743bd28c",
      "metadata": {
        "papermill": {
          "duration": 0.014515,
          "end_time": "2023-05-03T13:04:51.011358",
          "exception": false,
          "start_time": "2023-05-03T13:04:50.996843",
          "status": "completed"
        },
        "tags": [],
        "id": "743bd28c"
      },
      "source": [
        "Proteins are long molecules made up of multiple peptides. The clinic will record the **Peptide Abundance** of each peptide in proteins relevant to Parkinson's disease. It shows the peptide concentration, similar to NPX for proteins.  This data can be found in the `train_peptides` DataFrame.\n",
        "\n",
        "Let us examine the shape of the `train_peptides` DataFrame."
      ]
    },
    {
      "cell_type": "code",
      "execution_count": null,
      "id": "bb4d8547",
      "metadata": {
        "execution": {
          "iopub.execute_input": "2023-05-03T13:04:51.042349Z",
          "iopub.status.busy": "2023-05-03T13:04:51.041982Z",
          "iopub.status.idle": "2023-05-03T13:04:51.047756Z",
          "shell.execute_reply": "2023-05-03T13:04:51.046613Z"
        },
        "papermill": {
          "duration": 0.023867,
          "end_time": "2023-05-03T13:04:51.050028",
          "exception": false,
          "start_time": "2023-05-03T13:04:51.026161",
          "status": "completed"
        },
        "tags": [],
        "id": "bb4d8547",
        "outputId": "ed3a1ccd-c288-4c0f-af8c-3d3b293b29c5"
      },
      "outputs": [
        {
          "name": "stdout",
          "output_type": "stream",
          "text": [
            "peptides dataset shape:   (981834, 6)\n"
          ]
        }
      ],
      "source": [
        "print('peptides dataset shape:  ', train_peptides.shape)"
      ]
    },
    {
      "cell_type": "markdown",
      "id": "6c74d55b",
      "metadata": {
        "papermill": {
          "duration": 0.014574,
          "end_time": "2023-05-03T13:04:51.079682",
          "exception": false,
          "start_time": "2023-05-03T13:04:51.065108",
          "status": "completed"
        },
        "tags": [],
        "id": "6c74d55b"
      },
      "source": [
        "The **train_peptides** data is composed of ***6* columns** and ***981834* entries**. We can see all 6 dimensions of our dataset by printing out the first 5 entries using the following code:"
      ]
    },
    {
      "cell_type": "code",
      "execution_count": null,
      "id": "027e1a41",
      "metadata": {
        "execution": {
          "iopub.execute_input": "2023-05-03T13:04:51.112214Z",
          "iopub.status.busy": "2023-05-03T13:04:51.111878Z",
          "iopub.status.idle": "2023-05-03T13:04:51.124335Z",
          "shell.execute_reply": "2023-05-03T13:04:51.122998Z"
        },
        "papermill": {
          "duration": 0.032153,
          "end_time": "2023-05-03T13:04:51.126849",
          "exception": false,
          "start_time": "2023-05-03T13:04:51.094696",
          "status": "completed"
        },
        "tags": [],
        "id": "027e1a41",
        "outputId": "8ee82339-3162-4383-afa0-e7b28bf645af"
      },
      "outputs": [
        {
          "data": {
            "text/html": [
              "<div>\n",
              "<style scoped>\n",
              "    .dataframe tbody tr th:only-of-type {\n",
              "        vertical-align: middle;\n",
              "    }\n",
              "\n",
              "    .dataframe tbody tr th {\n",
              "        vertical-align: top;\n",
              "    }\n",
              "\n",
              "    .dataframe thead th {\n",
              "        text-align: right;\n",
              "    }\n",
              "</style>\n",
              "<table border=\"1\" class=\"dataframe\">\n",
              "  <thead>\n",
              "    <tr style=\"text-align: right;\">\n",
              "      <th></th>\n",
              "      <th>visit_id</th>\n",
              "      <th>visit_month</th>\n",
              "      <th>patient_id</th>\n",
              "      <th>UniProt</th>\n",
              "      <th>Peptide</th>\n",
              "      <th>PeptideAbundance</th>\n",
              "    </tr>\n",
              "  </thead>\n",
              "  <tbody>\n",
              "    <tr>\n",
              "      <th>0</th>\n",
              "      <td>55_0</td>\n",
              "      <td>0</td>\n",
              "      <td>55</td>\n",
              "      <td>O00391</td>\n",
              "      <td>NEQEQPLGQWHLS</td>\n",
              "      <td>11254.3</td>\n",
              "    </tr>\n",
              "    <tr>\n",
              "      <th>1</th>\n",
              "      <td>55_0</td>\n",
              "      <td>0</td>\n",
              "      <td>55</td>\n",
              "      <td>O00533</td>\n",
              "      <td>GNPEPTFSWTK</td>\n",
              "      <td>102060.0</td>\n",
              "    </tr>\n",
              "    <tr>\n",
              "      <th>2</th>\n",
              "      <td>55_0</td>\n",
              "      <td>0</td>\n",
              "      <td>55</td>\n",
              "      <td>O00533</td>\n",
              "      <td>IEIPSSVQQVPTIIK</td>\n",
              "      <td>174185.0</td>\n",
              "    </tr>\n",
              "    <tr>\n",
              "      <th>3</th>\n",
              "      <td>55_0</td>\n",
              "      <td>0</td>\n",
              "      <td>55</td>\n",
              "      <td>O00533</td>\n",
              "      <td>KPQSAVYSTGSNGILLC(UniMod_4)EAEGEPQPTIK</td>\n",
              "      <td>27278.9</td>\n",
              "    </tr>\n",
              "    <tr>\n",
              "      <th>4</th>\n",
              "      <td>55_0</td>\n",
              "      <td>0</td>\n",
              "      <td>55</td>\n",
              "      <td>O00533</td>\n",
              "      <td>SMEQNGPGLEYR</td>\n",
              "      <td>30838.7</td>\n",
              "    </tr>\n",
              "  </tbody>\n",
              "</table>\n",
              "</div>"
            ],
            "text/plain": [
              "  visit_id  visit_month  patient_id UniProt  \\\n",
              "0     55_0            0          55  O00391   \n",
              "1     55_0            0          55  O00533   \n",
              "2     55_0            0          55  O00533   \n",
              "3     55_0            0          55  O00533   \n",
              "4     55_0            0          55  O00533   \n",
              "\n",
              "                                  Peptide  PeptideAbundance  \n",
              "0                           NEQEQPLGQWHLS           11254.3  \n",
              "1                             GNPEPTFSWTK          102060.0  \n",
              "2                         IEIPSSVQQVPTIIK          174185.0  \n",
              "3  KPQSAVYSTGSNGILLC(UniMod_4)EAEGEPQPTIK           27278.9  \n",
              "4                            SMEQNGPGLEYR           30838.7  "
            ]
          },
          "execution_count": 9,
          "metadata": {},
          "output_type": "execute_result"
        }
      ],
      "source": [
        "# Display the first 5 examples\n",
        "train_peptides.head(5)"
      ]
    },
    {
      "cell_type": "markdown",
      "id": "67f13fef",
      "metadata": {
        "papermill": {
          "duration": 0.015133,
          "end_time": "2023-05-03T13:04:51.157415",
          "exception": false,
          "start_time": "2023-05-03T13:04:51.142282",
          "status": "completed"
        },
        "tags": [],
        "id": "67f13fef"
      },
      "source": [
        "# Plotting clinical data\n",
        "\n",
        "We will pick a random `patient_id` and plot the target label values(`updrs_1`, `updrs_2`, `updrs_3`, `updrs_4`) of the patient against each month(`visit_month`)."
      ]
    },
    {
      "cell_type": "code",
      "execution_count": null,
      "id": "4203078e",
      "metadata": {
        "execution": {
          "iopub.execute_input": "2023-05-03T13:04:51.190424Z",
          "iopub.status.busy": "2023-05-03T13:04:51.190067Z",
          "iopub.status.idle": "2023-05-03T13:04:51.503493Z",
          "shell.execute_reply": "2023-05-03T13:04:51.502554Z"
        },
        "papermill": {
          "duration": 0.333132,
          "end_time": "2023-05-03T13:04:51.506173",
          "exception": false,
          "start_time": "2023-05-03T13:04:51.173041",
          "status": "completed"
        },
        "tags": [],
        "id": "4203078e",
        "outputId": "41928b9d-3971-432f-97ef-4391d478b194"
      },
      "outputs": [
        {
          "data": {
            "image/png": "[encoded data removed]",
            "text/plain": [
              "<Figure size 640x480 with 1 Axes>"
            ]
          },
          "metadata": {},
          "output_type": "display_data"
        }
      ],
      "source": [
        "# Fetch data for patient with id 1517\n",
        "plot_df = train_clinical[train_clinical[\"patient_id\"]==1517]\n",
        "fig, ax = plt.subplots(1, 1)\n",
        "\n",
        "ax.plot(plot_df['visit_month'], plot_df['updrs_1'], marker='o', color=\"blue\", label=\"updrs_1\", linestyle=\"-\")\n",
        "ax.plot(plot_df['visit_month'], plot_df['updrs_2'], marker='o', color=\"red\", label=\"updrs_2\", linestyle=\"-\")\n",
        "ax.plot(plot_df['visit_month'], plot_df['updrs_3'], marker='o', color=\"green\", label=\"updrs_3\", linestyle=\"-\")\n",
        "ax.plot(plot_df['visit_month'], plot_df['updrs_4'], marker='o', color=\"orange\", label=\"updrs_4\", linestyle=\"-\")\n",
        "\n",
        "ax.legend()\n",
        "plt.show()"
      ]
    },
    {
      "cell_type": "markdown",
      "id": "41e653c0",
      "metadata": {
        "papermill": {
          "duration": 0.015488,
          "end_time": "2023-05-03T13:04:51.537636",
          "exception": false,
          "start_time": "2023-05-03T13:04:51.522148",
          "status": "completed"
        },
        "tags": [],
        "id": "41e653c0"
      },
      "source": [
        "# Plotting protein data\n",
        "\n",
        "\n",
        "We will pick a random `patient_id` and plot the first 40 Protein entries(`UniProt`) of the patient and their NPX value against patient's visit month(`visit_month`)."
      ]
    },
    {
      "cell_type": "code",
      "execution_count": null,
      "id": "d162ebfa",
      "metadata": {
        "execution": {
          "iopub.execute_input": "2023-05-03T13:04:51.571595Z",
          "iopub.status.busy": "2023-05-03T13:04:51.570394Z",
          "iopub.status.idle": "2023-05-03T13:04:53.620354Z",
          "shell.execute_reply": "2023-05-03T13:04:53.619199Z"
        },
        "papermill": {
          "duration": 2.069641,
          "end_time": "2023-05-03T13:04:53.622967",
          "exception": false,
          "start_time": "2023-05-03T13:04:51.553326",
          "status": "completed"
        },
        "tags": [],
        "id": "d162ebfa",
        "outputId": "f10b976d-a4b5-477b-fece-1f7f39762026"
      },
      "outputs": [
        {
          "data": {
            "image/png": "[encoded data removed]",
            "text/plain": [
              "<Figure size 1500x1200 with 4 Axes>"
            ]
          },
          "metadata": {},
          "output_type": "display_data"
        }
      ],
      "source": [
        "pro_plot_df = train_proteins[train_proteins[\"patient_id\"]==1517]\n",
        "protein_list = pro_plot_df['UniProt'].unique()\n",
        "protein_list = protein_list[:40]\n",
        "pro_plot_df = pro_plot_df[pro_plot_df['UniProt'].isin(protein_list)]\n",
        "unique_month = pro_plot_df['visit_month'].unique()\n",
        "unique_month.sort()\n",
        "p_len = len(unique_month)\n",
        "\n",
        "pro_plot_df['visit_month'].unique()\n",
        "n_rows = math.ceil(p_len/2)\n",
        "figure, axis = plt.subplots(n_rows, 2, figsize=(15, n_rows*6))\n",
        "plt.subplots_adjust(hspace=0.5, wspace=0.3)\n",
        "\n",
        "for i, month in enumerate(unique_month):\n",
        "    row = i//2\n",
        "    col = i % 2\n",
        "    plot_df = pro_plot_df[pro_plot_df['visit_month']==month]\n",
        "    bp = sns.barplot(ax=axis[row, col], x=plot_df['UniProt'], y=plot_df['NPX'])\n",
        "    #bp.set(xticklabels=[])\n",
        "    bp.set_xticklabels(bp.get_xticklabels(), rotation=90, size = 7)\n",
        "    axis[row, col].set_title('visit_month ' + str(month))\n",
        "plt.show()"
      ]
    },
    {
      "cell_type": "markdown",
      "id": "279ea0b6",
      "metadata": {
        "papermill": {
          "duration": 0.017701,
          "end_time": "2023-05-03T13:04:53.658541",
          "exception": false,
          "start_time": "2023-05-03T13:04:53.640840",
          "status": "completed"
        },
        "tags": [],
        "id": "279ea0b6"
      },
      "source": [
        "# Prepare the dataset\n",
        "\n",
        "We have to predict the ratings for the the first 4 segments of UPDRS `updrs_1`, `updrs_2`, `updrs_3` and `updrs_4` that is likely to be recorded by the clinic during a patient visit. Hence these are our labels."
      ]
    },
    {
      "cell_type": "markdown",
      "id": "0e9a12a7",
      "metadata": {
        "papermill": {
          "duration": 0.016875,
          "end_time": "2023-05-03T13:04:53.692629",
          "exception": false,
          "start_time": "2023-05-03T13:04:53.675754",
          "status": "completed"
        },
        "tags": [],
        "id": "0e9a12a7"
      },
      "source": [
        "We will now prepare the dataset for training models to predict the 4 labels."
      ]
    },
    {
      "cell_type": "markdown",
      "id": "5489fe8d",
      "metadata": {
        "papermill": {
          "duration": 0.01702,
          "end_time": "2023-05-03T13:04:53.726855",
          "exception": false,
          "start_time": "2023-05-03T13:04:53.709835",
          "status": "completed"
        },
        "tags": [],
        "id": "5489fe8d"
      },
      "source": [
        "To predict the target labels(`updrs_1`, `updrs_2`, `updrs_3`, `updrs_4`) for a given visit, we will use the recorded protein and peptide data of the patient during that visit.\n",
        "\n",
        "First we will group the rows in `train_proteins` data by visit ids (`visit id`) and protein ids (`UniProt`). Then we will replace the`NPX` values of each row in a group with the mean of the `NPX` values of all rows in that group.\n",
        "\n",
        "Similarly we will group the rows in `train_peptides` data by their visit ids(`visit_id`) and peptide ids(`Peptide`). Then we will replace the `PeptideAbundance` values of each row in a group with the mean of the `PeptideAbundance` values of all rows in that group.\n",
        "\n",
        "Following figure shows the working of Pandas groupby function."
      ]
    },
    {
      "cell_type": "markdown",
      "id": "d6290363",
      "metadata": {
        "papermill": {
          "duration": 0.016982,
          "end_time": "2023-05-03T13:04:53.761664",
          "exception": false,
          "start_time": "2023-05-03T13:04:53.744682",
          "status": "completed"
        },
        "tags": [],
        "id": "d6290363"
      },
      "source": [
        "![group.png](attachment:1446775a-0b8a-4e72-80f1-b200a7b056be.png)\n",
        "\n",
        "This image was taken from [https://pandas.pydata.org](https://pandas.pydata.org/Pandas_Cheat_Sheet.pdf)"
      ]
    },
    {
      "cell_type": "markdown",
      "id": "8f32b1c6",
      "metadata": {
        "papermill": {
          "duration": 0.016504,
          "end_time": "2023-05-03T13:04:53.795168",
          "exception": false,
          "start_time": "2023-05-03T13:04:53.778664",
          "status": "completed"
        },
        "tags": [],
        "id": "8f32b1c6"
      },
      "source": [
        "Now we will spread the rows of the grouped datasets into columns. For this we will use the Pandas pivot function.\n",
        "\n",
        "Below is a simple explanation for how the pivoting works."
      ]
    },
    {
      "cell_type": "markdown",
      "id": "d187a1d2",
      "metadata": {
        "papermill": {
          "duration": 0.016889,
          "end_time": "2023-05-03T13:04:53.829168",
          "exception": false,
          "start_time": "2023-05-03T13:04:53.812279",
          "status": "completed"
        },
        "tags": [],
        "id": "d187a1d2"
      },
      "source": [
        "![pivotn.png](attachment:3abea96f-0f65-432c-9175-ccf93944c546.png)\n",
        "\n",
        "This image was taken from [https://pandas.pydata.org](https://pandas.pydata.org/Pandas_Cheat_Sheet.pdf)"
      ]
    },
    {
      "cell_type": "markdown",
      "id": "835bd1e2",
      "metadata": {
        "papermill": {
          "duration": 0.016711,
          "end_time": "2023-05-03T13:04:53.862858",
          "exception": false,
          "start_time": "2023-05-03T13:04:53.846147",
          "status": "completed"
        },
        "tags": [],
        "id": "835bd1e2"
      },
      "source": [
        "The Protein dataset is pivoted such that unique values of `visit_id` become the indices and the values of `UniProt1` in the dataset become columns. For each visit(row), the `NPX` values corresponding to the different`UniProt1` values recorded for that visit are captured in the columns.\n",
        "\n",
        "The Peptipe dataset is pivoted such that unique values of `visit_id` become the indices and the values of `Peptide` in the dataset become columns. For each visit(row), the `PeptideAbundance` values corresponding to the different`Peptide` values recorded for that visit are captured in the columns."
      ]
    },
    {
      "cell_type": "markdown",
      "id": "fd2b037a",
      "metadata": {
        "papermill": {
          "duration": 0.01702,
          "end_time": "2023-05-03T13:04:53.897207",
          "exception": false,
          "start_time": "2023-05-03T13:04:53.880187",
          "status": "completed"
        },
        "tags": [],
        "id": "fd2b037a"
      },
      "source": [
        "We will now merge the pivoted peptide dataset with the pivoted protein dataset on `visit_id`.\n",
        "\n",
        "The figure shown below illustrates the logic behind Pandas merge function."
      ]
    },
    {
      "cell_type": "markdown",
      "id": "01a6d1cd",
      "metadata": {
        "papermill": {
          "duration": 0.016728,
          "end_time": "2023-05-03T13:04:53.931023",
          "exception": false,
          "start_time": "2023-05-03T13:04:53.914295",
          "status": "completed"
        },
        "tags": [],
        "id": "01a6d1cd"
      },
      "source": [
        "![merge.png](attachment:38bb40a3-dca5-4ab4-aef8-c5293b99faaf.png)\n",
        "\n",
        "This image was taken from [https://pandas.pydata.org](https://pandas.pydata.org/Pandas_Cheat_Sheet.pdf)"
      ]
    },
    {
      "cell_type": "markdown",
      "id": "4ffbcaa3",
      "metadata": {
        "papermill": {
          "duration": 0.016667,
          "end_time": "2023-05-03T13:04:53.964662",
          "exception": false,
          "start_time": "2023-05-03T13:04:53.947995",
          "status": "completed"
        },
        "tags": [],
        "id": "4ffbcaa3"
      },
      "source": [
        "In this notebook, we will let TensorFlow Decision Forests handle the missing values in the numerical columns."
      ]
    },
    {
      "cell_type": "code",
      "execution_count": null,
      "id": "bd16c084",
      "metadata": {
        "execution": {
          "iopub.execute_input": "2023-05-03T13:04:54.000685Z",
          "iopub.status.busy": "2023-05-03T13:04:54.000294Z",
          "iopub.status.idle": "2023-05-03T13:04:54.007549Z",
          "shell.execute_reply": "2023-05-03T13:04:54.006367Z"
        },
        "papermill": {
          "duration": 0.027903,
          "end_time": "2023-05-03T13:04:54.009659",
          "exception": false,
          "start_time": "2023-05-03T13:04:53.981756",
          "status": "completed"
        },
        "tags": [],
        "id": "bd16c084"
      },
      "outputs": [],
      "source": [
        "# Function to prepare dataset with all the steps mentioned above:\n",
        "def prepare_dataset(train_proteins, train_peptides):\n",
        "    # Step 1: Grouping\n",
        "    df_protein_grouped = train_proteins.groupby(['visit_id','UniProt'])['NPX'].mean().reset_index()\n",
        "    df_peptide_grouped = train_peptides.groupby(['visit_id','Peptide'])['PeptideAbundance'].mean().reset_index()\n",
        "\n",
        "    # Step 2: Pivoting\n",
        "    df_protein = df_protein_grouped.pivot(index='visit_id',columns = 'UniProt', values = 'NPX').rename_axis(columns=None).reset_index()\n",
        "    df_peptide = df_peptide_grouped.pivot(index='visit_id',columns = 'Peptide', values = 'PeptideAbundance').rename_axis(columns=None).reset_index()\n",
        "\n",
        "    # Step 3: Merging\n",
        "    pro_pep_df = df_protein.merge(df_peptide, on = ['visit_id'], how = 'left')\n",
        "\n",
        "    return pro_pep_df\n",
        ""
      ]
    },
    {
      "cell_type": "code",
      "execution_count": null,
      "id": "d547d017",
      "metadata": {
        "execution": {
          "iopub.execute_input": "2023-05-03T13:04:54.045913Z",
          "iopub.status.busy": "2023-05-03T13:04:54.045146Z",
          "iopub.status.idle": "2023-05-03T13:04:55.233956Z",
          "shell.execute_reply": "2023-05-03T13:04:55.232850Z"
        },
        "papermill": {
          "duration": 1.209913,
          "end_time": "2023-05-03T13:04:55.236603",
          "exception": false,
          "start_time": "2023-05-03T13:04:54.026690",
          "status": "completed"
        },
        "tags": [],
        "id": "d547d017"
      },
      "outputs": [],
      "source": [
        "pro_pep_df = prepare_dataset(train_proteins, train_peptides)"
      ]
    },
    {
      "cell_type": "markdown",
      "id": "e06a2385",
      "metadata": {
        "papermill": {
          "duration": 0.017437,
          "end_time": "2023-05-03T13:04:55.271712",
          "exception": false,
          "start_time": "2023-05-03T13:04:55.254275",
          "status": "completed"
        },
        "tags": [],
        "id": "e06a2385"
      },
      "source": [
        "# Basic exploration of the prepared dataset"
      ]
    },
    {
      "cell_type": "code",
      "execution_count": null,
      "id": "5bc0a0eb",
      "metadata": {
        "execution": {
          "iopub.execute_input": "2023-05-03T13:04:55.308553Z",
          "iopub.status.busy": "2023-05-03T13:04:55.308156Z",
          "iopub.status.idle": "2023-05-03T13:04:55.314817Z",
          "shell.execute_reply": "2023-05-03T13:04:55.313820Z"
        },
        "papermill": {
          "duration": 0.027683,
          "end_time": "2023-05-03T13:04:55.316948",
          "exception": false,
          "start_time": "2023-05-03T13:04:55.289265",
          "status": "completed"
        },
        "tags": [],
        "id": "5bc0a0eb",
        "outputId": "db313592-6f96-4346-d41c-eee9fb4c5678"
      },
      "outputs": [
        {
          "data": {
            "text/plain": [
              "(1113, 1196)"
            ]
          },
          "execution_count": 14,
          "metadata": {},
          "output_type": "execute_result"
        }
      ],
      "source": [
        "pro_pep_df.shape"
      ]
    },
    {
      "cell_type": "markdown",
      "id": "6202c1a2",
      "metadata": {
        "papermill": {
          "duration": 0.017389,
          "end_time": "2023-05-03T13:04:55.351708",
          "exception": false,
          "start_time": "2023-05-03T13:04:55.334319",
          "status": "completed"
        },
        "tags": [],
        "id": "6202c1a2"
      },
      "source": [
        "Our feature engineered dataset is composed of 1196 columns and 1113 entries.\n",
        "\n",
        "Let us print out the first 5 entries using the following code:"
      ]
    },
    {
      "cell_type": "code",
      "execution_count": null,
      "id": "dea73cfc",
      "metadata": {
        "execution": {
          "iopub.execute_input": "2023-05-03T13:04:55.389052Z",
          "iopub.status.busy": "2023-05-03T13:04:55.388635Z",
          "iopub.status.idle": "2023-05-03T13:04:55.419183Z",
          "shell.execute_reply": "2023-05-03T13:04:55.418005Z"
        },
        "papermill": {
          "duration": 0.051777,
          "end_time": "2023-05-03T13:04:55.421433",
          "exception": false,
          "start_time": "2023-05-03T13:04:55.369656",
          "status": "completed"
        },
        "tags": [],
        "id": "dea73cfc",
        "outputId": "c8038218-7834-4f01-d098-dfa46a0922da"
      },
      "outputs": [
        {
          "data": {
            "text/html": [
              "<div>\n",
              "<style scoped>\n",
              "    .dataframe tbody tr th:only-of-type {\n",
              "        vertical-align: middle;\n",
              "    }\n",
              "\n",
              "    .dataframe tbody tr th {\n",
              "        vertical-align: top;\n",
              "    }\n",
              "\n",
              "    .dataframe thead th {\n",
              "        text-align: right;\n",
              "    }\n",
              "</style>\n",
              "<table border=\"1\" class=\"dataframe\">\n",
              "  <thead>\n",
              "    <tr style=\"text-align: right;\">\n",
              "      <th></th>\n",
              "      <th>visit_id</th>\n",
              "      <th>O00391</th>\n",
              "      <th>O00533</th>\n",
              "      <th>O00584</th>\n",
              "      <th>O14498</th>\n",
              "      <th>O14773</th>\n",
              "      <th>O14791</th>\n",
              "      <th>O15240</th>\n",
              "      <th>O15394</th>\n",
              "      <th>O43505</th>\n",
              "      <th>...</th>\n",
              "      <th>YSLTYIYTGLSK</th>\n",
              "      <th>YTTEIIK</th>\n",
              "      <th>YVGGQEHFAHLLILR</th>\n",
              "      <th>YVM(UniMod_35)LPVADQDQC(UniMod_4)IR</th>\n",
              "      <th>YVMLPVADQDQC(UniMod_4)IR</th>\n",
              "      <th>YVNKEIQNAVNGVK</th>\n",
              "      <th>YWGVASFLQK</th>\n",
              "      <th>YYC(UniMod_4)FQGNQFLR</th>\n",
              "      <th>YYTYLIMNK</th>\n",
              "      <th>YYWGGQYTWDMAK</th>\n",
              "    </tr>\n",
              "  </thead>\n",
              "  <tbody>\n",
              "    <tr>\n",
              "      <th>0</th>\n",
              "      <td>10053_0</td>\n",
              "      <td>9104.27</td>\n",
              "      <td>402321.0</td>\n",
              "      <td>NaN</td>\n",
              "      <td>NaN</td>\n",
              "      <td>7150.57</td>\n",
              "      <td>2497.84</td>\n",
              "      <td>83002.9</td>\n",
              "      <td>15113.6</td>\n",
              "      <td>167327.0</td>\n",
              "      <td>...</td>\n",
              "      <td>202274.0</td>\n",
              "      <td>NaN</td>\n",
              "      <td>4401830.0</td>\n",
              "      <td>77482.6</td>\n",
              "      <td>583075.0</td>\n",
              "      <td>76705.7</td>\n",
              "      <td>104260.0</td>\n",
              "      <td>530223.0</td>\n",
              "      <td>NaN</td>\n",
              "      <td>7207.30</td>\n",
              "    </tr>\n",
              "    <tr>\n",
              "      <th>1</th>\n",
              "      <td>10053_12</td>\n",
              "      <td>10464.20</td>\n",
              "      <td>435586.0</td>\n",
              "      <td>NaN</td>\n",
              "      <td>NaN</td>\n",
              "      <td>NaN</td>\n",
              "      <td>NaN</td>\n",
              "      <td>197117.0</td>\n",
              "      <td>15099.1</td>\n",
              "      <td>164268.0</td>\n",
              "      <td>...</td>\n",
              "      <td>201009.0</td>\n",
              "      <td>NaN</td>\n",
              "      <td>5001750.0</td>\n",
              "      <td>36745.3</td>\n",
              "      <td>355643.0</td>\n",
              "      <td>92078.1</td>\n",
              "      <td>123254.0</td>\n",
              "      <td>453883.0</td>\n",
              "      <td>49281.9</td>\n",
              "      <td>25332.80</td>\n",
              "    </tr>\n",
              "    <tr>\n",
              "      <th>2</th>\n",
              "      <td>10053_18</td>\n",
              "      <td>13235.70</td>\n",
              "      <td>507386.0</td>\n",
              "      <td>7126.96</td>\n",
              "      <td>24525.7</td>\n",
              "      <td>NaN</td>\n",
              "      <td>2372.71</td>\n",
              "      <td>126506.0</td>\n",
              "      <td>16289.6</td>\n",
              "      <td>168107.0</td>\n",
              "      <td>...</td>\n",
              "      <td>220728.0</td>\n",
              "      <td>NaN</td>\n",
              "      <td>5424380.0</td>\n",
              "      <td>39016.0</td>\n",
              "      <td>496021.0</td>\n",
              "      <td>63203.6</td>\n",
              "      <td>128336.0</td>\n",
              "      <td>447505.0</td>\n",
              "      <td>52389.1</td>\n",
              "      <td>21235.70</td>\n",
              "    </tr>\n",
              "    <tr>\n",
              "      <th>3</th>\n",
              "      <td>10138_12</td>\n",
              "      <td>12600.20</td>\n",
              "      <td>494581.0</td>\n",
              "      <td>9165.06</td>\n",
              "      <td>27193.5</td>\n",
              "      <td>22506.10</td>\n",
              "      <td>6015.90</td>\n",
              "      <td>156313.0</td>\n",
              "      <td>54546.4</td>\n",
              "      <td>204013.0</td>\n",
              "      <td>...</td>\n",
              "      <td>188362.0</td>\n",
              "      <td>9433.71</td>\n",
              "      <td>3900280.0</td>\n",
              "      <td>48210.3</td>\n",
              "      <td>328482.0</td>\n",
              "      <td>89822.1</td>\n",
              "      <td>129964.0</td>\n",
              "      <td>552232.0</td>\n",
              "      <td>65657.8</td>\n",
              "      <td>9876.98</td>\n",
              "    </tr>\n",
              "    <tr>\n",
              "      <th>4</th>\n",
              "      <td>10138_24</td>\n",
              "      <td>12003.20</td>\n",
              "      <td>522138.0</td>\n",
              "      <td>4498.51</td>\n",
              "      <td>17189.8</td>\n",
              "      <td>29112.40</td>\n",
              "      <td>2665.15</td>\n",
              "      <td>151169.0</td>\n",
              "      <td>52338.1</td>\n",
              "      <td>240892.0</td>\n",
              "      <td>...</td>\n",
              "      <td>206187.0</td>\n",
              "      <td>6365.15</td>\n",
              "      <td>3521800.0</td>\n",
              "      <td>69984.6</td>\n",
              "      <td>496737.0</td>\n",
              "      <td>80919.3</td>\n",
              "      <td>111799.0</td>\n",
              "      <td>NaN</td>\n",
              "      <td>56977.6</td>\n",
              "      <td>4903.09</td>\n",
              "    </tr>\n",
              "  </tbody>\n",
              "</table>\n",
              "<p>5 rows × 1196 columns</p>\n",
              "</div>"
            ],
            "text/plain": [
              "   visit_id    O00391    O00533   O00584   O14498    O14773   O14791  \\\n",
              "0   10053_0   9104.27  402321.0      NaN      NaN   7150.57  2497.84   \n",
              "1  10053_12  10464.20  435586.0      NaN      NaN       NaN      NaN   \n",
              "2  10053_18  13235.70  507386.0  7126.96  24525.7       NaN  2372.71   \n",
              "3  10138_12  12600.20  494581.0  9165.06  27193.5  22506.10  6015.90   \n",
              "4  10138_24  12003.20  522138.0  4498.51  17189.8  29112.40  2665.15   \n",
              "\n",
              "     O15240   O15394    O43505  ...  YSLTYIYTGLSK  YTTEIIK  YVGGQEHFAHLLILR  \\\n",
              "0   83002.9  15113.6  167327.0  ...      202274.0      NaN        4401830.0   \n",
              "1  197117.0  15099.1  164268.0  ...      201009.0      NaN        5001750.0   \n",
              "2  126506.0  16289.6  168107.0  ...      220728.0      NaN        5424380.0   \n",
              "3  156313.0  54546.4  204013.0  ...      188362.0  9433.71        3900280.0   \n",
              "4  151169.0  52338.1  240892.0  ...      206187.0  6365.15        3521800.0   \n",
              "\n",
              "   YVM(UniMod_35)LPVADQDQC(UniMod_4)IR  YVMLPVADQDQC(UniMod_4)IR  \\\n",
              "0                              77482.6                  583075.0   \n",
              "1                              36745.3                  355643.0   \n",
              "2                              39016.0                  496021.0   \n",
              "3                              48210.3                  328482.0   \n",
              "4                              69984.6                  496737.0   \n",
              "\n",
              "   YVNKEIQNAVNGVK  YWGVASFLQK  YYC(UniMod_4)FQGNQFLR  YYTYLIMNK  YYWGGQYTWDMAK  \n",
              "0         76705.7    104260.0               530223.0        NaN        7207.30  \n",
              "1         92078.1    123254.0               453883.0    49281.9       25332.80  \n",
              "2         63203.6    128336.0               447505.0    52389.1       21235.70  \n",
              "3         89822.1    129964.0               552232.0    65657.8        9876.98  \n",
              "4         80919.3    111799.0                    NaN    56977.6        4903.09  \n",
              "\n",
              "[5 rows x 1196 columns]"
            ]
          },
          "execution_count": 15,
          "metadata": {},
          "output_type": "execute_result"
        }
      ],
      "source": [
        "# Display the first 5 examples\n",
        "pro_pep_df.head(5)"
      ]
    },
    {
      "cell_type": "code",
      "execution_count": null,
      "id": "16875635",
      "metadata": {
        "execution": {
          "iopub.execute_input": "2023-05-03T13:04:55.458406Z",
          "iopub.status.busy": "2023-05-03T13:04:55.458007Z",
          "iopub.status.idle": "2023-05-03T13:04:58.267055Z",
          "shell.execute_reply": "2023-05-03T13:04:58.265886Z"
        },
        "papermill": {
          "duration": 2.830894,
          "end_time": "2023-05-03T13:04:58.270033",
          "exception": false,
          "start_time": "2023-05-03T13:04:55.439139",
          "status": "completed"
        },
        "tags": [],
        "id": "16875635",
        "outputId": "751481bc-949f-4035-f429-711579ed5ce5"
      },
      "outputs": [
        {
          "data": {
            "text/html": [
              "<div>\n",
              "<style scoped>\n",
              "    .dataframe tbody tr th:only-of-type {\n",
              "        vertical-align: middle;\n",
              "    }\n",
              "\n",
              "    .dataframe tbody tr th {\n",
              "        vertical-align: top;\n",
              "    }\n",
              "\n",
              "    .dataframe thead th {\n",
              "        text-align: right;\n",
              "    }\n",
              "</style>\n",
              "<table border=\"1\" class=\"dataframe\">\n",
              "  <thead>\n",
              "    <tr style=\"text-align: right;\">\n",
              "      <th></th>\n",
              "      <th>O00391</th>\n",
              "      <th>O00533</th>\n",
              "      <th>O00584</th>\n",
              "      <th>O14498</th>\n",
              "      <th>O14773</th>\n",
              "      <th>O14791</th>\n",
              "      <th>O15240</th>\n",
              "      <th>O15394</th>\n",
              "      <th>O43505</th>\n",
              "      <th>O60888</th>\n",
              "      <th>...</th>\n",
              "      <th>YSLTYIYTGLSK</th>\n",
              "      <th>YTTEIIK</th>\n",
              "      <th>YVGGQEHFAHLLILR</th>\n",
              "      <th>YVM(UniMod_35)LPVADQDQC(UniMod_4)IR</th>\n",
              "      <th>YVMLPVADQDQC(UniMod_4)IR</th>\n",
              "      <th>YVNKEIQNAVNGVK</th>\n",
              "      <th>YWGVASFLQK</th>\n",
              "      <th>YYC(UniMod_4)FQGNQFLR</th>\n",
              "      <th>YYTYLIMNK</th>\n",
              "      <th>YYWGGQYTWDMAK</th>\n",
              "    </tr>\n",
              "  </thead>\n",
              "  <tbody>\n",
              "    <tr>\n",
              "      <th>count</th>\n",
              "      <td>764.000000</td>\n",
              "      <td>1.112000e+03</td>\n",
              "      <td>1100.000000</td>\n",
              "      <td>1032.000000</td>\n",
              "      <td>1047.000000</td>\n",
              "      <td>942.000000</td>\n",
              "      <td>1113.000000</td>\n",
              "      <td>1050.000000</td>\n",
              "      <td>1110.000000</td>\n",
              "      <td>1079.000000</td>\n",
              "      <td>...</td>\n",
              "      <td>1100.000000</td>\n",
              "      <td>994.000000</td>\n",
              "      <td>1.022000e+03</td>\n",
              "      <td>977.000000</td>\n",
              "      <td>1.091000e+03</td>\n",
              "      <td>1111.000000</td>\n",
              "      <td>1089.000000</td>\n",
              "      <td>1105.000000</td>\n",
              "      <td>1030.000000</td>\n",
              "      <td>865.00000</td>\n",
              "    </tr>\n",
              "    <tr>\n",
              "      <th>mean</th>\n",
              "      <td>11641.264435</td>\n",
              "      <td>5.111649e+05</td>\n",
              "      <td>26505.529157</td>\n",
              "      <td>27305.934884</td>\n",
              "      <td>17688.295406</td>\n",
              "      <td>3004.990691</td>\n",
              "      <td>126151.780054</td>\n",
              "      <td>50773.474638</td>\n",
              "      <td>195599.363694</td>\n",
              "      <td>145382.047368</td>\n",
              "      <td>...</td>\n",
              "      <td>215246.833636</td>\n",
              "      <td>9015.134433</td>\n",
              "      <td>3.937256e+06</td>\n",
              "      <td>67866.452927</td>\n",
              "      <td>6.110779e+05</td>\n",
              "      <td>92581.223041</td>\n",
              "      <td>125937.993436</td>\n",
              "      <td>471554.596652</td>\n",
              "      <td>47068.709311</td>\n",
              "      <td>21072.04823</td>\n",
              "    </tr>\n",
              "    <tr>\n",
              "      <th>std</th>\n",
              "      <td>2817.003530</td>\n",
              "      <td>2.357357e+05</td>\n",
              "      <td>10705.152540</td>\n",
              "      <td>8446.187506</td>\n",
              "      <td>7166.325369</td>\n",
              "      <td>1142.159575</td>\n",
              "      <td>72748.393517</td>\n",
              "      <td>21382.028764</td>\n",
              "      <td>79739.704279</td>\n",
              "      <td>58028.089713</td>\n",
              "      <td>...</td>\n",
              "      <td>50727.227704</td>\n",
              "      <td>3127.061637</td>\n",
              "      <td>1.677710e+06</td>\n",
              "      <td>61176.002825</td>\n",
              "      <td>5.047422e+05</td>\n",
              "      <td>30138.957433</td>\n",
              "      <td>38696.448657</td>\n",
              "      <td>131150.715245</td>\n",
              "      <td>13689.667117</td>\n",
              "      <td>10360.59380</td>\n",
              "    </tr>\n",
              "    <tr>\n",
              "      <th>min</th>\n",
              "      <td>873.778000</td>\n",
              "      <td>5.971820e+04</td>\n",
              "      <td>591.103000</td>\n",
              "      <td>8945.340000</td>\n",
              "      <td>2811.120000</td>\n",
              "      <td>336.517000</td>\n",
              "      <td>10717.400000</td>\n",
              "      <td>5806.840000</td>\n",
              "      <td>29740.900000</td>\n",
              "      <td>8358.080000</td>\n",
              "      <td>...</td>\n",
              "      <td>12164.300000</td>\n",
              "      <td>258.249000</td>\n",
              "      <td>1.624640e+05</td>\n",
              "      <td>884.260000</td>\n",
              "      <td>7.494660e+03</td>\n",
              "      <td>869.898000</td>\n",
              "      <td>991.452000</td>\n",
              "      <td>11371.200000</td>\n",
              "      <td>6362.490000</td>\n",
              "      <td>868.90300</td>\n",
              "    </tr>\n",
              "    <tr>\n",
              "      <th>25%</th>\n",
              "      <td>9736.857500</td>\n",
              "      <td>3.490590e+05</td>\n",
              "      <td>19941.075000</td>\n",
              "      <td>21123.650000</td>\n",
              "      <td>12920.050000</td>\n",
              "      <td>2189.087500</td>\n",
              "      <td>70560.600000</td>\n",
              "      <td>37008.975000</td>\n",
              "      <td>142054.500000</td>\n",
              "      <td>103983.000000</td>\n",
              "      <td>...</td>\n",
              "      <td>186658.250000</td>\n",
              "      <td>6899.805000</td>\n",
              "      <td>2.895622e+06</td>\n",
              "      <td>30997.900000</td>\n",
              "      <td>2.929505e+05</td>\n",
              "      <td>70508.150000</td>\n",
              "      <td>100691.000000</td>\n",
              "      <td>384902.000000</td>\n",
              "      <td>37752.375000</td>\n",
              "      <td>14249.90000</td>\n",
              "    </tr>\n",
              "    <tr>\n",
              "      <th>50%</th>\n",
              "      <td>11546.400000</td>\n",
              "      <td>4.834425e+05</td>\n",
              "      <td>26529.700000</td>\n",
              "      <td>26624.000000</td>\n",
              "      <td>17399.600000</td>\n",
              "      <td>2865.460000</td>\n",
              "      <td>116900.000000</td>\n",
              "      <td>50375.800000</td>\n",
              "      <td>185616.000000</td>\n",
              "      <td>136452.000000</td>\n",
              "      <td>...</td>\n",
              "      <td>217430.500000</td>\n",
              "      <td>8604.345000</td>\n",
              "      <td>3.671010e+06</td>\n",
              "      <td>52576.900000</td>\n",
              "      <td>4.702450e+05</td>\n",
              "      <td>88918.600000</td>\n",
              "      <td>123588.000000</td>\n",
              "      <td>463382.000000</td>\n",
              "      <td>45503.150000</td>\n",
              "      <td>20390.90000</td>\n",
              "    </tr>\n",
              "    <tr>\n",
              "      <th>75%</th>\n",
              "      <td>13383.025000</td>\n",
              "      <td>6.485572e+05</td>\n",
              "      <td>33222.800000</td>\n",
              "      <td>32459.275000</td>\n",
              "      <td>22077.050000</td>\n",
              "      <td>3593.147500</td>\n",
              "      <td>164947.000000</td>\n",
              "      <td>63446.700000</td>\n",
              "      <td>239731.500000</td>\n",
              "      <td>177451.000000</td>\n",
              "      <td>...</td>\n",
              "      <td>246423.500000</td>\n",
              "      <td>10612.775000</td>\n",
              "      <td>4.710635e+06</td>\n",
              "      <td>85369.600000</td>\n",
              "      <td>7.592380e+05</td>\n",
              "      <td>110140.000000</td>\n",
              "      <td>149597.000000</td>\n",
              "      <td>549455.000000</td>\n",
              "      <td>54748.350000</td>\n",
              "      <td>27031.90000</td>\n",
              "    </tr>\n",
              "    <tr>\n",
              "      <th>max</th>\n",
              "      <td>21361.800000</td>\n",
              "      <td>1.806980e+06</td>\n",
              "      <td>66252.400000</td>\n",
              "      <td>65347.900000</td>\n",
              "      <td>49695.600000</td>\n",
              "      <td>9352.640000</td>\n",
              "      <td>538862.000000</td>\n",
              "      <td>137369.000000</td>\n",
              "      <td>766591.000000</td>\n",
              "      <td>427084.000000</td>\n",
              "      <td>...</td>\n",
              "      <td>409939.000000</td>\n",
              "      <td>27670.500000</td>\n",
              "      <td>1.385550e+07</td>\n",
              "      <td>712856.000000</td>\n",
              "      <td>3.984710e+06</td>\n",
              "      <td>251526.000000</td>\n",
              "      <td>264224.000000</td>\n",
              "      <td>948416.000000</td>\n",
              "      <td>107220.000000</td>\n",
              "      <td>70020.80000</td>\n",
              "    </tr>\n",
              "  </tbody>\n",
              "</table>\n",
              "<p>8 rows × 1195 columns</p>\n",
              "</div>"
            ],
            "text/plain": [
              "             O00391        O00533        O00584        O14498        O14773  \\\n",
              "count    764.000000  1.112000e+03   1100.000000   1032.000000   1047.000000   \n",
              "mean   11641.264435  5.111649e+05  26505.529157  27305.934884  17688.295406   \n",
              "std     2817.003530  2.357357e+05  10705.152540   8446.187506   7166.325369   \n",
              "min      873.778000  5.971820e+04    591.103000   8945.340000   2811.120000   \n",
              "25%     9736.857500  3.490590e+05  19941.075000  21123.650000  12920.050000   \n",
              "50%    11546.400000  4.834425e+05  26529.700000  26624.000000  17399.600000   \n",
              "75%    13383.025000  6.485572e+05  33222.800000  32459.275000  22077.050000   \n",
              "max    21361.800000  1.806980e+06  66252.400000  65347.900000  49695.600000   \n",
              "\n",
              "            O14791         O15240         O15394         O43505  \\\n",
              "count   942.000000    1113.000000    1050.000000    1110.000000   \n",
              "mean   3004.990691  126151.780054   50773.474638  195599.363694   \n",
              "std    1142.159575   72748.393517   21382.028764   79739.704279   \n",
              "min     336.517000   10717.400000    5806.840000   29740.900000   \n",
              "25%    2189.087500   70560.600000   37008.975000  142054.500000   \n",
              "50%    2865.460000  116900.000000   50375.800000  185616.000000   \n",
              "75%    3593.147500  164947.000000   63446.700000  239731.500000   \n",
              "max    9352.640000  538862.000000  137369.000000  766591.000000   \n",
              "\n",
              "              O60888  ...   YSLTYIYTGLSK       YTTEIIK  YVGGQEHFAHLLILR  \\\n",
              "count    1079.000000  ...    1100.000000    994.000000     1.022000e+03   \n",
              "mean   145382.047368  ...  215246.833636   9015.134433     3.937256e+06   \n",
              "std     58028.089713  ...   50727.227704   3127.061637     1.677710e+06   \n",
              "min      8358.080000  ...   12164.300000    258.249000     1.624640e+05   \n",
              "25%    103983.000000  ...  186658.250000   6899.805000     2.895622e+06   \n",
              "50%    136452.000000  ...  217430.500000   8604.345000     3.671010e+06   \n",
              "75%    177451.000000  ...  246423.500000  10612.775000     4.710635e+06   \n",
              "max    427084.000000  ...  409939.000000  27670.500000     1.385550e+07   \n",
              "\n",
              "       YVM(UniMod_35)LPVADQDQC(UniMod_4)IR  YVMLPVADQDQC(UniMod_4)IR  \\\n",
              "count                           977.000000              1.091000e+03   \n",
              "mean                          67866.452927              6.110779e+05   \n",
              "std                           61176.002825              5.047422e+05   \n",
              "min                             884.260000              7.494660e+03   \n",
              "25%                           30997.900000              2.929505e+05   \n",
              "50%                           52576.900000              4.702450e+05   \n",
              "75%                           85369.600000              7.592380e+05   \n",
              "max                          712856.000000              3.984710e+06   \n",
              "\n",
              "       YVNKEIQNAVNGVK     YWGVASFLQK  YYC(UniMod_4)FQGNQFLR      YYTYLIMNK  \\\n",
              "count     1111.000000    1089.000000            1105.000000    1030.000000   \n",
              "mean     92581.223041  125937.993436          471554.596652   47068.709311   \n",
              "std      30138.957433   38696.448657          131150.715245   13689.667117   \n",
              "min        869.898000     991.452000           11371.200000    6362.490000   \n",
              "25%      70508.150000  100691.000000          384902.000000   37752.375000   \n",
              "50%      88918.600000  123588.000000          463382.000000   45503.150000   \n",
              "75%     110140.000000  149597.000000          549455.000000   54748.350000   \n",
              "max     251526.000000  264224.000000          948416.000000  107220.000000   \n",
              "\n",
              "       YYWGGQYTWDMAK  \n",
              "count      865.00000  \n",
              "mean     21072.04823  \n",
              "std      10360.59380  \n",
              "min        868.90300  \n",
              "25%      14249.90000  \n",
              "50%      20390.90000  \n",
              "75%      27031.90000  \n",
              "max      70020.80000  \n",
              "\n",
              "[8 rows x 1195 columns]"
            ]
          },
          "execution_count": 16,
          "metadata": {},
          "output_type": "execute_result"
        }
      ],
      "source": [
        "pro_pep_df.describe()"
      ]
    },
    {
      "cell_type": "markdown",
      "id": "23376db3",
      "metadata": {
        "papermill": {
          "duration": 0.01771,
          "end_time": "2023-05-03T13:04:58.306368",
          "exception": false,
          "start_time": "2023-05-03T13:04:58.288658",
          "status": "completed"
        },
        "tags": [],
        "id": "23376db3"
      },
      "source": [
        "Now let us write a function to split the dataset into train and test datasets. This will be used in the training loop."
      ]
    },
    {
      "cell_type": "code",
      "execution_count": null,
      "id": "5b978d10",
      "metadata": {
        "execution": {
          "iopub.execute_input": "2023-05-03T13:04:58.346143Z",
          "iopub.status.busy": "2023-05-03T13:04:58.345748Z",
          "iopub.status.idle": "2023-05-03T13:04:58.351493Z",
          "shell.execute_reply": "2023-05-03T13:04:58.350326Z"
        },
        "papermill": {
          "duration": 0.028593,
          "end_time": "2023-05-03T13:04:58.353673",
          "exception": false,
          "start_time": "2023-05-03T13:04:58.325080",
          "status": "completed"
        },
        "tags": [],
        "id": "5b978d10"
      },
      "outputs": [],
      "source": [
        "def split_dataset(dataset, test_ratio=0.20):\n",
        "  test_indices = np.random.rand(len(dataset)) < test_ratio\n",
        "  return dataset[~test_indices], dataset[test_indices]"
      ]
    },
    {
      "cell_type": "markdown",
      "id": "04d07c72",
      "metadata": {
        "papermill": {
          "duration": 0.018293,
          "end_time": "2023-05-03T13:04:58.390244",
          "exception": false,
          "start_time": "2023-05-03T13:04:58.371951",
          "status": "completed"
        },
        "tags": [],
        "id": "04d07c72"
      },
      "source": [
        "# Select a Model\n",
        "There are several tree-based models for you to choose from.\n",
        "\n",
        "- RandomForestModel\n",
        "- GradientBoostedTreesModel\n",
        "- CartModel\n",
        "- DistributedGradientBoostedTreesModel\n",
        "\n",
        "We can list all the available models in TensorFlow Decision Forests using the following code:"
      ]
    },
    {
      "cell_type": "code",
      "execution_count": null,
      "id": "62c4ce61",
      "metadata": {
        "execution": {
          "iopub.execute_input": "2023-05-03T13:04:58.429498Z",
          "iopub.status.busy": "2023-05-03T13:04:58.429111Z",
          "iopub.status.idle": "2023-05-03T13:04:58.436666Z",
          "shell.execute_reply": "2023-05-03T13:04:58.435343Z"
        },
        "papermill": {
          "duration": 0.029808,
          "end_time": "2023-05-03T13:04:58.438734",
          "exception": false,
          "start_time": "2023-05-03T13:04:58.408926",
          "status": "completed"
        },
        "tags": [],
        "id": "62c4ce61",
        "outputId": "86ed2662-4263-4360-beb8-a3261abe316c"
      },
      "outputs": [
        {
          "data": {
            "text/plain": [
              "[tensorflow_decision_forests.keras.RandomForestModel,\n",
              " tensorflow_decision_forests.keras.GradientBoostedTreesModel,\n",
              " tensorflow_decision_forests.keras.CartModel,\n",
              " tensorflow_decision_forests.keras.DistributedGradientBoostedTreesModel]"
            ]
          },
          "execution_count": 18,
          "metadata": {},
          "output_type": "execute_result"
        }
      ],
      "source": [
        "tfdf.keras.get_all_models()"
      ]
    },
    {
      "cell_type": "markdown",
      "id": "153edb12",
      "metadata": {
        "papermill": {
          "duration": 0.018666,
          "end_time": "2023-05-03T13:04:58.475608",
          "exception": false,
          "start_time": "2023-05-03T13:04:58.456942",
          "status": "completed"
        },
        "tags": [],
        "id": "153edb12"
      },
      "source": [
        "To get started, we'll work with a Random Forest. This is the most well-known of the Decision Forest training algorithms.\n",
        "\n",
        "A Random Forest is a collection of decision trees, each trained independently on a random subset of the training dataset (sampled with replacement). The algorithm is unique in that it is robust to overfitting, and easy to use."
      ]
    },
    {
      "cell_type": "markdown",
      "id": "d25c305d",
      "metadata": {
        "papermill": {
          "duration": 0.018307,
          "end_time": "2023-05-03T13:04:58.513006",
          "exception": false,
          "start_time": "2023-05-03T13:04:58.494699",
          "status": "completed"
        },
        "tags": [],
        "id": "d25c305d"
      },
      "source": [
        "# How can I configure a tree-based model?\n",
        "\n",
        "TensorFlow Decision Forests provides good defaults for you (e.g., the top ranking hyperparameters on our benchmarks, slightly modified to run in reasonable time). If you would like to configure the learning algorithm, you will find many options you can explore to get the highest possible accuracy.\n",
        "\n",
        "You can select a template and/or set parameters as follows:\n",
        "\n",
        "```rf = tfdf.keras.RandomForestModel(hyperparameter_template=\"benchmark_rank1\", task=tfdf.keras.Task.REGRESSION)```\n",
        "\n",
        "Read more [here](https://www.tensorflow.org/decision_forests/api_docs/python/tfdf/keras/RandomForestModel)."
      ]
    },
    {
      "cell_type": "markdown",
      "id": "4ae9a916",
      "metadata": {
        "papermill": {
          "duration": 0.0183,
          "end_time": "2023-05-03T13:04:58.549775",
          "exception": false,
          "start_time": "2023-05-03T13:04:58.531475",
          "status": "completed"
        },
        "tags": [],
        "id": "4ae9a916"
      },
      "source": [
        "Before training the model, let us write a function to calculate the scoring metric of the competition."
      ]
    },
    {
      "cell_type": "markdown",
      "id": "bd7353c8",
      "metadata": {
        "papermill": {
          "duration": 0.018196,
          "end_time": "2023-05-03T13:04:58.586417",
          "exception": false,
          "start_time": "2023-05-03T13:04:58.568221",
          "status": "completed"
        },
        "tags": [],
        "id": "bd7353c8"
      },
      "source": [
        "# sMAPE\n",
        "\n",
        "The scoring metric for this competition is sMAPE(symmetric Mean Absolute Percentage Error). In MAPE(Mean Absolute Percentage Error) we calculate the sum of absolute value of the forecast errors, divided by the actual values for each period([source](https://en.wikipedia.org/wiki/Mean_absolute_percentage_error)).\n",
        "\n",
        "Difference between MAPE and sMAPE is that sMAPE has both a lower bound and an upper bound.\n",
        "\n",
        "\n",
        "You can read more about sMAPE [here](https://en.wikipedia.org/wiki/Symmetric_mean_absolute_percentage_error).\n",
        "\n",
        "Since TensorFlow Datasets doesn't have a bultin function to calculate sMAPE metric yet, we will write a custom function to calculate sMAPE."
      ]
    },
    {
      "cell_type": "code",
      "execution_count": null,
      "id": "0f9d4cd9",
      "metadata": {
        "execution": {
          "iopub.execute_input": "2023-05-03T13:04:58.626356Z",
          "iopub.status.busy": "2023-05-03T13:04:58.625662Z",
          "iopub.status.idle": "2023-05-03T13:04:58.630867Z",
          "shell.execute_reply": "2023-05-03T13:04:58.629723Z"
        },
        "papermill": {
          "duration": 0.027602,
          "end_time": "2023-05-03T13:04:58.633182",
          "exception": false,
          "start_time": "2023-05-03T13:04:58.605580",
          "status": "completed"
        },
        "tags": [],
        "id": "0f9d4cd9"
      },
      "outputs": [],
      "source": [
        "def smape(A, F):\n",
        "    return 100/len(A) * np.sum(2 * np.abs(F - A) / (np.abs(A) + np.abs(F)))"
      ]
    },
    {
      "cell_type": "markdown",
      "id": "6398b627",
      "metadata": {
        "papermill": {
          "duration": 0.018059,
          "end_time": "2023-05-03T13:04:58.670733",
          "exception": false,
          "start_time": "2023-05-03T13:04:58.652674",
          "status": "completed"
        },
        "tags": [],
        "id": "6398b627"
      },
      "source": [
        "# Training\n",
        "\n",
        "We will train a model each to predict the first 4 segments of the UPDRS, `updrs_1`, `updrs_2`, `updrs_3` and `updrs_4`. Thus we we will be training 4 models, one for each label.\n",
        "\n",
        "We need to provide a few data structures to our training loop to store the trained models, sMAPE scores and mse scores for the trained models.\n",
        "\n",
        "We will create these using the following code:"
      ]
    },
    {
      "cell_type": "code",
      "execution_count": null,
      "id": "cb4adc54",
      "metadata": {
        "execution": {
          "iopub.execute_input": "2023-05-03T13:04:58.709870Z",
          "iopub.status.busy": "2023-05-03T13:04:58.709135Z",
          "iopub.status.idle": "2023-05-03T13:04:58.713559Z",
          "shell.execute_reply": "2023-05-03T13:04:58.712699Z"
        },
        "papermill": {
          "duration": 0.026577,
          "end_time": "2023-05-03T13:04:58.715800",
          "exception": false,
          "start_time": "2023-05-03T13:04:58.689223",
          "status": "completed"
        },
        "tags": [],
        "id": "cb4adc54"
      },
      "outputs": [],
      "source": [
        "# Create an empty dictionary to store the models trained for each label.\n",
        "model_dict = {}\n",
        "\n",
        "# Create an empty dictionary to store the mse score of the models trained for each label.\n",
        "mse_dict = {}\n",
        "\n",
        "# Create an empty dictionary to store the sMAPE scores of the models trained for each label.\n",
        "smape_dict = {}"
      ]
    },
    {
      "cell_type": "markdown",
      "id": "c5c3ceb9",
      "metadata": {
        "papermill": {
          "duration": 0.018281,
          "end_time": "2023-05-03T13:04:58.752700",
          "exception": false,
          "start_time": "2023-05-03T13:04:58.734419",
          "status": "completed"
        },
        "tags": [],
        "id": "c5c3ceb9"
      },
      "source": [
        "Next, we will create a feature list with names of the columns we will use for training the model. We will avoid the column `visit_id` and add column the `visit_month`"
      ]
    },
    {
      "cell_type": "code",
      "execution_count": null,
      "id": "7168e95c",
      "metadata": {
        "execution": {
          "iopub.execute_input": "2023-05-03T13:04:58.796327Z",
          "iopub.status.busy": "2023-05-03T13:04:58.795630Z",
          "iopub.status.idle": "2023-05-03T13:04:58.800559Z",
          "shell.execute_reply": "2023-05-03T13:04:58.799734Z"
        },
        "papermill": {
          "duration": 0.027046,
          "end_time": "2023-05-03T13:04:58.802744",
          "exception": false,
          "start_time": "2023-05-03T13:04:58.775698",
          "status": "completed"
        },
        "tags": [],
        "id": "7168e95c"
      },
      "outputs": [],
      "source": [
        "FEATURES = [i for i in pro_pep_df.columns if i not in [\"visit_id\"]]\n",
        "FEATURES.append(\"visit_month\")"
      ]
    },
    {
      "cell_type": "markdown",
      "id": "5b9d6572",
      "metadata": {
        "papermill": {
          "duration": 0.019313,
          "end_time": "2023-05-03T13:04:58.840861",
          "exception": false,
          "start_time": "2023-05-03T13:04:58.821548",
          "status": "completed"
        },
        "tags": [],
        "id": "5b9d6572"
      },
      "source": [
        "Now let us train the models."
      ]
    },
    {
      "cell_type": "code",
      "execution_count": null,
      "id": "ecb7b1e7",
      "metadata": {
        "execution": {
          "iopub.execute_input": "2023-05-03T13:04:58.881229Z",
          "iopub.status.busy": "2023-05-03T13:04:58.880540Z",
          "iopub.status.idle": "2023-05-03T13:09:11.047240Z",
          "shell.execute_reply": "2023-05-03T13:09:11.046174Z"
        },
        "papermill": {
          "duration": 252.189724,
          "end_time": "2023-05-03T13:09:11.049600",
          "exception": false,
          "start_time": "2023-05-03T13:04:58.859876",
          "status": "completed"
        },
        "tags": [],
        "id": "ecb7b1e7",
        "outputId": "312a60aa-0a8c-4bdd-e4df-95c829b10c8c"
      },
      "outputs": [
        {
          "name": "stdout",
          "output_type": "stream",
          "text": [
            "863 examples in training, 205 examples in testing.\n"
          ]
        },
        {
          "name": "stderr",
          "output_type": "stream",
          "text": [
            "[INFO 2023-05-03T13:05:52.235200981+00:00 kernel.cc:1214] Loading model from path /tmp/tmpqxgk6oc2/model/ with prefix 205ee6d62462492a\n",
            "[INFO 2023-05-03T13:05:52.554409067+00:00 decision_forest.cc:661] Model loaded with 300 root(s), 70426 node(s), and 1196 input feature(s).\n",
            "[INFO 2023-05-03T13:05:52.554656514+00:00 abstract_model.cc:1311] Engine \"RandomForestOptPred\" built\n",
            "[INFO 2023-05-03T13:05:52.555625655+00:00 kernel.cc:1046] Use fast generic engine\n"
          ]
        },
        {
          "name": "stdout",
          "output_type": "stream",
          "text": [
            "WARNING: AutoGraph could not transform <function simple_ml_inference_op_with_handle at 0x7ad3e0514550> and will run it as-is.\n",
            "Please report this to the TensorFlow team. When filing the bug, set the verbosity to 10 (on Linux, `export AUTOGRAPH_VERBOSITY=10`) and attach the full output.\n",
            "Cause: could not get source code\n",
            "To silence this warning, decorate the function with @tf.autograph.experimental.do_not_convert\n",
            "1/1 [==============================] - 5s 5s/step - loss: 0.0000e+00 - mse: 25.7711\n",
            "1/1 [==============================] - 2s 2s/step\n",
            "856 examples in training, 212 examples in testing.\n"
          ]
        },
        {
          "name": "stderr",
          "output_type": "stream",
          "text": [
            "[INFO 2023-05-03T13:06:55.101626954+00:00 kernel.cc:1214] Loading model from path /tmp/tmp_yxq2axg/model/ with prefix db49747973334101\n",
            "[INFO 2023-05-03T13:06:55.400348793+00:00 decision_forest.cc:661] Model loaded with 300 root(s), 66450 node(s), and 1196 input feature(s).\n",
            "[INFO 2023-05-03T13:06:55.400765084+00:00 abstract_model.cc:1311] Engine \"RandomForestOptPred\" built\n",
            "[INFO 2023-05-03T13:06:55.401690727+00:00 kernel.cc:1046] Use fast generic engine\n"
          ]
        },
        {
          "name": "stdout",
          "output_type": "stream",
          "text": [
            "1/1 [==============================] - 4s 4s/step - loss: 0.0000e+00 - mse: 29.0788\n",
            "1/1 [==============================] - 2s 2s/step\n",
            "845 examples in training, 213 examples in testing.\n"
          ]
        },
        {
          "name": "stderr",
          "output_type": "stream",
          "text": [
            "[INFO 2023-05-03T13:07:59.561630773+00:00 kernel.cc:1214] Loading model from path /tmp/tmpgo1agwr7/model/ with prefix a086bd95fedf4552\n",
            "[INFO 2023-05-03T13:07:59.885800524+00:00 decision_forest.cc:661] Model loaded with 300 root(s), 73462 node(s), and 1196 input feature(s).\n",
            "[INFO 2023-05-03T13:07:59.886127925+00:00 abstract_model.cc:1311] Engine \"RandomForestOptPred\" built\n",
            "[INFO 2023-05-03T13:07:59.887008526+00:00 kernel.cc:1046] Use fast generic engine\n"
          ]
        },
        {
          "name": "stdout",
          "output_type": "stream",
          "text": [
            "1/1 [==============================] - 4s 4s/step - loss: 0.0000e+00 - mse: 175.8958\n",
            "1/1 [==============================] - 2s 2s/step\n",
            "471 examples in training, 98 examples in testing.\n"
          ]
        },
        {
          "name": "stderr",
          "output_type": "stream",
          "text": [
            "[INFO 2023-05-03T13:08:55.583857648+00:00 kernel.cc:1214] Loading model from path /tmp/tmp0fu8zzjv/model/ with prefix 82660a8c2f7244f2\n",
            "[INFO 2023-05-03T13:08:55.699838739+00:00 decision_forest.cc:661] Model loaded with 300 root(s), 25458 node(s), and 1193 input feature(s).\n",
            "[INFO 2023-05-03T13:08:55.700034229+00:00 abstract_model.cc:1311] Engine \"RandomForestOptPred\" built\n",
            "[INFO 2023-05-03T13:08:55.700941357+00:00 kernel.cc:1046] Use fast generic engine\n"
          ]
        },
        {
          "name": "stdout",
          "output_type": "stream",
          "text": [
            "1/1 [==============================] - 4s 4s/step - loss: 0.0000e+00 - mse: 9.4679\n",
            "1/1 [==============================] - 2s 2s/step\n"
          ]
        }
      ],
      "source": [
        "# List of target labels to loop through and train models\n",
        "target = [\"updrs_1\", \"updrs_2\", \"updrs_3\", \"updrs_4\"]\n",
        "\n",
        "# Loop through each label\n",
        "for label in target:\n",
        "\n",
        "    # Merge the label 'visit_id', 'patient_id', 'visit_month' and label columns from `train_clinical`\n",
        "    # data frame to `pro_prep_df` data frame on the `visit_id` column.\n",
        "    dataset_df = pro_pep_df.merge(train_clinical[['visit_id', 'patient_id', 'visit_month', label]], on = ['visit_id'], how = 'left')\n",
        "\n",
        "    # Drop null value label rows\n",
        "    dataset_df = dataset_df.dropna(subset=[label])\n",
        "\n",
        "    # Make a new copy of the FEATURES list we created previously. Add `label` to it.\n",
        "    feature_list = FEATURES.copy()\n",
        "    feature_list.append(label)\n",
        "\n",
        "    # Split the dataset into train and validation datasets.\n",
        "    train_df, valid_df = split_dataset(dataset_df[feature_list])\n",
        "    print(\"{} examples in training, {} examples in testing.\".format(len(train_df), len(valid_df)))\n",
        "\n",
        "    # There's one more step required before we can train the model.\n",
        "    # We need to convert the datatset from Pandas format (pd.DataFrame)\n",
        "    # into TensorFlow Datasets format (tf.data.Dataset).\n",
        "    # TensorFlow Datasets is a high performance data loading library\n",
        "    # which is helpful when training neural networks with accelerators like GPUs and TPUs.\n",
        "    train_ds = tfdf.keras.pd_dataframe_to_tf_dataset(train_df, label=label, task = tfdf.keras.Task.REGRESSION)\n",
        "    valid_ds = tfdf.keras.pd_dataframe_to_tf_dataset(valid_df, label=label, task = tfdf.keras.Task.REGRESSION)\n",
        "\n",
        "    # We will now create the Random Forest Tree Model with default settings.\n",
        "    # By default the model is set to train for a classification task. Since this is a regression problem,\n",
        "    # we will specify the type of the task (tfdf.keras.Task.REGRESSION) as a parameter here.\n",
        "    rf = tfdf.keras.RandomForestModel(task = tfdf.keras.Task.REGRESSION, verbose=0)\n",
        "    rf.compile(metrics=[\"mse\"])\n",
        "\n",
        "    # Train the model.\n",
        "    rf.fit(x=train_ds)\n",
        "\n",
        "    # Store the model\n",
        "    model_dict[label] = rf\n",
        "\n",
        "    # Evaluate the trained model on the validation dataset and store the\n",
        "    # mse value in the `mse_dict`.\n",
        "    inspector = rf.make_inspector()\n",
        "    inspector.evaluation()\n",
        "    evaluation = rf.evaluate(x=valid_ds,return_dict=True)\n",
        "    mse_dict[label] = evaluation[\"mse\"]\n",
        "\n",
        "    # Use the trained model to make predictions on the validation dataset.\n",
        "    # Using these predictions, calculate and store the sMAPE value for this model.\n",
        "    preds = rf.predict(valid_ds)\n",
        "    smape_dict[label] = smape(valid_df[label].values.tolist(), preds.flatten())"
      ]
    },
    {
      "cell_type": "markdown",
      "id": "665ad9f7",
      "metadata": {
        "papermill": {
          "duration": 0.019935,
          "end_time": "2023-05-03T13:09:11.090196",
          "exception": false,
          "start_time": "2023-05-03T13:09:11.070261",
          "status": "completed"
        },
        "tags": [],
        "id": "665ad9f7"
      },
      "source": [
        "# Inspect the Mean Squared Error(MSE) scores of the models."
      ]
    },
    {
      "cell_type": "code",
      "execution_count": null,
      "id": "1d006662",
      "metadata": {
        "execution": {
          "iopub.execute_input": "2023-05-03T13:09:11.132622Z",
          "iopub.status.busy": "2023-05-03T13:09:11.132168Z",
          "iopub.status.idle": "2023-05-03T13:09:11.138989Z",
          "shell.execute_reply": "2023-05-03T13:09:11.137785Z"
        },
        "papermill": {
          "duration": 0.031427,
          "end_time": "2023-05-03T13:09:11.141642",
          "exception": false,
          "start_time": "2023-05-03T13:09:11.110215",
          "status": "completed"
        },
        "tags": [],
        "id": "1d006662",
        "outputId": "1f21a147-6da0-4891-d2d1-3a1fcbe5dad1"
      },
      "outputs": [
        {
          "name": "stdout",
          "output_type": "stream",
          "text": [
            "label updrs_1: mse 25.7711\n",
            "label updrs_2: mse 29.0788\n",
            "label updrs_3: mse 175.8958\n",
            "label updrs_4: mse 9.4679\n",
            "\n",
            "Average mse 60.05340576171875\n"
          ]
        }
      ],
      "source": [
        "for name, value in mse_dict.items():\n",
        "  print(f\"label {name}: mse {value:.4f}\")\n",
        "\n",
        "print(\"\\nAverage mse\", sum(mse_dict.values())/4)"
      ]
    },
    {
      "cell_type": "markdown",
      "id": "f35a1243",
      "metadata": {
        "papermill": {
          "duration": 0.019916,
          "end_time": "2023-05-03T13:09:11.181826",
          "exception": false,
          "start_time": "2023-05-03T13:09:11.161910",
          "status": "completed"
        },
        "tags": [],
        "id": "f35a1243"
      },
      "source": [
        "# Inspect the sMAPE scores of the models"
      ]
    },
    {
      "cell_type": "code",
      "execution_count": null,
      "id": "70032ede",
      "metadata": {
        "execution": {
          "iopub.execute_input": "2023-05-03T13:09:11.224319Z",
          "iopub.status.busy": "2023-05-03T13:09:11.223306Z",
          "iopub.status.idle": "2023-05-03T13:09:11.230004Z",
          "shell.execute_reply": "2023-05-03T13:09:11.228407Z"
        },
        "papermill": {
          "duration": 0.030648,
          "end_time": "2023-05-03T13:09:11.232595",
          "exception": false,
          "start_time": "2023-05-03T13:09:11.201947",
          "status": "completed"
        },
        "tags": [],
        "id": "70032ede",
        "outputId": "3f588a29-e5bf-4f58-d217-10c61371a0e4"
      },
      "outputs": [
        {
          "name": "stdout",
          "output_type": "stream",
          "text": [
            "label updrs_1: sMAPE 61.4490\n",
            "label updrs_2: sMAPE 95.1665\n",
            "label updrs_3: sMAPE 83.4445\n",
            "label updrs_4: sMAPE 154.8876\n",
            "\n",
            "Average sMAPE 98.73688203627106\n"
          ]
        }
      ],
      "source": [
        "for name, value in smape_dict.items():\n",
        "  print(f\"label {name}: sMAPE {value:.4f}\")\n",
        "\n",
        "print(\"\\nAverage sMAPE\", sum(smape_dict.values())/4)"
      ]
    },
    {
      "cell_type": "markdown",
      "id": "f083afb2",
      "metadata": {
        "papermill": {
          "duration": 0.020377,
          "end_time": "2023-05-03T13:09:11.273766",
          "exception": false,
          "start_time": "2023-05-03T13:09:11.253389",
          "status": "completed"
        },
        "tags": [],
        "id": "f083afb2"
      },
      "source": [
        "# Visualize the model\n",
        "\n",
        "One benefit of tree-based models is that we can easily visualize them. The default number of trees used in the Random Forests is 300.\n",
        "\n",
        "Let us pick one model from `model_dict` and select a tree to display below."
      ]
    },
    {
      "cell_type": "code",
      "execution_count": null,
      "id": "cbe4fde0",
      "metadata": {
        "execution": {
          "iopub.execute_input": "2023-05-03T13:09:11.320049Z",
          "iopub.status.busy": "2023-05-03T13:09:11.319641Z",
          "iopub.status.idle": "2023-05-03T13:09:11.343921Z",
          "shell.execute_reply": "2023-05-03T13:09:11.342698Z"
        },
        "papermill": {
          "duration": 0.05101,
          "end_time": "2023-05-03T13:09:11.346435",
          "exception": false,
          "start_time": "2023-05-03T13:09:11.295425",
          "status": "completed"
        },
        "tags": [],
        "id": "cbe4fde0",
        "outputId": "5ad8184d-d176-4ed8-da69-36ae3d228029"
      },
      "outputs": [
        {
          "data": {
            "text/html": [
              "\n",
              "<script src=\"https://d3js.org/d3.v6.min.js\"></script>\n",
              "<div id=\"tree_plot_48937f57e9dc41c39676bbe10b657632\"></div>\n",
              "<script>\n",
              "/*\n",
              " * Copyright 2021 Google LLC.\n",
              " * Licensed under the Apache License, Version 2.0 (the \"License\");\n",
              " * you may not use this file except in compliance with the License.\n",
              " * You may obtain a copy of the License at\n",
              " *\n",
              " *     https://www.apache.org/licenses/LICENSE-2.0\n",
              " *\n",
              " * Unless required by applicable law or agreed to in writing, software\n",
              " * distributed under the License is distributed on an \"AS IS\" BASIS,\n",
              " * WITHOUT WARRANTIES OR CONDITIONS OF ANY KIND, either express or implied.\n",
              " * See the License for the specific language governing permissions and\n",
              " * limitations under the License.\n",
              " */\n",
              "\n",
              "/**\n",
              " *  Plotting of decision trees generated by TF-DF.\n",
              " *\n",
              " *  A tree is a recursive structure of node objects.\n",
              " *  A node contains one or more of the following components:\n",
              " *\n",
              " *    - A value: Representing the output of the node. If the node is not a leaf,\n",
              " *      the value is only present for analysis i.e. it is not used for\n",
              " *      predictions.\n",
              " *\n",
              " *    - A condition : For non-leaf nodes, the condition (also known as split)\n",
              " *      defines a binary test to branch to the positive or negative child.\n",
              " *\n",
              " *    - An explanation: Generally a plot showing the relation between the label\n",
              " *      and the condition to give insights about the effect of the condition.\n",
              " *\n",
              " *    - Two children : For non-leaf nodes, the children nodes. The first\n",
              " *      children (i.e. \"node.children[0]\") is the negative children (drawn in\n",
              " *      red). The second children is the positive one (drawn in green).\n",
              " *\n",
              " */\n",
              "\n",
              "/**\n",
              " * Plots a single decision tree into a DOM element.\n",
              " * @param {!options} options Dictionary of configurations.\n",
              " * @param {!tree} raw_tree Recursive tree structure.\n",
              " * @param {string} canvas_id Id of the output dom element.\n",
              " */\n",
              "function display_tree(options, raw_tree, canvas_id) {\n",
              "  console.log(options);\n",
              "\n",
              "  // Determine the node placement.\n",
              "  const tree_struct = d3.tree().nodeSize(\n",
              "      [options.node_y_offset, options.node_x_offset])(d3.hierarchy(raw_tree));\n",
              "\n",
              "  // Boundaries of the node placement.\n",
              "  let x_min = Infinity;\n",
              "  let x_max = -x_min;\n",
              "  let y_min = Infinity;\n",
              "  let y_max = -x_min;\n",
              "\n",
              "  tree_struct.each(d => {\n",
              "    if (d.x > x_max) x_max = d.x;\n",
              "    if (d.x < x_min) x_min = d.x;\n",
              "    if (d.y > y_max) y_max = d.y;\n",
              "    if (d.y < y_min) y_min = d.y;\n",
              "  });\n",
              "\n",
              "  // Size of the plot.\n",
              "  const width = y_max - y_min + options.node_x_size + options.margin * 2;\n",
              "  const height = x_max - x_min + options.node_y_size + options.margin * 2 +\n",
              "      options.node_y_offset - options.node_y_size;\n",
              "\n",
              "  const plot = d3.select(canvas_id);\n",
              "\n",
              "  // Tool tip\n",
              "  options.tooltip = plot.append('div')\n",
              "                        .attr('width', 100)\n",
              "                        .attr('height', 100)\n",
              "                        .style('padding', '4px')\n",
              "                        .style('background', '#fff')\n",
              "                        .style('box-shadow', '4px 4px 0px rgba(0,0,0,0.1)')\n",
              "                        .style('border', '1px solid black')\n",
              "                        .style('font-family', 'sans-serif')\n",
              "                        .style('font-size', options.font_size)\n",
              "                        .style('position', 'absolute')\n",
              "                        .style('z-index', '10')\n",
              "                        .attr('pointer-events', 'none')\n",
              "                        .style('display', 'none');\n",
              "\n",
              "  // Create canvas\n",
              "  const svg = plot.append('svg').attr('width', width).attr('height', height);\n",
              "  const graph =\n",
              "      svg.style('overflow', 'visible')\n",
              "          .append('g')\n",
              "          .attr('font-family', 'sans-serif')\n",
              "          .attr('font-size', options.font_size)\n",
              "          .attr(\n",
              "              'transform',\n",
              "              () => `translate(${options.margin},${\n",
              "                  - x_min + options.node_y_offset / 2 + options.margin})`);\n",
              "\n",
              "  // Plot bounding box.\n",
              "  if (options.show_plot_bounding_box) {\n",
              "    svg.append('rect')\n",
              "        .attr('width', width)\n",
              "        .attr('height', height)\n",
              "        .attr('fill', 'none')\n",
              "        .attr('stroke-width', 1.0)\n",
              "        .attr('stroke', 'black');\n",
              "  }\n",
              "\n",
              "  // Draw the edges.\n",
              "  display_edges(options, graph, tree_struct);\n",
              "\n",
              "  // Draw the nodes.\n",
              "  display_nodes(options, graph, tree_struct);\n",
              "}\n",
              "\n",
              "/**\n",
              " * Draw the nodes of the tree.\n",
              " * @param {!options} options Dictionary of configurations.\n",
              " * @param {!graph} graph D3 search handle containing the graph.\n",
              " * @param {!tree_struct} tree_struct Structure of the tree (node placement,\n",
              " *     data, etc.).\n",
              " */\n",
              "function display_nodes(options, graph, tree_struct) {\n",
              "  const nodes = graph.append('g')\n",
              "                    .selectAll('g')\n",
              "                    .data(tree_struct.descendants())\n",
              "                    .join('g')\n",
              "                    .attr('transform', d => `translate(${d.y},${d.x})`);\n",
              "\n",
              "  nodes.append('rect')\n",
              "      .attr('x', 0.5)\n",
              "      .attr('y', 0.5)\n",
              "      .attr('width', options.node_x_size)\n",
              "      .attr('height', options.node_y_size)\n",
              "      .attr('stroke', 'lightgrey')\n",
              "      .attr('stroke-width', 1)\n",
              "      .attr('fill', 'white')\n",
              "      .attr('y', -options.node_y_size / 2);\n",
              "\n",
              "  // Brackets on the right of condition nodes without children.\n",
              "  non_leaf_node_without_children =\n",
              "      nodes.filter(node => node.data.condition != null && node.children == null)\n",
              "          .append('g')\n",
              "          .attr('transform', `translate(${options.node_x_size},0)`);\n",
              "\n",
              "  non_leaf_node_without_children.append('path')\n",
              "      .attr('d', 'M0,0 C 10,0 0,10 10,10')\n",
              "      .attr('fill', 'none')\n",
              "      .attr('stroke-width', 1.0)\n",
              "      .attr('stroke', '#F00');\n",
              "\n",
              "  non_leaf_node_without_children.append('path')\n",
              "      .attr('d', 'M0,0 C 10,0 0,-10 10,-10')\n",
              "      .attr('fill', 'none')\n",
              "      .attr('stroke-width', 1.0)\n",
              "      .attr('stroke', '#0F0');\n",
              "\n",
              "  const node_content = nodes.append('g').attr(\n",
              "      'transform',\n",
              "      `translate(0,${options.node_padding - options.node_y_size / 2})`);\n",
              "\n",
              "  node_content.append(node => create_node_element(options, node));\n",
              "}\n",
              "\n",
              "/**\n",
              " * Creates the D3 content for a single node.\n",
              " * @param {!options} options Dictionary of configurations.\n",
              " * @param {!node} node Node to draw.\n",
              " * @return {!d3} D3 content.\n",
              " */\n",
              "function create_node_element(options, node) {\n",
              "  // Output accumulator.\n",
              "  let output = {\n",
              "    // Content to draw.\n",
              "    content: d3.create('svg:g'),\n",
              "    // Vertical offset to the next element to draw.\n",
              "    vertical_offset: 0\n",
              "  };\n",
              "\n",
              "  // Conditions.\n",
              "  if (node.data.condition != null) {\n",
              "    display_condition(options, node.data.condition, output);\n",
              "  }\n",
              "\n",
              "  // Values.\n",
              "  if (node.data.value != null) {\n",
              "    display_value(options, node.data.value, output);\n",
              "  }\n",
              "\n",
              "  // Explanations.\n",
              "  if (node.data.explanation != null) {\n",
              "    display_explanation(options, node.data.explanation, output);\n",
              "  }\n",
              "\n",
              "  return output.content.node();\n",
              "}\n",
              "\n",
              "\n",
              "/**\n",
              " * Adds a single line of text inside of a node.\n",
              " * @param {!options} options Dictionary of configurations.\n",
              " * @param {string} text Text to display.\n",
              " * @param {!output} output Output display accumulator.\n",
              " */\n",
              "function display_node_text(options, text, output) {\n",
              "  output.content.append('text')\n",
              "      .attr('x', options.node_padding)\n",
              "      .attr('y', output.vertical_offset)\n",
              "      .attr('alignment-baseline', 'hanging')\n",
              "      .text(text);\n",
              "  output.vertical_offset += 10;\n",
              "}\n",
              "\n",
              "/**\n",
              " * Adds a single line of text inside of a node with a tooltip.\n",
              " * @param {!options} options Dictionary of configurations.\n",
              " * @param {string} text Text to display.\n",
              " * @param {string} tooltip Text in the Tooltip.\n",
              " * @param {!output} output Output display accumulator.\n",
              " */\n",
              "function display_node_text_with_tooltip(options, text, tooltip, output) {\n",
              "  const item = output.content.append('text')\n",
              "                   .attr('x', options.node_padding)\n",
              "                   .attr('alignment-baseline', 'hanging')\n",
              "                   .text(text);\n",
              "\n",
              "  add_tooltip(options, item, () => tooltip);\n",
              "  output.vertical_offset += 10;\n",
              "}\n",
              "\n",
              "/**\n",
              " * Adds a tooltip to a dom element.\n",
              " * @param {!options} options Dictionary of configurations.\n",
              " * @param {!dom} target Dom element to equip with a tooltip.\n",
              " * @param {!func} get_content Generates the html content of the tooltip.\n",
              " */\n",
              "function add_tooltip(options, target, get_content) {\n",
              "  function show(d) {\n",
              "    options.tooltip.style('display', 'block');\n",
              "    options.tooltip.html(get_content());\n",
              "  }\n",
              "\n",
              "  function hide(d) {\n",
              "    options.tooltip.style('display', 'none');\n",
              "  }\n",
              "\n",
              "  function move(d) {\n",
              "    options.tooltip.style('display', 'block');\n",
              "    options.tooltip.style('left', (d.pageX + 5) + 'px');\n",
              "    options.tooltip.style('top', d.pageY + 'px');\n",
              "  }\n",
              "\n",
              "  target.on('mouseover', show);\n",
              "  target.on('mouseout', hide);\n",
              "  target.on('mousemove', move);\n",
              "}\n",
              "\n",
              "/**\n",
              " * Adds a condition inside of a node.\n",
              " * @param {!options} options Dictionary of configurations.\n",
              " * @param {!condition} condition Condition to display.\n",
              " * @param {!output} output Output display accumulator.\n",
              " */\n",
              "function display_condition(options, condition, output) {\n",
              "  threshold_format = d3.format('r');\n",
              "\n",
              "  if (condition.type === 'IS_MISSING') {\n",
              "    display_node_text(options, `${condition.attribute} is missing`, output);\n",
              "    return;\n",
              "  }\n",
              "\n",
              "  if (condition.type === 'IS_TRUE') {\n",
              "    display_node_text(options, `${condition.attribute} is true`, output);\n",
              "    return;\n",
              "  }\n",
              "\n",
              "  if (condition.type === 'NUMERICAL_IS_HIGHER_THAN') {\n",
              "    format = d3.format('r');\n",
              "    display_node_text(\n",
              "        options,\n",
              "        `${condition.attribute} >= ${threshold_format(condition.threshold)}`,\n",
              "        output);\n",
              "    return;\n",
              "  }\n",
              "\n",
              "  if (condition.type === 'CATEGORICAL_IS_IN') {\n",
              "    display_node_text_with_tooltip(\n",
              "        options, `${condition.attribute} in [...]`,\n",
              "        `${condition.attribute} in [${condition.mask}]`, output);\n",
              "    return;\n",
              "  }\n",
              "\n",
              "  if (condition.type === 'CATEGORICAL_SET_CONTAINS') {\n",
              "    display_node_text_with_tooltip(\n",
              "        options, `${condition.attribute} intersect [...]`,\n",
              "        `${condition.attribute} intersect [${condition.mask}]`, output);\n",
              "    return;\n",
              "  }\n",
              "\n",
              "  if (condition.type === 'NUMERICAL_SPARSE_OBLIQUE') {\n",
              "    display_node_text_with_tooltip(\n",
              "        options, `Sparse oblique split...`,\n",
              "        `[${condition.attributes}]*[${condition.weights}]>=${\n",
              "            threshold_format(condition.threshold)}`,\n",
              "        output);\n",
              "    return;\n",
              "  }\n",
              "\n",
              "  display_node_text(\n",
              "      options, `Non supported condition ${condition.type}`, output);\n",
              "}\n",
              "\n",
              "/**\n",
              " * Adds a value inside of a node.\n",
              " * @param {!options} options Dictionary of configurations.\n",
              " * @param {!value} value Value to display.\n",
              " * @param {!output} output Output display accumulator.\n",
              " */\n",
              "function display_value(options, value, output) {\n",
              "  if (value.type === 'PROBABILITY') {\n",
              "    const left_margin = 0;\n",
              "    const right_margin = 50;\n",
              "    const plot_width = options.node_x_size - options.node_padding * 2 -\n",
              "        left_margin - right_margin;\n",
              "\n",
              "    let cusum = Array.from(d3.cumsum(value.distribution));\n",
              "    cusum.unshift(0);\n",
              "    const distribution_plot = output.content.append('g').attr(\n",
              "        'transform', `translate(0,${output.vertical_offset + 0.5})`);\n",
              "\n",
              "    distribution_plot.selectAll('rect')\n",
              "        .data(value.distribution)\n",
              "        .join('rect')\n",
              "        .attr('height', 10)\n",
              "        .attr(\n",
              "            'x',\n",
              "            (d, i) =>\n",
              "                (cusum[i] * plot_width + left_margin + options.node_padding))\n",
              "        .attr('width', (d, i) => d * plot_width)\n",
              "        .style('fill', (d, i) => d3.schemeSet1[i]);\n",
              "\n",
              "    const num_examples =\n",
              "        output.content.append('g')\n",
              "            .attr('transform', `translate(0,${output.vertical_offset})`)\n",
              "            .append('text')\n",
              "            .attr('x', options.node_x_size - options.node_padding)\n",
              "            .attr('alignment-baseline', 'hanging')\n",
              "            .attr('text-anchor', 'end')\n",
              "            .text(`(${value.num_examples})`);\n",
              "\n",
              "    const distribution_details = d3.create('ul');\n",
              "    distribution_details.selectAll('li')\n",
              "        .data(value.distribution)\n",
              "        .join('li')\n",
              "        .append('span')\n",
              "        .text(\n",
              "            (d, i) =>\n",
              "                'class ' + i + ': ' + d3.format('.3%')(value.distribution[i]));\n",
              "\n",
              "    add_tooltip(options, distribution_plot, () => distribution_details.html());\n",
              "    add_tooltip(options, num_examples, () => 'Number of examples');\n",
              "\n",
              "    output.vertical_offset += 10;\n",
              "    return;\n",
              "  }\n",
              "\n",
              "  if (value.type === 'REGRESSION') {\n",
              "    display_node_text(\n",
              "        options,\n",
              "        'value: ' + d3.format('r')(value.value) + ` (` +\n",
              "            d3.format('.6')(value.num_examples) + `)`,\n",
              "        output);\n",
              "    return;\n",
              "  }\n",
              "\n",
              "  display_node_text(options, `Non supported value ${value.type}`, output);\n",
              "}\n",
              "\n",
              "/**\n",
              " * Adds an explanation inside of a node.\n",
              " * @param {!options} options Dictionary of configurations.\n",
              " * @param {!explanation} explanation Explanation to display.\n",
              " * @param {!output} output Output display accumulator.\n",
              " */\n",
              "function display_explanation(options, explanation, output) {\n",
              "  // Margin before the explanation.\n",
              "  output.vertical_offset += 10;\n",
              "\n",
              "  display_node_text(\n",
              "      options, `Non supported explanation ${explanation.type}`, output);\n",
              "}\n",
              "\n",
              "\n",
              "/**\n",
              " * Draw the edges of the tree.\n",
              " * @param {!options} options Dictionary of configurations.\n",
              " * @param {!graph} graph D3 search handle containing the graph.\n",
              " * @param {!tree_struct} tree_struct Structure of the tree (node placement,\n",
              " *     data, etc.).\n",
              " */\n",
              "function display_edges(options, graph, tree_struct) {\n",
              "  // Draw an edge between a parent and a child node with a bezier.\n",
              "  function draw_single_edge(d) {\n",
              "    return 'M' + (d.source.y + options.node_x_size) + ',' + d.source.x + ' C' +\n",
              "        (d.source.y + options.node_x_size + options.edge_rounding) + ',' +\n",
              "        d.source.x + ' ' + (d.target.y - options.edge_rounding) + ',' +\n",
              "        d.target.x + ' ' + d.target.y + ',' + d.target.x;\n",
              "  }\n",
              "\n",
              "  graph.append('g')\n",
              "      .attr('fill', 'none')\n",
              "      .attr('stroke-width', 1.2)\n",
              "      .selectAll('path')\n",
              "      .data(tree_struct.links())\n",
              "      .join('path')\n",
              "      .attr('d', draw_single_edge)\n",
              "      .attr(\n",
              "          'stroke', d => (d.target === d.source.children[0]) ? '#0F0' : '#F00');\n",
              "}\n",
              "\n",
              "display_tree({\"margin\": 10, \"node_x_size\": 160, \"node_y_size\": 28, \"node_x_offset\": 180, \"node_y_offset\": 33, \"font_size\": 10, \"edge_rounding\": 20, \"node_padding\": 2, \"show_plot_bounding_box\": false}, {\"value\": {\"type\": \"REGRESSION\", \"value\": 6.2502899169921875, \"num_examples\": 863.0, \"standard_deviation\": 5.111269151381664}, \"condition\": {\"type\": \"NUMERICAL_IS_HIGHER_THAN\", \"attribute\": \"SSQGGSLPSEEK\", \"threshold\": 29545.55078125}, \"children\": [{\"value\": {\"type\": \"REGRESSION\", \"value\": 4.398268222808838, \"num_examples\": 231.0, \"standard_deviation\": 3.7052433348413993}, \"condition\": {\"type\": \"NUMERICAL_IS_HIGHER_THAN\", \"attribute\": \"P02452\", \"threshold\": 66201.8515625}, \"children\": [{\"value\": {\"type\": \"REGRESSION\", \"value\": 8.15999984741211, \"num_examples\": 25.0, \"standard_deviation\": 3.9261176752614024}, \"condition\": {\"type\": \"NUMERICAL_IS_HIGHER_THAN\", \"attribute\": \"KSASDLTWDNLK\", \"threshold\": 58888.05078125}, \"children\": [{\"value\": {\"type\": \"REGRESSION\", \"value\": 3.625, \"num_examples\": 8.0, \"standard_deviation\": 2.4462982238476156}}, {\"value\": {\"type\": \"REGRESSION\", \"value\": 10.29411792755127, \"num_examples\": 17.0, \"standard_deviation\": 2.37052255054234}, \"condition\": {\"type\": \"NUMERICAL_IS_HIGHER_THAN\", \"attribute\": \"HLDSVLQQLQTEVYR\", \"threshold\": 353893.0}}]}, {\"value\": {\"type\": \"REGRESSION\", \"value\": 3.9417476654052734, \"num_examples\": 206.0, \"standard_deviation\": 3.405664164638072}, \"condition\": {\"type\": \"NUMERICAL_IS_HIGHER_THAN\", \"attribute\": \"FNKPFVFLM(UniMod_35)IEQNTK\", \"threshold\": 89611.296875}, \"children\": [{\"value\": {\"type\": \"REGRESSION\", \"value\": 6.659090995788574, \"num_examples\": 44.0, \"standard_deviation\": 3.1402314753865297}, \"condition\": {\"type\": \"NUMERICAL_IS_HIGHER_THAN\", \"attribute\": \"P01859\", \"threshold\": 2275100.0}}, {\"value\": {\"type\": \"REGRESSION\", \"value\": 3.2037036418914795, \"num_examples\": 162.0, \"standard_deviation\": 3.085487513531552}, \"condition\": {\"type\": \"NUMERICAL_IS_HIGHER_THAN\", \"attribute\": \"P08294\", \"threshold\": 941234.5}}]}]}, {\"value\": {\"type\": \"REGRESSION\", \"value\": 6.927215099334717, \"num_examples\": 632.0, \"standard_deviation\": 5.379969280583527}, \"condition\": {\"type\": \"NUMERICAL_IS_HIGHER_THAN\", \"attribute\": \"WYEIEKIPTTFENGR\", \"threshold\": 265258.0}, \"children\": [{\"value\": {\"type\": \"REGRESSION\", \"value\": 6.765650272369385, \"num_examples\": 623.0, \"standard_deviation\": 5.217544318800528}, \"condition\": {\"type\": \"NUMERICAL_IS_HIGHER_THAN\", \"attribute\": \"Q6UXB8\", \"threshold\": 36200.05078125}, \"children\": [{\"value\": {\"type\": \"REGRESSION\", \"value\": 5.906474590301514, \"num_examples\": 417.0, \"standard_deviation\": 5.012060399038561}, \"condition\": {\"type\": \"NUMERICAL_IS_HIGHER_THAN\", \"attribute\": \"P23083\", \"threshold\": 29845.55078125}}, {\"value\": {\"type\": \"REGRESSION\", \"value\": 8.504854202270508, \"num_examples\": 206.0, \"standard_deviation\": 5.192178184459768}, \"condition\": {\"type\": \"NUMERICAL_IS_HIGHER_THAN\", \"attribute\": \"QC(UniMod_4)VPTEPC(UniMod_4)EDAEDDC(UniMod_4)GNDFQC(UniMod_4)STGR\", \"threshold\": 13052.19921875}}]}, {\"value\": {\"type\": \"REGRESSION\", \"value\": 18.11111068725586, \"num_examples\": 9.0, \"standard_deviation\": 4.6054181724583785}}]}]}, \"#tree_plot_48937f57e9dc41c39676bbe10b657632\")\n",
              "</script>\n"
            ],
            "text/plain": [
              "<IPython.core.display.HTML object>"
            ]
          },
          "execution_count": 25,
          "metadata": {},
          "output_type": "execute_result"
        }
      ],
      "source": [
        "# Let us use the model for the label `updrs_1` for this purpose\n",
        "tfdf.model_plotter.plot_model_in_colab(model_dict['updrs_1'], tree_idx=0, max_depth=3)"
      ]
    },
    {
      "cell_type": "markdown",
      "id": "526a6eb6",
      "metadata": {
        "papermill": {
          "duration": 0.020822,
          "end_time": "2023-05-03T13:09:11.388601",
          "exception": false,
          "start_time": "2023-05-03T13:09:11.367779",
          "status": "completed"
        },
        "tags": [],
        "id": "526a6eb6"
      },
      "source": [
        "# Evaluate the model on the Out of bag (OOB) data and the validation dataset\n",
        "\n",
        "Before training the dataset we have manually seperated 20% of the dataset for validation named as `valid_ds`.\n",
        "\n",
        "We can also use Out of bag (OOB) score to validate our RandomForestModel.\n",
        "To train a Random Forest Model, a set of random samples from training set are choosen by the algorithm and the rest of the samples are used to finetune the model.The subset of data that is not chosen is known as Out of bag data (OOB).\n",
        "OOB score is computed on the OOB data.\n",
        "\n",
        "Read more about OOB data [here](https://developers.google.com/machine-learning/decision-forests/out-of-bag).\n",
        "\n",
        "The training logs show the Root Mean Squared Error (RMSE) evaluated on the out-of-bag dataset according to the number of trees in the model. Let us plot this.\n",
        "\n",
        "Note: Smaller values are better for this hyperparameter.\n",
        "\n",
        "Let us pick one model from `model_dict` dict and plot the OOB evaluation accuracies."
      ]
    },
    {
      "cell_type": "code",
      "execution_count": null,
      "id": "73fc2d03",
      "metadata": {
        "execution": {
          "iopub.execute_input": "2023-05-03T13:09:11.432976Z",
          "iopub.status.busy": "2023-05-03T13:09:11.432602Z",
          "iopub.status.idle": "2023-05-03T13:09:11.670783Z",
          "shell.execute_reply": "2023-05-03T13:09:11.669594Z"
        },
        "papermill": {
          "duration": 0.262956,
          "end_time": "2023-05-03T13:09:11.673246",
          "exception": false,
          "start_time": "2023-05-03T13:09:11.410290",
          "status": "completed"
        },
        "tags": [],
        "id": "73fc2d03",
        "outputId": "8b7f52b3-4459-4bb7-b90d-c32d3b73fe52"
      },
      "outputs": [
        {
          "data": {
            "image/png": "[encoded data removed]",
            "text/plain": [
              "<Figure size 640x480 with 1 Axes>"
            ]
          },
          "metadata": {},
          "output_type": "display_data"
        }
      ],
      "source": [
        "import matplotlib.pyplot as plt\n",
        "\n",
        "# Let us use the model for the label `updrs_1` for this purpose\n",
        "logs = model_dict['updrs_1'].make_inspector().training_logs()\n",
        "plt.plot([log.num_trees for log in logs], [log.evaluation.rmse for log in logs])\n",
        "plt.xlabel(\"Number of trees\")\n",
        "plt.ylabel(\"MSE (out-of-bag)\")\n",
        "plt.show()"
      ]
    },
    {
      "cell_type": "markdown",
      "id": "e24f4ca8",
      "metadata": {
        "papermill": {
          "duration": 0.021024,
          "end_time": "2023-05-03T13:09:11.715822",
          "exception": false,
          "start_time": "2023-05-03T13:09:11.694798",
          "status": "completed"
        },
        "tags": [],
        "id": "e24f4ca8"
      },
      "source": [
        "# Variable importances\n",
        "\n",
        "Variable importances generally indicate how much a feature contributes to the model predictions or quality. There are several ways to identify important features using TensorFlow Decision Forests. Let us pick one model from models dict and inspect it.\n",
        "\n",
        "Let us list the available Variable Importances for Decision Trees:"
      ]
    },
    {
      "cell_type": "code",
      "execution_count": null,
      "id": "bb7bc53a",
      "metadata": {
        "execution": {
          "iopub.execute_input": "2023-05-03T13:09:11.760092Z",
          "iopub.status.busy": "2023-05-03T13:09:11.759676Z",
          "iopub.status.idle": "2023-05-03T13:09:11.791233Z",
          "shell.execute_reply": "2023-05-03T13:09:11.789586Z"
        },
        "papermill": {
          "duration": 0.056471,
          "end_time": "2023-05-03T13:09:11.793529",
          "exception": false,
          "start_time": "2023-05-03T13:09:11.737058",
          "status": "completed"
        },
        "tags": [],
        "id": "bb7bc53a",
        "outputId": "0f290c01-8dc4-4bd5-c2a6-0eac54aef557"
      },
      "outputs": [
        {
          "name": "stdout",
          "output_type": "stream",
          "text": [
            "Available variable importances:\n",
            "\t SUM_SCORE\n",
            "\t INV_MEAN_MIN_DEPTH\n",
            "\t NUM_NODES\n",
            "\t NUM_AS_ROOT\n"
          ]
        }
      ],
      "source": [
        "# Let us use the model for the label `updrs_1` for this purpose\n",
        "inspector = model_dict['updrs_1'].make_inspector()\n",
        "\n",
        "print(f\"Available variable importances:\")\n",
        "for importance in inspector.variable_importances().keys():\n",
        "  print(\"\\t\", importance)"
      ]
    },
    {
      "cell_type": "markdown",
      "id": "bd50de3b",
      "metadata": {
        "papermill": {
          "duration": 0.021359,
          "end_time": "2023-05-03T13:09:11.837800",
          "exception": false,
          "start_time": "2023-05-03T13:09:11.816441",
          "status": "completed"
        },
        "tags": [],
        "id": "bd50de3b"
      },
      "source": [
        "As an example, let us display the important features for the Variable Importance NUM_AS_ROOT.\n",
        "\n",
        "The larger the importance score for NUM_AS_ROOT, the more impact it has on the outcome of the model for Question 1(i.e., model\\[\"0-4_1\"\\]).\n",
        "\n",
        "By default, the list is sorted from the most important to the least. From the output you can infer that the feature at the top of the list is used as the root node in most number of trees in the gradient boosted trees  than any other feature."
      ]
    },
    {
      "cell_type": "code",
      "execution_count": null,
      "id": "5dbac95a",
      "metadata": {
        "execution": {
          "iopub.execute_input": "2023-05-03T13:09:11.881980Z",
          "iopub.status.busy": "2023-05-03T13:09:11.881569Z",
          "iopub.status.idle": "2023-05-03T13:09:11.905016Z",
          "shell.execute_reply": "2023-05-03T13:09:11.904157Z"
        },
        "papermill": {
          "duration": 0.04812,
          "end_time": "2023-05-03T13:09:11.907178",
          "exception": false,
          "start_time": "2023-05-03T13:09:11.859058",
          "status": "completed"
        },
        "tags": [],
        "id": "5dbac95a",
        "outputId": "6e8aba3b-7374-40df-9cfd-9cc6294776c3"
      },
      "outputs": [
        {
          "data": {
            "text/plain": [
              "[(\"Q06481\" (1; #810), 36.0),\n",
              " (\"P04180\" (1; #703), 21.0),\n",
              " (\"P07602\" (1; #729), 17.0),\n",
              " (\"FFLC(UniMod_4)QVAGDAK\" (1; #230), 12.0),\n",
              " (\"P05060\" (1; #712), 11.0),\n",
              " (\"O60888\" (1; #638), 9.0),\n",
              " (\"DSGEGDFLAEGGGVR\" (1; #162), 8.0),\n",
              " (\"LEEQAQQIR\" (1; #475), 8.0),\n",
              " (\"NVVYTC(UniMod_4)NEGYSLIGNPVAR\" (1; #627), 8.0),\n",
              " (\"P05067\" (1; #713), 8.0),\n",
              " (\"P17174\" (1; #765), 7.0),\n",
              " (\"QQTHMLDVMQDHFSR\" (1; #888), 7.0),\n",
              " (\"TQSSLVPALTDFVR\" (1; #1060), 7.0),\n",
              " (\"EVNVSPC(UniMod_4)PTQPC(UniMod_4)QLSK\" (1; #217), 6.0),\n",
              " (\"QWAGLVEK\" (1; #897), 6.0),\n",
              " (\"SSGLVSNAPGVQIR\" (1; #988), 6.0),\n",
              " (\"WYFDVTEGK\" (1; #1163), 6.0),\n",
              " (\"AVLPTGDVIGDSAK\" (1; #84), 5.0),\n",
              " (\"AVC(UniMod_4)SQEAMTGPC(UniMod_4)R\" (1; #80), 4.0),\n",
              " (\"NLREGTC(UniMod_4)PEAPTDEC(UniMod_4)KPVK\" (1; #609), 4.0),\n",
              " (\"Q6UXB8\" (1; #829), 4.0),\n",
              " (\"KLVGYLDR\" (1; #426), 3.0),\n",
              " (\"LFGGNFAHQASVAR\" (1; #483), 3.0),\n",
              " (\"LSKELQAAQAR\" (1; #534), 3.0),\n",
              " (\"O14773\" (1; #633), 3.0),\n",
              " (\"P00736\" (1; #645), 3.0),\n",
              " (\"P36980\" (1; #785), 3.0),\n",
              " (\"VFQEPLFYEAPR\" (1; #1095), 3.0),\n",
              " (\"AATVGSLAGQPLQER\" (1; #5), 2.0),\n",
              " (\"ATEDEGSEQKIPEATNR\" (1; #71), 2.0),\n",
              " (\"DQTVSDNELQEMSNQGSK\" (1; #160), 2.0),\n",
              " (\"DSGRDYVSQFEGSALGK\" (1; #165), 2.0),\n",
              " (\"EPQVYTLPPSRDELTK\" (1; #205), 2.0),\n",
              " (\"KC(UniMod_4)STSSLLEAC(UniMod_4)TFR\" (1; #412), 2.0),\n",
              " (\"LAAAVSNFGYDLYR\" (1; #454), 2.0),\n",
              " (\"LVGYLDR\" (1; #553), 2.0),\n",
              " (\"M(UniMod_35)C(UniMod_4)PQLQQYEMHGPEGLR\" (1; #566), 2.0),\n",
              " (\"P09486\" (1; #743), 2.0),\n",
              " (\"P16070\" (1; #762), 2.0),\n",
              " (\"RPGGEPSPEGTTGQSYNQYSQR\" (1; #912), 2.0),\n",
              " (\"SC(UniMod_4)SPELQQK\" (1; #928), 2.0),\n",
              " (\"SELEEQLTPVAEETR\" (1; #938), 2.0),\n",
              " (\"TPLGDTTHTC(UniMod_4)PR\" (1; #1054), 2.0),\n",
              " (\"C(UniMod_4)VNHYGGYLC(UniMod_4)LPK\" (1; #126), 1.0),\n",
              " (\"DKLAAC(UniMod_4)LEGNC(UniMod_4)AEGLGTNYR\" (1; #145), 1.0),\n",
              " (\"DTINLLDQR\" (1; #168), 1.0),\n",
              " (\"DTVIKPLLVEPEGLEK\" (1; #170), 1.0),\n",
              " (\"FSC(UniMod_4)FQEEAPQPHYQLR\" (1; #250), 1.0),\n",
              " (\"GAQTQTEEEMTR\" (1; #271), 1.0),\n",
              " (\"GC(UniMod_4)SFLPDPYQK\" (1; #276), 1.0),\n",
              " (\"IGADFLAR\" (1; #368), 1.0),\n",
              " (\"ISYGNDALMPSLTETK\" (1; #395), 1.0),\n",
              " (\"ITTTSPWMFPSR\" (1; #398), 1.0),\n",
              " (\"KPQSAVYSTGSNGILLC(UniMod_4)EAEGEPQPTIK\" (1; #433), 1.0),\n",
              " (\"LAVYQAGAR\" (1; #463), 1.0),\n",
              " (\"LGMDGYR\" (1; #488), 1.0),\n",
              " (\"LPPTSAHGNVAEGETKPDPDVTER\" (1; #520), 1.0),\n",
              " (\"LPYTASSGLMAPR\" (1; #521), 1.0),\n",
              " (\"LQAEAFQAR\" (1; #522), 1.0),\n",
              " (\"LVWEEAMSR\" (1; #557), 1.0),\n",
              " (\"LVYPSC(UniMod_4)EEK\" (1; #558), 1.0),\n",
              " (\"MDASLGNLFAR\" (1; #577), 1.0),\n",
              " (\"NIINSDGGPYVC(UniMod_4)R\" (1; #599), 1.0),\n",
              " (\"NILTSNNIDVK\" (1; #601), 1.0),\n",
              " (\"NLQPASEYTVSLVAIKGNQESPK\" (1; #608), 1.0),\n",
              " (\"NSPLDEENLTQENQDR\" (1; #620), 1.0),\n",
              " (\"O15240\" (1; #635), 1.0),\n",
              " (\"P01834\" (1; #669), 1.0),\n",
              " (\"P02747\" (1; #685), 1.0),\n",
              " (\"P02748\" (1; #686), 1.0),\n",
              " (\"P14618\" (1; #760), 1.0),\n",
              " (\"P16035\" (1; #761), 1.0),\n",
              " (\"P16152\" (1; #763), 1.0),\n",
              " (\"P20774\" (1; #772), 1.0),\n",
              " (\"P43652\" (1; #791), 1.0),\n",
              " (\"P61916\" (1; #801), 1.0),\n",
              " (\"Q14118\" (1; #820), 1.0),\n",
              " (\"Q8IWV7\" (1; #833), 1.0),\n",
              " (\"Q92520\" (1; #837), 1.0),\n",
              " (\"QALPQVR\" (1; #862), 1.0),\n",
              " (\"QQETAAAETETR\" (1; #885), 1.0),\n",
              " (\"RYIETDPANRDR\" (1; #918), 1.0),\n",
              " (\"SC(UniMod_4)DTPPPC(UniMod_4)PR\" (1; #926), 1.0),\n",
              " (\"SDVVYTDWKK\" (1; #934), 1.0),\n",
              " (\"SLGNVIMVC(UniMod_4)R\" (1; #966), 1.0),\n",
              " (\"SSQGGSLPSEEK\" (1; #993), 1.0),\n",
              " (\"SVIPSDGPSVAC(UniMod_4)VKK\" (1; #999), 1.0),\n",
              " (\"TELLPGDRDNLAIQTR\" (1; #1017), 1.0),\n",
              " (\"TFTC(UniMod_4)TAAYPESK\" (1; #1020), 1.0),\n",
              " (\"TM(UniMod_35)QENSTPRED\" (1; #1043), 1.0),\n",
              " (\"TSPVDEKALQDQLVLVAAK\" (1; #1066), 1.0),\n",
              " (\"VQAAVGTSAAPVPSDNH\" (1; #1128), 1.0)]"
            ]
          },
          "execution_count": 28,
          "metadata": {},
          "output_type": "execute_result"
        }
      ],
      "source": [
        "# Each line is: (feature name, (index of the feature), importance score)\n",
        "inspector.variable_importances()[\"NUM_AS_ROOT\"]"
      ]
    },
    {
      "cell_type": "markdown",
      "id": "1b65d3f6",
      "metadata": {
        "papermill": {
          "duration": 0.020924,
          "end_time": "2023-05-03T13:09:11.949857",
          "exception": false,
          "start_time": "2023-05-03T13:09:11.928933",
          "status": "completed"
        },
        "tags": [],
        "id": "1b65d3f6"
      },
      "source": [
        "# Submission"
      ]
    },
    {
      "cell_type": "code",
      "execution_count": null,
      "id": "f2ac3429",
      "metadata": {
        "execution": {
          "iopub.execute_input": "2023-05-03T13:09:11.995174Z",
          "iopub.status.busy": "2023-05-03T13:09:11.994481Z",
          "iopub.status.idle": "2023-05-03T13:09:12.018830Z",
          "shell.execute_reply": "2023-05-03T13:09:12.017744Z"
        },
        "papermill": {
          "duration": 0.04991,
          "end_time": "2023-05-03T13:09:12.021260",
          "exception": false,
          "start_time": "2023-05-03T13:09:11.971350",
          "status": "completed"
        },
        "tags": [],
        "id": "f2ac3429"
      },
      "outputs": [],
      "source": [
        "import amp_pd_peptide_310\n",
        "env = amp_pd_peptide_310.make_env()   # initialize the environment\n",
        "iter_test = env.iter_test()"
      ]
    },
    {
      "cell_type": "code",
      "execution_count": null,
      "id": "8c1a9e92",
      "metadata": {
        "execution": {
          "iopub.execute_input": "2023-05-03T13:09:12.066600Z",
          "iopub.status.busy": "2023-05-03T13:09:12.066175Z",
          "iopub.status.idle": "2023-05-03T13:09:12.075556Z",
          "shell.execute_reply": "2023-05-03T13:09:12.074407Z"
        },
        "papermill": {
          "duration": 0.034637,
          "end_time": "2023-05-03T13:09:12.077711",
          "exception": false,
          "start_time": "2023-05-03T13:09:12.043074",
          "status": "completed"
        },
        "tags": [],
        "id": "8c1a9e92"
      },
      "outputs": [],
      "source": [
        "def get_predictions(test_df, test_ds, model_dict):\n",
        "\n",
        "    # Target labels\n",
        "    target = [\"updrs_1\", \"updrs_2\", \"updrs_3\", \"updrs_4\"]\n",
        "    temp = test_df[FEATURES].copy()\n",
        "\n",
        "    # Filter out all the 0 value columns before predicting\n",
        "    mask = test_df[FEATURES].sum(axis=1) != 0\n",
        "    new_test_df = temp.loc[mask]\n",
        "    test_ds = tfdf.keras.pd_dataframe_to_tf_dataset(new_test_df, task = tfdf.keras.Task.REGRESSION)\n",
        "    for u in target:\n",
        "        test_df['result_' + str(u)] = 0\n",
        "        if u != 'updrs_4':\n",
        "            print(model_dict[u])\n",
        "            test_df.loc[mask, 'result_' + str(u)] = model_dict[u].predict(test_ds)\n",
        "\n",
        "    # Format for final submission\n",
        "    result = pd.DataFrame()\n",
        "\n",
        "    for m in [0, 6, 12, 24]:\n",
        "        for u in [1, 2, 3, 4]:\n",
        "\n",
        "            temp = test_df[[\"visit_id\", \"result_updrs_\" + str(u)]].copy()\n",
        "            temp[\"prediction_id\"] = temp[\"visit_id\"] + \"_updrs_\" + str(u) + \"_plus_\" + str(m) + \"_months\"\n",
        "            temp[\"rating\"] = temp[\"result_updrs_\" + str(u)]\n",
        "            temp = temp [['prediction_id', 'rating']]\n",
        "\n",
        "            result = result.append(temp)\n",
        "    result = result.drop_duplicates(subset=['prediction_id', 'rating'])\n",
        "\n",
        "    return result"
      ]
    },
    {
      "cell_type": "code",
      "execution_count": null,
      "id": "f55d4004",
      "metadata": {
        "execution": {
          "iopub.execute_input": "2023-05-03T13:09:12.123463Z",
          "iopub.status.busy": "2023-05-03T13:09:12.122724Z",
          "iopub.status.idle": "2023-05-03T13:10:08.952791Z",
          "shell.execute_reply": "2023-05-03T13:10:08.951331Z"
        },
        "papermill": {
          "duration": 56.857338,
          "end_time": "2023-05-03T13:10:08.956819",
          "exception": false,
          "start_time": "2023-05-03T13:09:12.099481",
          "status": "completed"
        },
        "tags": [],
        "id": "f55d4004",
        "outputId": "a799fcf2-0220-4f3b-b1cb-dbb21edea5f2"
      },
      "outputs": [
        {
          "name": "stdout",
          "output_type": "stream",
          "text": [
            "This version of the API is not optimized and should not be used to estimate the runtime of your code on the hidden test set.\n",
            "<tensorflow_decision_forests.keras.RandomForestModel object at 0x7ad3d87398a0>\n",
            "1/1 [==============================] - 9s 9s/step\n",
            "<tensorflow_decision_forests.keras.RandomForestModel object at 0x7ad3d6e123e0>\n",
            "1/1 [==============================] - 9s 9s/step\n",
            "<tensorflow_decision_forests.keras.RandomForestModel object at 0x7ad3924fba00>\n",
            "1/1 [==============================] - 8s 8s/step\n",
            "                    prediction_id     rating\n",
            "0    3342_0_updrs_1_plus_0_months   0.000000\n",
            "4   50423_0_updrs_1_plus_0_months   9.433546\n",
            "0    3342_0_updrs_2_plus_0_months   0.000000\n",
            "4   50423_0_updrs_2_plus_0_months   8.969238\n",
            "0    3342_0_updrs_3_plus_0_months   0.000000\n",
            "4   50423_0_updrs_3_plus_0_months  22.385712\n",
            "0    3342_0_updrs_4_plus_0_months   0.000000\n",
            "4   50423_0_updrs_4_plus_0_months   0.000000\n",
            "0    3342_0_updrs_1_plus_6_months   0.000000\n",
            "4   50423_0_updrs_1_plus_6_months   9.433546\n",
            "0    3342_0_updrs_2_plus_6_months   0.000000\n",
            "4   50423_0_updrs_2_plus_6_months   8.969238\n",
            "0    3342_0_updrs_3_plus_6_months   0.000000\n",
            "4   50423_0_updrs_3_plus_6_months  22.385712\n",
            "0    3342_0_updrs_4_plus_6_months   0.000000\n",
            "4   50423_0_updrs_4_plus_6_months   0.000000\n",
            "0   3342_0_updrs_1_plus_12_months   0.000000\n",
            "4  50423_0_updrs_1_plus_12_months   9.433546\n",
            "0   3342_0_updrs_2_plus_12_months   0.000000\n",
            "4  50423_0_updrs_2_plus_12_months   8.969238\n",
            "0   3342_0_updrs_3_plus_12_months   0.000000\n",
            "4  50423_0_updrs_3_plus_12_months  22.385712\n",
            "0   3342_0_updrs_4_plus_12_months   0.000000\n",
            "4  50423_0_updrs_4_plus_12_months   0.000000\n",
            "0   3342_0_updrs_1_plus_24_months   0.000000\n",
            "4  50423_0_updrs_1_plus_24_months   9.433546\n",
            "0   3342_0_updrs_2_plus_24_months   0.000000\n",
            "4  50423_0_updrs_2_plus_24_months   8.969238\n",
            "0   3342_0_updrs_3_plus_24_months   0.000000\n",
            "4  50423_0_updrs_3_plus_24_months  22.385712\n",
            "0   3342_0_updrs_4_plus_24_months   0.000000\n",
            "4  50423_0_updrs_4_plus_24_months   0.000000\n"
          ]
        },
        {
          "name": "stderr",
          "output_type": "stream",
          "text": [
            "/tmp/ipykernel_20/2111800362.py:28: FutureWarning: The frame.append method is deprecated and will be removed from pandas in a future version. Use pandas.concat instead.\n",
            "  result = result.append(temp)\n",
            "/tmp/ipykernel_20/2111800362.py:28: FutureWarning: The frame.append method is deprecated and will be removed from pandas in a future version. Use pandas.concat instead.\n",
            "  result = result.append(temp)\n",
            "/tmp/ipykernel_20/2111800362.py:28: FutureWarning: The frame.append method is deprecated and will be removed from pandas in a future version. Use pandas.concat instead.\n",
            "  result = result.append(temp)\n",
            "/tmp/ipykernel_20/2111800362.py:28: FutureWarning: The frame.append method is deprecated and will be removed from pandas in a future version. Use pandas.concat instead.\n",
            "  result = result.append(temp)\n",
            "/tmp/ipykernel_20/2111800362.py:28: FutureWarning: The frame.append method is deprecated and will be removed from pandas in a future version. Use pandas.concat instead.\n",
            "  result = result.append(temp)\n",
            "/tmp/ipykernel_20/2111800362.py:28: FutureWarning: The frame.append method is deprecated and will be removed from pandas in a future version. Use pandas.concat instead.\n",
            "  result = result.append(temp)\n",
            "/tmp/ipykernel_20/2111800362.py:28: FutureWarning: The frame.append method is deprecated and will be removed from pandas in a future version. Use pandas.concat instead.\n",
            "  result = result.append(temp)\n",
            "/tmp/ipykernel_20/2111800362.py:28: FutureWarning: The frame.append method is deprecated and will be removed from pandas in a future version. Use pandas.concat instead.\n",
            "  result = result.append(temp)\n",
            "/tmp/ipykernel_20/2111800362.py:28: FutureWarning: The frame.append method is deprecated and will be removed from pandas in a future version. Use pandas.concat instead.\n",
            "  result = result.append(temp)\n",
            "/tmp/ipykernel_20/2111800362.py:28: FutureWarning: The frame.append method is deprecated and will be removed from pandas in a future version. Use pandas.concat instead.\n",
            "  result = result.append(temp)\n",
            "/tmp/ipykernel_20/2111800362.py:28: FutureWarning: The frame.append method is deprecated and will be removed from pandas in a future version. Use pandas.concat instead.\n",
            "  result = result.append(temp)\n",
            "/tmp/ipykernel_20/2111800362.py:28: FutureWarning: The frame.append method is deprecated and will be removed from pandas in a future version. Use pandas.concat instead.\n",
            "  result = result.append(temp)\n",
            "/tmp/ipykernel_20/2111800362.py:28: FutureWarning: The frame.append method is deprecated and will be removed from pandas in a future version. Use pandas.concat instead.\n",
            "  result = result.append(temp)\n",
            "/tmp/ipykernel_20/2111800362.py:28: FutureWarning: The frame.append method is deprecated and will be removed from pandas in a future version. Use pandas.concat instead.\n",
            "  result = result.append(temp)\n",
            "/tmp/ipykernel_20/2111800362.py:28: FutureWarning: The frame.append method is deprecated and will be removed from pandas in a future version. Use pandas.concat instead.\n",
            "  result = result.append(temp)\n",
            "/tmp/ipykernel_20/2111800362.py:28: FutureWarning: The frame.append method is deprecated and will be removed from pandas in a future version. Use pandas.concat instead.\n",
            "  result = result.append(temp)\n"
          ]
        },
        {
          "name": "stdout",
          "output_type": "stream",
          "text": [
            "<tensorflow_decision_forests.keras.RandomForestModel object at 0x7ad3d87398a0>\n",
            "1/1 [==============================] - 9s 9s/step\n",
            "<tensorflow_decision_forests.keras.RandomForestModel object at 0x7ad3d6e123e0>\n",
            "1/1 [==============================] - 8s 8s/step\n",
            "<tensorflow_decision_forests.keras.RandomForestModel object at 0x7ad3924fba00>\n",
            "1/1 [==============================] - 8s 8s/step\n",
            "                    prediction_id     rating\n",
            "0    3342_6_updrs_1_plus_0_months   5.328362\n",
            "4   50423_6_updrs_1_plus_0_months   5.183081\n",
            "0    3342_6_updrs_2_plus_0_months   5.417018\n",
            "4   50423_6_updrs_2_plus_0_months   3.474087\n",
            "0    3342_6_updrs_3_plus_0_months  15.704442\n",
            "4   50423_6_updrs_3_plus_0_months  14.068862\n",
            "0    3342_6_updrs_4_plus_0_months   0.000000\n",
            "4   50423_6_updrs_4_plus_0_months   0.000000\n",
            "0    3342_6_updrs_1_plus_6_months   5.328362\n",
            "4   50423_6_updrs_1_plus_6_months   5.183081\n",
            "0    3342_6_updrs_2_plus_6_months   5.417018\n",
            "4   50423_6_updrs_2_plus_6_months   3.474087\n",
            "0    3342_6_updrs_3_plus_6_months  15.704442\n",
            "4   50423_6_updrs_3_plus_6_months  14.068862\n",
            "0    3342_6_updrs_4_plus_6_months   0.000000\n",
            "4   50423_6_updrs_4_plus_6_months   0.000000\n",
            "0   3342_6_updrs_1_plus_12_months   5.328362\n",
            "4  50423_6_updrs_1_plus_12_months   5.183081\n",
            "0   3342_6_updrs_2_plus_12_months   5.417018\n",
            "4  50423_6_updrs_2_plus_12_months   3.474087\n",
            "0   3342_6_updrs_3_plus_12_months  15.704442\n",
            "4  50423_6_updrs_3_plus_12_months  14.068862\n",
            "0   3342_6_updrs_4_plus_12_months   0.000000\n",
            "4  50423_6_updrs_4_plus_12_months   0.000000\n",
            "0   3342_6_updrs_1_plus_24_months   5.328362\n",
            "4  50423_6_updrs_1_plus_24_months   5.183081\n",
            "0   3342_6_updrs_2_plus_24_months   5.417018\n",
            "4  50423_6_updrs_2_plus_24_months   3.474087\n",
            "0   3342_6_updrs_3_plus_24_months  15.704442\n",
            "4  50423_6_updrs_3_plus_24_months  14.068862\n",
            "0   3342_6_updrs_4_plus_24_months   0.000000\n",
            "4  50423_6_updrs_4_plus_24_months   0.000000\n"
          ]
        },
        {
          "name": "stderr",
          "output_type": "stream",
          "text": [
            "/tmp/ipykernel_20/2111800362.py:28: FutureWarning: The frame.append method is deprecated and will be removed from pandas in a future version. Use pandas.concat instead.\n",
            "  result = result.append(temp)\n",
            "/tmp/ipykernel_20/2111800362.py:28: FutureWarning: The frame.append method is deprecated and will be removed from pandas in a future version. Use pandas.concat instead.\n",
            "  result = result.append(temp)\n",
            "/tmp/ipykernel_20/2111800362.py:28: FutureWarning: The frame.append method is deprecated and will be removed from pandas in a future version. Use pandas.concat instead.\n",
            "  result = result.append(temp)\n",
            "/tmp/ipykernel_20/2111800362.py:28: FutureWarning: The frame.append method is deprecated and will be removed from pandas in a future version. Use pandas.concat instead.\n",
            "  result = result.append(temp)\n",
            "/tmp/ipykernel_20/2111800362.py:28: FutureWarning: The frame.append method is deprecated and will be removed from pandas in a future version. Use pandas.concat instead.\n",
            "  result = result.append(temp)\n",
            "/tmp/ipykernel_20/2111800362.py:28: FutureWarning: The frame.append method is deprecated and will be removed from pandas in a future version. Use pandas.concat instead.\n",
            "  result = result.append(temp)\n",
            "/tmp/ipykernel_20/2111800362.py:28: FutureWarning: The frame.append method is deprecated and will be removed from pandas in a future version. Use pandas.concat instead.\n",
            "  result = result.append(temp)\n",
            "/tmp/ipykernel_20/2111800362.py:28: FutureWarning: The frame.append method is deprecated and will be removed from pandas in a future version. Use pandas.concat instead.\n",
            "  result = result.append(temp)\n",
            "/tmp/ipykernel_20/2111800362.py:28: FutureWarning: The frame.append method is deprecated and will be removed from pandas in a future version. Use pandas.concat instead.\n",
            "  result = result.append(temp)\n",
            "/tmp/ipykernel_20/2111800362.py:28: FutureWarning: The frame.append method is deprecated and will be removed from pandas in a future version. Use pandas.concat instead.\n",
            "  result = result.append(temp)\n",
            "/tmp/ipykernel_20/2111800362.py:28: FutureWarning: The frame.append method is deprecated and will be removed from pandas in a future version. Use pandas.concat instead.\n",
            "  result = result.append(temp)\n",
            "/tmp/ipykernel_20/2111800362.py:28: FutureWarning: The frame.append method is deprecated and will be removed from pandas in a future version. Use pandas.concat instead.\n",
            "  result = result.append(temp)\n",
            "/tmp/ipykernel_20/2111800362.py:28: FutureWarning: The frame.append method is deprecated and will be removed from pandas in a future version. Use pandas.concat instead.\n",
            "  result = result.append(temp)\n",
            "/tmp/ipykernel_20/2111800362.py:28: FutureWarning: The frame.append method is deprecated and will be removed from pandas in a future version. Use pandas.concat instead.\n",
            "  result = result.append(temp)\n",
            "/tmp/ipykernel_20/2111800362.py:28: FutureWarning: The frame.append method is deprecated and will be removed from pandas in a future version. Use pandas.concat instead.\n",
            "  result = result.append(temp)\n",
            "/tmp/ipykernel_20/2111800362.py:28: FutureWarning: The frame.append method is deprecated and will be removed from pandas in a future version. Use pandas.concat instead.\n",
            "  result = result.append(temp)\n"
          ]
        }
      ],
      "source": [
        "# Reference: https://www.kaggle.com/code/xarispanagiotopoulos/linearregression-xgb/notebook\n",
        "\n",
        "for (test, test_peptides, test_proteins, sample_submission) in iter_test:\n",
        "    pro_pep_df = prepare_dataset(test_proteins, test_peptides)\n",
        "\n",
        "\n",
        "    test_proteins = test_proteins.pivot(index=['visit_id', 'visit_month', 'patient_id'],\n",
        "              columns='UniProt', values='NPX').reset_index().rename_axis(None, axis=1).drop(columns=['visit_month', 'patient_id'])\n",
        "    merged_df = test.merge(test_proteins, how='left', on='visit_id')\n",
        "\n",
        "    test_df = test.merge(pro_pep_df, how='left', on='visit_id')\n",
        "\n",
        "    # Add all the missing columns from FEATURES list and set the values as 0\n",
        "    for col in FEATURES:\n",
        "        if col not in test_df.columns:\n",
        "            test_df[col] = 0\n",
        "    test_df = test_df[['visit_id', 'patient_id'] + FEATURES]\n",
        "\n",
        "    test_ds = tfdf.keras.pd_dataframe_to_tf_dataset(test_df, task = tfdf.keras.Task.REGRESSION)\n",
        "    result = get_predictions(test_df, valid_ds, model_dict)\n",
        "    print(result)\n",
        "\n",
        "    env.predict(result)"
      ]
    }
  ],
  "metadata": {
    "kernelspec": {
      "display_name": "Python 3",
      "language": "python",
      "name": "python3"
    },
    "language_info": {
      "codemirror_mode": {
        "name": "ipython",
        "version": 3
      },
      "file_extension": ".py",
      "mimetype": "text/x-python",
      "name": "python",
      "nbconvert_exporter": "python",
      "pygments_lexer": "ipython3",
      "version": "3.10.10"
    },
    "papermill": {
      "default_parameters": {},
      "duration": 345.820389,
      "end_time": "2023-05-03T13:10:12.372756",
      "environment_variables": {},
      "exception": null,
      "input_path": "__notebook__.ipynb",
      "output_path": "__notebook__.ipynb",
      "parameters": {},
      "start_time": "2023-05-03T13:04:26.552367",
      "version": "2.4.0"
    },
    "colab": {
      "provenance": []
    }
  },
  "nbformat": 4,
  "nbformat_minor": 5
}